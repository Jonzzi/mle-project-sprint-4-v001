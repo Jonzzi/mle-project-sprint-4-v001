{
 "cells": [
  {
   "cell_type": "markdown",
   "id": "f4095ae4-7294-4b28-853e-88d235002c97",
   "metadata": {},
   "source": [
    "# Инициализация"
   ]
  },
  {
   "cell_type": "markdown",
   "id": "2f2318d2-9df8-4911-915e-15b725c44f8a",
   "metadata": {},
   "source": [
    "Загружаем библиотеки необходимые для выполнения кода ноутбука."
   ]
  },
  {
   "cell_type": "code",
   "execution_count": 1,
   "id": "662d04e7-1b0b-4e4a-9ddf-4526d7fef119",
   "metadata": {},
   "outputs": [],
   "source": [
    "import logging\n",
    "from tqdm import tqdm\n",
    "import matplotlib.pyplot as plt\n",
    "import numpy as np\n",
    "import pandas as pd"
   ]
  },
  {
   "cell_type": "code",
   "execution_count": 2,
   "id": "45f7a677-bb89-4fd7-b1b0-4909952c032f",
   "metadata": {},
   "outputs": [],
   "source": [
    "from sklearn.preprocessing import LabelEncoder\n",
    "import pickle\n",
    "import boto3\n",
    "import os\n",
    "from dotenv import load_dotenv"
   ]
  },
  {
   "cell_type": "code",
   "execution_count": 3,
   "id": "8950afc1-2299-45c9-9754-18727e18b248",
   "metadata": {},
   "outputs": [],
   "source": [
    "import datetime\n",
    "from sklearn.preprocessing import MinMaxScaler\n",
    "from sklearn.metrics import mean_squared_error, mean_absolute_error"
   ]
  },
  {
   "cell_type": "code",
   "execution_count": 4,
   "id": "3ea54478-4110-4588-ab72-3c9fa9ea9a6a",
   "metadata": {},
   "outputs": [],
   "source": [
    "from surprise import Dataset, Reader\n",
    "from surprise import SVD\n",
    "from surprise import accuracy"
   ]
  },
  {
   "cell_type": "code",
   "execution_count": 5,
   "id": "576ef06b-3e9d-43bc-a672-6a21c829343c",
   "metadata": {},
   "outputs": [
    {
     "data": {
      "text/plain": [
       "True"
      ]
     },
     "execution_count": 5,
     "metadata": {},
     "output_type": "execute_result"
    }
   ],
   "source": [
    "load_dotenv()"
   ]
  },
  {
   "cell_type": "code",
   "execution_count": 6,
   "id": "4889a76b-cf71-454d-905c-bee1d6e1313d",
   "metadata": {},
   "outputs": [],
   "source": [
    "%matplotlib inline\n",
    "%config InlineBackend.figure_format = 'png'\n",
    "%config InlineBackend.figure_format = 'retina'"
   ]
  },
  {
   "cell_type": "code",
   "execution_count": 7,
   "id": "2d8c991f-f350-4101-8667-77f29f34e70b",
   "metadata": {},
   "outputs": [],
   "source": [
    "def get_session_student():\n",
    "    session = boto3.session.Session()\n",
    " \n",
    "    return session.client(\n",
    "        service_name='s3',\n",
    "        endpoint_url='https://storage.yandexcloud.net',\n",
    "        aws_access_key_id=os.getenv(\"AWS_ACCESS_KEY_ID\"),\n",
    "        aws_secret_access_key=os.getenv(\"AWS_SECRET_ACCESS_KEY\")\n",
    "    )"
   ]
  },
  {
   "cell_type": "markdown",
   "id": "bf80fbc5-b660-4fac-8fbb-a5cae77313b3",
   "metadata": {},
   "source": [
    "# === ЭТАП 1 ==="
   ]
  },
  {
   "cell_type": "markdown",
   "id": "5263a8b3-fe99-4204-8a2e-105182792c11",
   "metadata": {},
   "source": [
    "# Загрузка первичных данных"
   ]
  },
  {
   "cell_type": "markdown",
   "id": "1b54a6a5-1656-4e3c-99d1-49dc39451d33",
   "metadata": {},
   "source": [
    "Загружаем первичные данные из файлов:\n",
    "- tracks.parquet\n",
    "- catalog_names.parquet\n",
    "- interactions.parquet"
   ]
  },
  {
   "cell_type": "code",
   "execution_count": 22,
   "id": "5d4b8961-3f35-4e58-9d6b-3e2dbd2c4224",
   "metadata": {},
   "outputs": [],
   "source": [
    "tracks = pd.read_parquet(\"tracks.parquet\")"
   ]
  },
  {
   "cell_type": "code",
   "execution_count": 23,
   "id": "3274790e-9b35-43f5-a889-afca11551c2c",
   "metadata": {},
   "outputs": [],
   "source": [
    "catalog_names = pd.read_parquet(\"catalog_names.parquet\")"
   ]
  },
  {
   "cell_type": "code",
   "execution_count": 24,
   "id": "35e0be86-cd23-4510-8012-a8837bb37714",
   "metadata": {},
   "outputs": [],
   "source": [
    "interactions = pd.read_parquet(\"interactions.parquet\")"
   ]
  },
  {
   "cell_type": "markdown",
   "id": "e8f2a1f7-a05f-4f39-af90-5f4018aa6f9d",
   "metadata": {},
   "source": [
    "# Обзор данных"
   ]
  },
  {
   "cell_type": "markdown",
   "id": "46a85307-896c-4fac-9fcf-f0dffa90889e",
   "metadata": {},
   "source": [
    "Проверяем данные, есть ли с ними явные проблемы.\n",
    "* Нужно ли изменить тип идентификаторов?\n",
    "* Есть ли треки с неизвестными исполнителями, альбомами, жанрами?"
   ]
  },
  {
   "cell_type": "markdown",
   "id": "b6fc244d-0271-4857-ab05-fe999d3499e3",
   "metadata": {},
   "source": [
    "### tracks (Данные о треках)\n",
    "* track_id — идентификатор музыкального трека;\n",
    "* albums — список идентификаторов альбомов, содержащих трек;\n",
    "* artists — список идентификаторов исполнителей трека;\n",
    "* genres — список идентификаторов жанров, к которым принадлежит трек."
   ]
  },
  {
   "cell_type": "code",
   "execution_count": 6,
   "id": "b21206a1-650f-4dd3-ab1d-aa7c1834fc4a",
   "metadata": {},
   "outputs": [
    {
     "name": "stdout",
     "output_type": "stream",
     "text": [
      "<class 'pandas.core.frame.DataFrame'>\n",
      "RangeIndex: 1000000 entries, 0 to 999999\n",
      "Data columns (total 4 columns):\n",
      " #   Column    Non-Null Count    Dtype \n",
      "---  ------    --------------    ----- \n",
      " 0   track_id  1000000 non-null  int64 \n",
      " 1   albums    1000000 non-null  object\n",
      " 2   artists   1000000 non-null  object\n",
      " 3   genres    1000000 non-null  object\n",
      "dtypes: int64(1), object(3)\n",
      "memory usage: 30.5+ MB\n"
     ]
    }
   ],
   "source": [
    "tracks.info()"
   ]
  },
  {
   "cell_type": "code",
   "execution_count": 7,
   "id": "a9e222c4-ae62-464c-a888-aaf64780b3f3",
   "metadata": {},
   "outputs": [
    {
     "data": {
      "text/html": [
       "<div>\n",
       "<style scoped>\n",
       "    .dataframe tbody tr th:only-of-type {\n",
       "        vertical-align: middle;\n",
       "    }\n",
       "\n",
       "    .dataframe tbody tr th {\n",
       "        vertical-align: top;\n",
       "    }\n",
       "\n",
       "    .dataframe thead th {\n",
       "        text-align: right;\n",
       "    }\n",
       "</style>\n",
       "<table border=\"1\" class=\"dataframe\">\n",
       "  <thead>\n",
       "    <tr style=\"text-align: right;\">\n",
       "      <th></th>\n",
       "      <th>track_id</th>\n",
       "      <th>albums</th>\n",
       "      <th>artists</th>\n",
       "      <th>genres</th>\n",
       "    </tr>\n",
       "  </thead>\n",
       "  <tbody>\n",
       "    <tr>\n",
       "      <th>883695</th>\n",
       "      <td>72798786</td>\n",
       "      <td>[12565238]</td>\n",
       "      <td>[61429]</td>\n",
       "      <td>[50]</td>\n",
       "    </tr>\n",
       "    <tr>\n",
       "      <th>990174</th>\n",
       "      <td>96216714</td>\n",
       "      <td>[19700453]</td>\n",
       "      <td>[10172835]</td>\n",
       "      <td>[11, 20]</td>\n",
       "    </tr>\n",
       "    <tr>\n",
       "      <th>788083</th>\n",
       "      <td>61240199</td>\n",
       "      <td>[9537522, 10624989, 10625059, 12225096, 125029...</td>\n",
       "      <td>[3024812]</td>\n",
       "      <td>[11]</td>\n",
       "    </tr>\n",
       "  </tbody>\n",
       "</table>\n",
       "</div>"
      ],
      "text/plain": [
       "        track_id                                             albums  \\\n",
       "883695  72798786                                         [12565238]   \n",
       "990174  96216714                                         [19700453]   \n",
       "788083  61240199  [9537522, 10624989, 10625059, 12225096, 125029...   \n",
       "\n",
       "           artists    genres  \n",
       "883695     [61429]      [50]  \n",
       "990174  [10172835]  [11, 20]  \n",
       "788083   [3024812]      [11]  "
      ]
     },
     "execution_count": 7,
     "metadata": {},
     "output_type": "execute_result"
    }
   ],
   "source": [
    "tracks.sample(3)"
   ]
  },
  {
   "cell_type": "code",
   "execution_count": 8,
   "id": "33c37fd3-b44b-4edc-847f-5fc6d7429a7a",
   "metadata": {},
   "outputs": [
    {
     "name": "stdout",
     "output_type": "stream",
     "text": [
      "<class 'numpy.ndarray'>\n",
      "<class 'numpy.ndarray'>\n",
      "<class 'numpy.ndarray'>\n"
     ]
    }
   ],
   "source": [
    "# тип массивов\n",
    "print(type(tracks.loc[0, 'albums']))\n",
    "print(type(tracks.loc[0, 'artists']))\n",
    "print(type(tracks.loc[0, 'genres']))"
   ]
  },
  {
   "cell_type": "code",
   "execution_count": 9,
   "id": "13ca91b9-8364-41c4-b414-157e1745f9f2",
   "metadata": {},
   "outputs": [
    {
     "name": "stdout",
     "output_type": "stream",
     "text": [
      "<class 'numpy.int64'>\n",
      "<class 'numpy.int64'>\n",
      "<class 'numpy.int64'>\n"
     ]
    }
   ],
   "source": [
    "# тип элементов массивов\n",
    "print(type(tracks.loc[0, 'albums'][0]))\n",
    "print(type(tracks.loc[0, 'artists'][0]))\n",
    "print(type(tracks.loc[0, 'genres'][0]))"
   ]
  },
  {
   "cell_type": "code",
   "execution_count": 10,
   "id": "4fc6a6e3-c8d9-44a4-a718-c79644797ace",
   "metadata": {},
   "outputs": [],
   "source": [
    "# функция для подсчета количества элементов\n",
    "def len_list(l):\n",
    "    return l.shape[0]"
   ]
  },
  {
   "cell_type": "code",
   "execution_count": 11,
   "id": "1d8daeb0-0cc9-40d6-bfa5-d6d8dfcab8ce",
   "metadata": {},
   "outputs": [],
   "source": [
    "# вычислим длины массивов\n",
    "tracks['n_albums'] = tracks['albums'].apply(len_list)\n",
    "tracks['n_artists'] = tracks['artists'].apply(len_list)\n",
    "tracks['n_genres'] = tracks['genres'].apply(len_list)"
   ]
  },
  {
   "cell_type": "code",
   "execution_count": 12,
   "id": "d49b5989-70b7-4131-acc4-80bac574350b",
   "metadata": {},
   "outputs": [
    {
     "name": "stdout",
     "output_type": "stream",
     "text": [
      "Кол-во записей нулевой длины в поле albums: 18\n",
      "Кол-во записей нулевой длины в поле artists: 15369\n",
      "Кол-во записей нулевой длины в поле genres: 3687\n"
     ]
    }
   ],
   "source": [
    "print('Кол-во записей нулевой длины в поле albums:', tracks[tracks['n_albums']==0]['track_id'].count())\n",
    "print('Кол-во записей нулевой длины в поле artists:', tracks[tracks['n_artists']==0]['track_id'].count())\n",
    "print('Кол-во записей нулевой длины в поле genres:', tracks[tracks['n_genres']==0]['track_id'].count())"
   ]
  },
  {
   "cell_type": "code",
   "execution_count": 13,
   "id": "09eb3311-e68e-4fe3-af3c-8d734d90351e",
   "metadata": {},
   "outputs": [],
   "source": [
    "tracks = tracks.query('n_albums > 0 and n_artists > 0 and n_genres > 0').reset_index(drop=True)"
   ]
  },
  {
   "cell_type": "code",
   "execution_count": 14,
   "id": "afc70633-c46b-4f3b-8e06-2e3659d236f1",
   "metadata": {},
   "outputs": [
    {
     "name": "stdout",
     "output_type": "stream",
     "text": [
      "<class 'pandas.core.frame.DataFrame'>\n",
      "RangeIndex: 980977 entries, 0 to 980976\n",
      "Data columns (total 7 columns):\n",
      " #   Column     Non-Null Count   Dtype \n",
      "---  ------     --------------   ----- \n",
      " 0   track_id   980977 non-null  int64 \n",
      " 1   albums     980977 non-null  object\n",
      " 2   artists    980977 non-null  object\n",
      " 3   genres     980977 non-null  object\n",
      " 4   n_albums   980977 non-null  int64 \n",
      " 5   n_artists  980977 non-null  int64 \n",
      " 6   n_genres   980977 non-null  int64 \n",
      "dtypes: int64(4), object(3)\n",
      "memory usage: 52.4+ MB\n"
     ]
    }
   ],
   "source": [
    "tracks.info()"
   ]
  },
  {
   "cell_type": "code",
   "execution_count": 15,
   "id": "91e5424a-a7fb-4ec1-aa75-199922afbb33",
   "metadata": {},
   "outputs": [
    {
     "name": "stdout",
     "output_type": "stream",
     "text": [
      "Доля удаленных записей: 1.9%\n"
     ]
    }
   ],
   "source": [
    "print(f'Доля удаленных записей: {np.round(100 * (1000000 - 980977) / 1000000, 2)}%')"
   ]
  },
  {
   "cell_type": "markdown",
   "id": "1571a86e-6cd2-450e-96cf-e0927e76eba9",
   "metadata": {},
   "source": [
    "Проблемв в tracks присутствуют:\n",
    "* пропусков нет, но есть записи с нулевым количеством элементов (самое большое их количество в поле artists - но это всего-лишь 1,9% от общего их числа и лучше удалить такие треки из рекомендательной базы чтобы улучшить ее качество;\n",
    "* типы корректные."
   ]
  },
  {
   "cell_type": "markdown",
   "id": "3e51bfcc-4c09-40e3-8f04-7cd35abc1ada",
   "metadata": {},
   "source": [
    "### catalog_names (Имена артистов, названия альбомов, треков и жанров )\n",
    "* id — идентификатор одной из каталожных единиц (трека, альбома, исполнителя, жанра);\n",
    "* type — тип идентификатора;\n",
    "* name — имя (название) каталожной единицы."
   ]
  },
  {
   "cell_type": "code",
   "execution_count": 16,
   "id": "c9f8f17e-9b56-4f5a-a463-f694a993effb",
   "metadata": {},
   "outputs": [
    {
     "name": "stdout",
     "output_type": "stream",
     "text": [
      "<class 'pandas.core.frame.DataFrame'>\n",
      "RangeIndex: 1812471 entries, 0 to 1812470\n",
      "Data columns (total 3 columns):\n",
      " #   Column  Dtype \n",
      "---  ------  ----- \n",
      " 0   id      int64 \n",
      " 1   type    object\n",
      " 2   name    object\n",
      "dtypes: int64(1), object(2)\n",
      "memory usage: 41.5+ MB\n"
     ]
    }
   ],
   "source": [
    "catalog_names.info()"
   ]
  },
  {
   "cell_type": "code",
   "execution_count": 17,
   "id": "62e9b6ba-41bd-4d9b-aba2-d642d5acba87",
   "metadata": {},
   "outputs": [
    {
     "data": {
      "text/html": [
       "<div>\n",
       "<style scoped>\n",
       "    .dataframe tbody tr th:only-of-type {\n",
       "        vertical-align: middle;\n",
       "    }\n",
       "\n",
       "    .dataframe tbody tr th {\n",
       "        vertical-align: top;\n",
       "    }\n",
       "\n",
       "    .dataframe thead th {\n",
       "        text-align: right;\n",
       "    }\n",
       "</style>\n",
       "<table border=\"1\" class=\"dataframe\">\n",
       "  <thead>\n",
       "    <tr style=\"text-align: right;\">\n",
       "      <th></th>\n",
       "      <th>id</th>\n",
       "      <th>type</th>\n",
       "      <th>name</th>\n",
       "    </tr>\n",
       "  </thead>\n",
       "  <tbody>\n",
       "    <tr>\n",
       "      <th>121037</th>\n",
       "      <td>1898816</td>\n",
       "      <td>album</td>\n",
       "      <td>50 x Chopin</td>\n",
       "    </tr>\n",
       "    <tr>\n",
       "      <th>1336296</th>\n",
       "      <td>36284179</td>\n",
       "      <td>track</td>\n",
       "      <td>Sun In The Winter</td>\n",
       "    </tr>\n",
       "    <tr>\n",
       "      <th>298345</th>\n",
       "      <td>4865820</td>\n",
       "      <td>album</td>\n",
       "      <td>U Lied to Me</td>\n",
       "    </tr>\n",
       "  </tbody>\n",
       "</table>\n",
       "</div>"
      ],
      "text/plain": [
       "               id   type               name\n",
       "121037    1898816  album        50 x Chopin\n",
       "1336296  36284179  track  Sun In The Winter\n",
       "298345    4865820  album       U Lied to Me"
      ]
     },
     "execution_count": 17,
     "metadata": {},
     "output_type": "execute_result"
    }
   ],
   "source": [
    "catalog_names.sample(3)"
   ]
  },
  {
   "cell_type": "code",
   "execution_count": 18,
   "id": "e7af3c6f-ec65-4421-8172-77c04d11296e",
   "metadata": {},
   "outputs": [
    {
     "data": {
      "text/plain": [
       "array(['album', 'artist', 'genre', 'track'], dtype=object)"
      ]
     },
     "execution_count": 18,
     "metadata": {},
     "output_type": "execute_result"
    }
   ],
   "source": [
    "catalog_names['type'].unique()"
   ]
  },
  {
   "cell_type": "code",
   "execution_count": 19,
   "id": "49044ca3-0dc8-4f84-8d5b-b037abb0dd51",
   "metadata": {},
   "outputs": [
    {
     "name": "stdout",
     "output_type": "stream",
     "text": [
      "Кол-во пропусков в поле albums: 0\n",
      "Кол-во пропусков в поле type: 0\n",
      "Кол-во пропусков в поле name: 0\n"
     ]
    }
   ],
   "source": [
    "# почему-то тут не выдается информация о количестве записей, проверим по-другому\n",
    "print('Кол-во пропусков в поле albums:', np.sum(catalog_names['id'].isnull()))\n",
    "print('Кол-во пропусков в поле type:', np.sum(catalog_names['type'].isnull()))\n",
    "print('Кол-во пропусков в поле name:', np.sum(catalog_names['name'].isnull()))"
   ]
  },
  {
   "cell_type": "code",
   "execution_count": 20,
   "id": "c5009cc9-cced-4a86-8120-849b6b570d22",
   "metadata": {},
   "outputs": [
    {
     "name": "stdout",
     "output_type": "stream",
     "text": [
      "Кол-во нулей в поле id: 1\n",
      "Кол-во пустых записей в поле track_id: 0\n",
      "Кол-во пустых записей в поле track_seq: 0\n"
     ]
    }
   ],
   "source": [
    "print('Кол-во нулей в поле id:', catalog_names[catalog_names['id']==0]['id'].count())\n",
    "print('Кол-во пустых записей в поле track_id:', catalog_names[catalog_names['type']=='']['id'].count())\n",
    "print('Кол-во пустых записей в поле track_seq:', catalog_names[catalog_names['name']=='']['id'].count())"
   ]
  },
  {
   "cell_type": "code",
   "execution_count": 21,
   "id": "eca4e74b-282a-43c2-990c-f253c6adc9b8",
   "metadata": {},
   "outputs": [],
   "source": [
    "# скореее всего, ноль в в поле id корректный, т.к. он всего один"
   ]
  },
  {
   "cell_type": "markdown",
   "id": "5c0e83d3-cc87-4b50-8522-55cb9cd145cb",
   "metadata": {},
   "source": [
    "Проблемв в catalog_names отсутствуют:\n",
    "* пропусков нет;\n",
    "* типы корректные."
   ]
  },
  {
   "cell_type": "markdown",
   "id": "3e0a8a9e-c721-4bc9-bde8-438cdc7c0521",
   "metadata": {},
   "source": [
    "### interactions (Данные о том, какие пользователи прослушали тот или иной трек)\n",
    "* user_id — идентификатор пользователя,\n",
    "* track_id — идентификатор музыкального трека,\n",
    "* track_seq — номер места трека в истории пользователя,\n",
    "* started_at — дата начала прослушивания трека."
   ]
  },
  {
   "cell_type": "code",
   "execution_count": 22,
   "id": "87f37da7-fc7e-4935-b3c2-13de9bdaed5f",
   "metadata": {},
   "outputs": [
    {
     "name": "stdout",
     "output_type": "stream",
     "text": [
      "<class 'pandas.core.frame.DataFrame'>\n",
      "Index: 222629898 entries, 0 to 291\n",
      "Data columns (total 4 columns):\n",
      " #   Column      Dtype         \n",
      "---  ------      -----         \n",
      " 0   user_id     int32         \n",
      " 1   track_id    int32         \n",
      " 2   track_seq   int16         \n",
      " 3   started_at  datetime64[ns]\n",
      "dtypes: datetime64[ns](1), int16(1), int32(2)\n",
      "memory usage: 5.4 GB\n"
     ]
    }
   ],
   "source": [
    "interactions.info()"
   ]
  },
  {
   "cell_type": "code",
   "execution_count": 23,
   "id": "efd2e2eb-3bec-4ce1-87ac-232bab8bc0d0",
   "metadata": {},
   "outputs": [
    {
     "data": {
      "text/html": [
       "<div>\n",
       "<style scoped>\n",
       "    .dataframe tbody tr th:only-of-type {\n",
       "        vertical-align: middle;\n",
       "    }\n",
       "\n",
       "    .dataframe tbody tr th {\n",
       "        vertical-align: top;\n",
       "    }\n",
       "\n",
       "    .dataframe thead th {\n",
       "        text-align: right;\n",
       "    }\n",
       "</style>\n",
       "<table border=\"1\" class=\"dataframe\">\n",
       "  <thead>\n",
       "    <tr style=\"text-align: right;\">\n",
       "      <th></th>\n",
       "      <th>user_id</th>\n",
       "      <th>track_id</th>\n",
       "      <th>track_seq</th>\n",
       "      <th>started_at</th>\n",
       "    </tr>\n",
       "  </thead>\n",
       "  <tbody>\n",
       "    <tr>\n",
       "      <th>272</th>\n",
       "      <td>331099</td>\n",
       "      <td>29637702</td>\n",
       "      <td>273</td>\n",
       "      <td>2022-12-14</td>\n",
       "    </tr>\n",
       "    <tr>\n",
       "      <th>112</th>\n",
       "      <td>607720</td>\n",
       "      <td>50284640</td>\n",
       "      <td>113</td>\n",
       "      <td>2022-05-10</td>\n",
       "    </tr>\n",
       "    <tr>\n",
       "      <th>55</th>\n",
       "      <td>1023683</td>\n",
       "      <td>91993183</td>\n",
       "      <td>56</td>\n",
       "      <td>2022-12-19</td>\n",
       "    </tr>\n",
       "  </tbody>\n",
       "</table>\n",
       "</div>"
      ],
      "text/plain": [
       "     user_id  track_id  track_seq started_at\n",
       "272   331099  29637702        273 2022-12-14\n",
       "112   607720  50284640        113 2022-05-10\n",
       "55   1023683  91993183         56 2022-12-19"
      ]
     },
     "execution_count": 23,
     "metadata": {},
     "output_type": "execute_result"
    }
   ],
   "source": [
    "interactions.sample(3)"
   ]
  },
  {
   "cell_type": "code",
   "execution_count": 24,
   "id": "ea17e212-be66-4e9f-82f1-dda68f6bfbb0",
   "metadata": {},
   "outputs": [
    {
     "name": "stdout",
     "output_type": "stream",
     "text": [
      "Кол-во пропусков в поле user_id: 0\n",
      "Кол-во пропусков в поле track_id: 0\n",
      "Кол-во пропусков в поле track_seq: 0\n",
      "Кол-во пропусков в поле started_at: 0\n"
     ]
    }
   ],
   "source": [
    "# почему-то тут не выдается информация о количестве записей, проверим по-другому\n",
    "print('Кол-во пропусков в поле user_id:', np.sum(interactions['user_id'].isnull()))\n",
    "print('Кол-во пропусков в поле track_id:', np.sum(interactions['track_id'].isnull()))\n",
    "print('Кол-во пропусков в поле track_seq:', np.sum(interactions['track_seq'].isnull()))\n",
    "print('Кол-во пропусков в поле started_at:', np.sum(interactions['started_at'].isnull()))"
   ]
  },
  {
   "cell_type": "code",
   "execution_count": 25,
   "id": "f7feb3e0-bb3b-41bf-8e83-66557eb140c2",
   "metadata": {},
   "outputs": [
    {
     "name": "stdout",
     "output_type": "stream",
     "text": [
      "Кол-во нулей в поле user_id: 26\n",
      "Кол-во нулей в поле track_id: 0\n",
      "Кол-во нулей в поле track_seq: 0\n",
      "Кол-во нулей в поле started_at: 0\n"
     ]
    }
   ],
   "source": [
    "print('Кол-во нулей в поле user_id:', interactions[interactions['user_id']==0]['user_id'].count())\n",
    "print('Кол-во нулей в поле track_id:', interactions[interactions['track_id']==0]['user_id'].count())\n",
    "print('Кол-во нулей в поле track_seq:', interactions[interactions['track_seq']==0]['user_id'].count())\n",
    "print('Кол-во нулей в поле started_at:', interactions[interactions['started_at']==0]['user_id'].count())"
   ]
  },
  {
   "cell_type": "markdown",
   "id": "95ebe1c9-6639-430d-85a5-a926fa48015d",
   "metadata": {},
   "source": [
    "Проблемв в interactions присутствуют:\n",
    "* пропусков нет, но есть нули в поле user_id - видимо, пропуски были заполнены нулями;\n",
    "* индексы повторялись;\n",
    "* типы корректные."
   ]
  },
  {
   "cell_type": "code",
   "execution_count": 26,
   "id": "c43a4835-c42b-4a3a-af1a-cdefb28c2487",
   "metadata": {},
   "outputs": [],
   "source": [
    "interactions = interactions.query('user_id != 0').reset_index(drop=True)"
   ]
  },
  {
   "cell_type": "code",
   "execution_count": 27,
   "id": "5abd2bf4-56ed-4a79-b57a-d67f34dafd1e",
   "metadata": {},
   "outputs": [
    {
     "name": "stdout",
     "output_type": "stream",
     "text": [
      "<class 'pandas.core.frame.DataFrame'>\n",
      "RangeIndex: 222629872 entries, 0 to 222629871\n",
      "Data columns (total 4 columns):\n",
      " #   Column      Dtype         \n",
      "---  ------      -----         \n",
      " 0   user_id     int32         \n",
      " 1   track_id    int32         \n",
      " 2   track_seq   int16         \n",
      " 3   started_at  datetime64[ns]\n",
      "dtypes: datetime64[ns](1), int16(1), int32(2)\n",
      "memory usage: 3.7 GB\n"
     ]
    }
   ],
   "source": [
    "interactions.info()"
   ]
  },
  {
   "cell_type": "code",
   "execution_count": 28,
   "id": "33343b18-a075-42c1-a5ef-13fdd9093c3a",
   "metadata": {},
   "outputs": [
    {
     "name": "stdout",
     "output_type": "stream",
     "text": [
      "Доля удаленных записей: 1.2e-05%\n"
     ]
    }
   ],
   "source": [
    "print(f'Доля удаленных записей: {np.round(100 * (222629898 - 222629872) / 222629898, 6)}%')"
   ]
  },
  {
   "cell_type": "markdown",
   "id": "318b573a-9e2d-4808-95db-60cfb8bbdb73",
   "metadata": {
    "editable": true,
    "slideshow": {
     "slide_type": ""
    },
    "tags": []
   },
   "source": [
    "# Выводы"
   ]
  },
  {
   "cell_type": "markdown",
   "id": "caa96e12-36a8-4401-8f11-98627a49ae9d",
   "metadata": {},
   "source": [
    "Приведём выводы по первому знакомству с данными:\n",
    "- есть ли с данными явные проблемы,\n",
    "- какие корректирующие действия (в целом) были предприняты."
   ]
  },
  {
   "cell_type": "markdown",
   "id": "025444fa-bbb8-4ec4-93ff-7a4ca0b2aad7",
   "metadata": {},
   "source": [
    "* Типы идентификаторов корректные, в замене не нуждаются.\n",
    "* Треки с отсутствующими записями были удалены.\n",
    "* Записи о взаимодействиях с нулевыми идентификаторами пользовтаелей были удалены."
   ]
  },
  {
   "cell_type": "code",
   "execution_count": 29,
   "id": "ab1760b4-4be8-4f56-9e36-98351305a7fe",
   "metadata": {},
   "outputs": [],
   "source": [
    "tracks.to_parquet(\"tracks_fix.parquet\")\n",
    "catalog_names.to_parquet(\"catalog_names_fix.parquet\")\n",
    "interactions.to_parquet(\"interactions_fix.parquet\")"
   ]
  },
  {
   "cell_type": "markdown",
   "id": "7bc3296b-eba6-4333-a78d-b9304aa87e3d",
   "metadata": {},
   "source": [
    "# === ЭТАП 2 ==="
   ]
  },
  {
   "cell_type": "code",
   "execution_count": 46,
   "id": "9ad21059-c42a-4c0c-935e-f173a885d328",
   "metadata": {},
   "outputs": [],
   "source": [
    "tracks = pd.read_parquet(\"tracks_fix.parquet\")\n",
    "catalog_names = pd.read_parquet(\"catalog_names_fix.parquet\")\n",
    "interactions = pd.read_parquet(\"interactions_fix.parquet\")"
   ]
  },
  {
   "cell_type": "markdown",
   "id": "68e73960-fd38-4e15-8db0-9a25c35dfd25",
   "metadata": {},
   "source": [
    "# EDA"
   ]
  },
  {
   "cell_type": "markdown",
   "id": "a30e823e-8e0f-4a76-a02e-8d1ba8bf0f8a",
   "metadata": {},
   "source": [
    "### Распределение количества прослушанных треков."
   ]
  },
  {
   "cell_type": "code",
   "execution_count": 30,
   "id": "5445631c-3457-4d56-ad7c-0e9896f9ad6e",
   "metadata": {},
   "outputs": [
    {
     "data": {
      "text/plain": [
       "<Axes: >"
      ]
     },
     "execution_count": 30,
     "metadata": {},
     "output_type": "execute_result"
    },
    {
     "data": {
      "image/png": "[encoded data removed]",
      "text/plain": [
       "<Figure size 1200x600 with 1 Axes>"
      ]
     },
     "metadata": {
      "image/png": {
       "height": 520,
       "width": 981
      }
     },
     "output_type": "display_data"
    }
   ],
   "source": [
    "# трактую как - прослушанных треков каждым пользователем\n",
    "interactions.groupby(\"user_id\").agg(num=(\"track_id\", \"count\"))['num'].hist(bins=100, figsize=(12, 6))"
   ]
  },
  {
   "cell_type": "code",
   "execution_count": 31,
   "id": "22946f3a-debb-4668-b738-a7e6fd554fcb",
   "metadata": {},
   "outputs": [
    {
     "data": {
      "text/plain": [
       "<Axes: >"
      ]
     },
     "execution_count": 31,
     "metadata": {},
     "output_type": "execute_result"
    },
    {
     "data": {
      "image/png": "[encoded data removed]",
      "text/plain": [
       "<Figure size 1200x600 with 1 Axes>"
      ]
     },
     "metadata": {
      "image/png": {
       "height": 505,
       "width": 1012
      }
     },
     "output_type": "display_data"
    }
   ],
   "source": [
    "# видно, что основная часть распределения сосредоточена до 1000 - посмотрим боле побробно\n",
    "interactions.groupby(\"user_id\").agg(num=(\"track_id\", \"count\")).query('num < 1000')['num'].hist(bins=100, figsize=(12, 6))"
   ]
  },
  {
   "cell_type": "code",
   "execution_count": 32,
   "id": "2e490573-a51e-4766-a446-a6d24606c310",
   "metadata": {},
   "outputs": [],
   "source": [
    "# т.е. в основном пользователи слушают одно и то же "
   ]
  },
  {
   "cell_type": "markdown",
   "id": "d765519a-18dd-4d30-9e29-cc2d84cacd79",
   "metadata": {},
   "source": [
    "### Наиболее популярные треки"
   ]
  },
  {
   "cell_type": "code",
   "execution_count": 33,
   "id": "aecaf630-fde0-4860-b84a-42c933a9606e",
   "metadata": {},
   "outputs": [],
   "source": [
    "popular_tracks = interactions.groupby(\"track_id\").agg(nunique=(\"user_id\", \"nunique\"))"
   ]
  },
  {
   "cell_type": "code",
   "execution_count": 34,
   "id": "e6acf512-7564-4b6a-aa1a-5ec1d50abb5b",
   "metadata": {},
   "outputs": [],
   "source": [
    "popular_tracks = popular_tracks.sort_values(by='nunique', ascending=False)"
   ]
  },
  {
   "cell_type": "code",
   "execution_count": 35,
   "id": "37afd088-62bc-4f95-ab4a-cff1d278cc87",
   "metadata": {},
   "outputs": [],
   "source": [
    "top_10_popular_tracks = popular_tracks[:10]"
   ]
  },
  {
   "cell_type": "code",
   "execution_count": 36,
   "id": "17e43e5e-9e0d-4ff3-8192-523e084b96f1",
   "metadata": {},
   "outputs": [],
   "source": [
    "top_10_popular_tracks = top_10_popular_tracks.merge(tracks.drop(['n_albums', 'n_artists', 'n_genres'], axis=1), on='track_id', how='left')"
   ]
  },
  {
   "cell_type": "code",
   "execution_count": 37,
   "id": "e19d2a64-b509-45a6-bd54-fe8b8f01ec46",
   "metadata": {},
   "outputs": [
    {
     "data": {
      "text/html": [
       "<div>\n",
       "<style scoped>\n",
       "    .dataframe tbody tr th:only-of-type {\n",
       "        vertical-align: middle;\n",
       "    }\n",
       "\n",
       "    .dataframe tbody tr th {\n",
       "        vertical-align: top;\n",
       "    }\n",
       "\n",
       "    .dataframe thead th {\n",
       "        text-align: right;\n",
       "    }\n",
       "</style>\n",
       "<table border=\"1\" class=\"dataframe\">\n",
       "  <thead>\n",
       "    <tr style=\"text-align: right;\">\n",
       "      <th></th>\n",
       "      <th>track_id</th>\n",
       "      <th>nunique</th>\n",
       "      <th>albums</th>\n",
       "      <th>artists</th>\n",
       "      <th>genres</th>\n",
       "    </tr>\n",
       "  </thead>\n",
       "  <tbody>\n",
       "    <tr>\n",
       "      <th>0</th>\n",
       "      <td>53404</td>\n",
       "      <td>111062</td>\n",
       "      <td>[4367, 89708, 294911, 294912, 294914, 297393, ...</td>\n",
       "      <td>[9262]</td>\n",
       "      <td>[13, 14, 102]</td>\n",
       "    </tr>\n",
       "    <tr>\n",
       "      <th>1</th>\n",
       "      <td>33311009</td>\n",
       "      <td>106921</td>\n",
       "      <td>[4440454, 4456609, 4482682, 4882996, 5072976, ...</td>\n",
       "      <td>[675068]</td>\n",
       "      <td>[14, 102]</td>\n",
       "    </tr>\n",
       "    <tr>\n",
       "      <th>2</th>\n",
       "      <td>178529</td>\n",
       "      <td>101924</td>\n",
       "      <td>[18113, 21924, 21940, 488052, 10009799]</td>\n",
       "      <td>[36800]</td>\n",
       "      <td>[41, 47]</td>\n",
       "    </tr>\n",
       "    <tr>\n",
       "      <th>3</th>\n",
       "      <td>35505245</td>\n",
       "      <td>99490</td>\n",
       "      <td>[4431303, 20559909]</td>\n",
       "      <td>[4611844, 588511]</td>\n",
       "      <td>[3, 75]</td>\n",
       "    </tr>\n",
       "    <tr>\n",
       "      <th>4</th>\n",
       "      <td>65851540</td>\n",
       "      <td>86670</td>\n",
       "      <td>[10692414]</td>\n",
       "      <td>[1554548]</td>\n",
       "      <td>[11, 20]</td>\n",
       "    </tr>\n",
       "    <tr>\n",
       "      <th>5</th>\n",
       "      <td>24692821</td>\n",
       "      <td>86246</td>\n",
       "      <td>[2888516, 3523463, 3530199, 4333848, 4420934, ...</td>\n",
       "      <td>[1194096]</td>\n",
       "      <td>[70]</td>\n",
       "    </tr>\n",
       "    <tr>\n",
       "      <th>6</th>\n",
       "      <td>32947997</td>\n",
       "      <td>85886</td>\n",
       "      <td>[4019560, 4172930, 4172931, 5614201, 5933975]</td>\n",
       "      <td>[381067]</td>\n",
       "      <td>[11]</td>\n",
       "    </tr>\n",
       "    <tr>\n",
       "      <th>7</th>\n",
       "      <td>51241318</td>\n",
       "      <td>85244</td>\n",
       "      <td>[5239478, 13040087, 13131618, 15177310, 154524...</td>\n",
       "      <td>[1802873, 3135644, 9012818]</td>\n",
       "      <td>[74]</td>\n",
       "    </tr>\n",
       "    <tr>\n",
       "      <th>8</th>\n",
       "      <td>795836</td>\n",
       "      <td>85042</td>\n",
       "      <td>[88770, 296297, 297576, 302579, 303469, 558376...</td>\n",
       "      <td>[680]</td>\n",
       "      <td>[11, 14, 102]</td>\n",
       "    </tr>\n",
       "    <tr>\n",
       "      <th>9</th>\n",
       "      <td>45499814</td>\n",
       "      <td>84748</td>\n",
       "      <td>[6109461, 7094821, 7152451, 7170954, 7285586, ...</td>\n",
       "      <td>[5007577]</td>\n",
       "      <td>[11, 20]</td>\n",
       "    </tr>\n",
       "  </tbody>\n",
       "</table>\n",
       "</div>"
      ],
      "text/plain": [
       "   track_id  nunique                                             albums  \\\n",
       "0     53404   111062  [4367, 89708, 294911, 294912, 294914, 297393, ...   \n",
       "1  33311009   106921  [4440454, 4456609, 4482682, 4882996, 5072976, ...   \n",
       "2    178529   101924            [18113, 21924, 21940, 488052, 10009799]   \n",
       "3  35505245    99490                                [4431303, 20559909]   \n",
       "4  65851540    86670                                         [10692414]   \n",
       "5  24692821    86246  [2888516, 3523463, 3530199, 4333848, 4420934, ...   \n",
       "6  32947997    85886      [4019560, 4172930, 4172931, 5614201, 5933975]   \n",
       "7  51241318    85244  [5239478, 13040087, 13131618, 15177310, 154524...   \n",
       "8    795836    85042  [88770, 296297, 297576, 302579, 303469, 558376...   \n",
       "9  45499814    84748  [6109461, 7094821, 7152451, 7170954, 7285586, ...   \n",
       "\n",
       "                       artists         genres  \n",
       "0                       [9262]  [13, 14, 102]  \n",
       "1                     [675068]      [14, 102]  \n",
       "2                      [36800]       [41, 47]  \n",
       "3            [4611844, 588511]        [3, 75]  \n",
       "4                    [1554548]       [11, 20]  \n",
       "5                    [1194096]           [70]  \n",
       "6                     [381067]           [11]  \n",
       "7  [1802873, 3135644, 9012818]           [74]  \n",
       "8                        [680]  [11, 14, 102]  \n",
       "9                    [5007577]       [11, 20]  "
      ]
     },
     "execution_count": 37,
     "metadata": {},
     "output_type": "execute_result"
    }
   ],
   "source": [
    "# TOP-10 популярных трэков\n",
    "top_10_popular_tracks"
   ]
  },
  {
   "cell_type": "code",
   "execution_count": 38,
   "id": "6c05c3b8-1433-443a-96d3-2b3ce65a6054",
   "metadata": {},
   "outputs": [
    {
     "name": "stdout",
     "output_type": "stream",
     "text": [
      "Информация по треку на месте N-1 в TOP-10:\n",
      "-- Трэк: Smells Like Teen Spirit\n",
      "-- Исполнители: Nirvana\n",
      "-- Жанры: alternative, rock, allrock\n",
      "\n",
      "Информация по треку на месте N-2 в TOP-10:\n",
      "-- Трэк: Believer\n",
      "-- Исполнители: Imagine Dragons\n",
      "-- Жанры: rock, allrock\n",
      "\n",
      "Информация по треку на месте N-3 в TOP-10:\n",
      "-- Трэк: Numb\n",
      "-- Исполнители: Linkin Park\n",
      "-- Жанры: numetal, metal\n",
      "\n",
      "Информация по треку на месте N-4 в TOP-10:\n",
      "-- Трэк: I Got Love\n",
      "-- Исполнители: Miyagi & Эндшпиль, Рем Дигга\n",
      "-- Жанры: rusrap, rap\n",
      "\n",
      "Информация по треку на месте N-5 в TOP-10:\n",
      "-- Трэк: Юность\n",
      "-- Исполнители: Dabro\n",
      "-- Жанры: pop, ruspop\n",
      "\n",
      "Информация по треку на месте N-6 в TOP-10:\n",
      "-- Трэк: Way Down We Go\n",
      "-- Исполнители: KALEO\n",
      "-- Жанры: indie\n",
      "\n",
      "Информация по треку на месте N-7 в TOP-10:\n",
      "-- Трэк: Shape of You\n",
      "-- Исполнители: Ed Sheeran\n",
      "-- Жанры: pop\n",
      "\n",
      "Информация по треку на месте N-8 в TOP-10:\n",
      "-- Трэк: In The End\n",
      "-- Исполнители: Tommee Profitt, Fleurie, Mellen Gi\n",
      "-- Жанры: rnb\n",
      "\n",
      "Информация по треку на месте N-9 в TOP-10:\n",
      "-- Трэк: Shape Of My Heart\n",
      "-- Исполнители: Sting\n",
      "-- Жанры: pop, rock, allrock\n",
      "\n",
      "Информация по треку на месте N-10 в TOP-10:\n",
      "-- Трэк: Life\n",
      "-- Исполнители: Zivert\n",
      "-- Жанры: pop, ruspop\n",
      "\n"
     ]
    }
   ],
   "source": [
    "for i in range(top_10_popular_tracks.shape[0]):\n",
    "    print(f'Информация по треку на месте N-{i+1} в TOP-10:')\n",
    "    track_id = top_10_popular_tracks.loc[i, 'track_id']\n",
    "    print('-- Трэк:', catalog_names.query('id==@track_id and type==\"track\"')['name'].tolist()[0])\n",
    "    \n",
    "    artists = top_10_popular_tracks.loc[i, 'artists']\n",
    "    artists_list = []\n",
    "    for artist in artists:\n",
    "        artists_list.append(catalog_names.query('id==@artist and type==\"artist\"')['name'].tolist()[0])\n",
    "    print('-- Исполнители:', ', '.join(artists_list))\n",
    "\n",
    "    genres = top_10_popular_tracks.loc[i, 'genres']\n",
    "    genres_list = []\n",
    "    for genre in genres:\n",
    "        genres_list.append(catalog_names.query('id==@genre and type==\"genre\"')['name'].tolist()[0])\n",
    "    print('-- Жанры:', ', '.join(genres_list))\n",
    "    \n",
    "    print('')    "
   ]
  },
  {
   "cell_type": "markdown",
   "id": "b1c32a5a-d3be-4f96-8dd9-f7860951020c",
   "metadata": {},
   "source": [
    "### Наиболее популярные жанры"
   ]
  },
  {
   "cell_type": "code",
   "execution_count": 101,
   "id": "1bc50491-9235-4d3c-a6c2-297f7c05a959",
   "metadata": {},
   "outputs": [],
   "source": [
    "# снчала для удобства сделаем отдельный каталог жанров\n",
    "genres_df = catalog_names[catalog_names['type']=='genre'].reset_index(drop=True)"
   ]
  },
  {
   "cell_type": "code",
   "execution_count": 102,
   "id": "f8c870e3-bf30-439a-bf38-961a3c088193",
   "metadata": {},
   "outputs": [],
   "source": [
    "genres_df.to_parquet(\"genres.parquet\")"
   ]
  },
  {
   "cell_type": "code",
   "execution_count": 4,
   "id": "68f2c0f1-3db4-4efe-9427-234c81ab837e",
   "metadata": {},
   "outputs": [],
   "source": [
    "genres_df = pd.read_parquet(\"genres.parquet\")"
   ]
  },
  {
   "cell_type": "code",
   "execution_count": 5,
   "id": "02c124ee-36de-430d-8936-eb011f0df92e",
   "metadata": {},
   "outputs": [],
   "source": [
    "top_gengres = interactions[::4]"
   ]
  },
  {
   "cell_type": "code",
   "execution_count": 6,
   "id": "a6687481-5123-4674-ad59-f11852f190b7",
   "metadata": {},
   "outputs": [],
   "source": [
    "top_gengres = top_gengres.merge(tracks.drop(['n_albums', 'n_artists', 'n_genres'], axis=1), on='track_id', how='left')"
   ]
  },
  {
   "cell_type": "code",
   "execution_count": 7,
   "id": "a704f238-ccf5-49db-83b5-abaab87e3e43",
   "metadata": {},
   "outputs": [
    {
     "data": {
      "text/html": [
       "<div>\n",
       "<style scoped>\n",
       "    .dataframe tbody tr th:only-of-type {\n",
       "        vertical-align: middle;\n",
       "    }\n",
       "\n",
       "    .dataframe tbody tr th {\n",
       "        vertical-align: top;\n",
       "    }\n",
       "\n",
       "    .dataframe thead th {\n",
       "        text-align: right;\n",
       "    }\n",
       "</style>\n",
       "<table border=\"1\" class=\"dataframe\">\n",
       "  <thead>\n",
       "    <tr style=\"text-align: right;\">\n",
       "      <th></th>\n",
       "      <th>21729481</th>\n",
       "      <th>50768695</th>\n",
       "      <th>26166539</th>\n",
       "    </tr>\n",
       "  </thead>\n",
       "  <tbody>\n",
       "    <tr>\n",
       "      <th>user_id</th>\n",
       "      <td>537472</td>\n",
       "      <td>1254350</td>\n",
       "      <td>647002</td>\n",
       "    </tr>\n",
       "    <tr>\n",
       "      <th>track_id</th>\n",
       "      <td>56920157</td>\n",
       "      <td>12979046</td>\n",
       "      <td>37780971</td>\n",
       "    </tr>\n",
       "    <tr>\n",
       "      <th>track_seq</th>\n",
       "      <td>321</td>\n",
       "      <td>672</td>\n",
       "      <td>2521</td>\n",
       "    </tr>\n",
       "    <tr>\n",
       "      <th>started_at</th>\n",
       "      <td>2022-11-09 00:00:00</td>\n",
       "      <td>2022-07-04 00:00:00</td>\n",
       "      <td>2022-06-01 00:00:00</td>\n",
       "    </tr>\n",
       "    <tr>\n",
       "      <th>albums</th>\n",
       "      <td>[8477535]</td>\n",
       "      <td>[1410664]</td>\n",
       "      <td>[4797875]</td>\n",
       "    </tr>\n",
       "    <tr>\n",
       "      <th>artists</th>\n",
       "      <td>[6286764]</td>\n",
       "      <td>[73364, 191678, 9787967]</td>\n",
       "      <td>[998286, 3038432]</td>\n",
       "    </tr>\n",
       "    <tr>\n",
       "      <th>genres</th>\n",
       "      <td>[6, 70]</td>\n",
       "      <td>[127, 335]</td>\n",
       "      <td>[44, 75]</td>\n",
       "    </tr>\n",
       "  </tbody>\n",
       "</table>\n",
       "</div>"
      ],
      "text/plain": [
       "                       21729481                  50768695             26166539\n",
       "user_id                  537472                   1254350               647002\n",
       "track_id               56920157                  12979046             37780971\n",
       "track_seq                   321                       672                 2521\n",
       "started_at  2022-11-09 00:00:00       2022-07-04 00:00:00  2022-06-01 00:00:00\n",
       "albums                [8477535]                 [1410664]            [4797875]\n",
       "artists               [6286764]  [73364, 191678, 9787967]    [998286, 3038432]\n",
       "genres                  [6, 70]                [127, 335]             [44, 75]"
      ]
     },
     "execution_count": 7,
     "metadata": {},
     "output_type": "execute_result"
    }
   ],
   "source": [
    "top_gengres.sample(3).T"
   ]
  },
  {
   "cell_type": "code",
   "execution_count": 8,
   "id": "747bddd9-d56d-4348-bbcb-60c5204c96ac",
   "metadata": {},
   "outputs": [],
   "source": [
    "#top_gengres = top_gengres.explode('genres').merge(genres_df.drop(['count'], axis=1), left_on = 'genres', right_on='id', how='left')\n",
    "top_gengres = top_gengres.drop(['track_id', 'track_seq', 'started_at', 'artists'], axis=1).explode('genres').groupby(\"genres\").agg(nunique=(\"user_id\", \"nunique\"))"
   ]
  },
  {
   "cell_type": "code",
   "execution_count": 9,
   "id": "d9bf5898-9995-4f4c-a259-bbe622075110",
   "metadata": {},
   "outputs": [
    {
     "data": {
      "text/html": [
       "<div>\n",
       "<style scoped>\n",
       "    .dataframe tbody tr th:only-of-type {\n",
       "        vertical-align: middle;\n",
       "    }\n",
       "\n",
       "    .dataframe tbody tr th {\n",
       "        vertical-align: top;\n",
       "    }\n",
       "\n",
       "    .dataframe thead th {\n",
       "        text-align: right;\n",
       "    }\n",
       "</style>\n",
       "<table border=\"1\" class=\"dataframe\">\n",
       "  <thead>\n",
       "    <tr style=\"text-align: right;\">\n",
       "      <th>genres</th>\n",
       "      <th>67</th>\n",
       "      <th>58</th>\n",
       "      <th>1484</th>\n",
       "    </tr>\n",
       "  </thead>\n",
       "  <tbody>\n",
       "    <tr>\n",
       "      <th>nunique</th>\n",
       "      <td>12463</td>\n",
       "      <td>7402</td>\n",
       "      <td>8633</td>\n",
       "    </tr>\n",
       "  </tbody>\n",
       "</table>\n",
       "</div>"
      ],
      "text/plain": [
       "genres    67    58    1484\n",
       "nunique  12463  7402  8633"
      ]
     },
     "execution_count": 9,
     "metadata": {},
     "output_type": "execute_result"
    }
   ],
   "source": [
    "top_gengres.sample(3).T"
   ]
  },
  {
   "cell_type": "code",
   "execution_count": 10,
   "id": "cb655b1a-05e9-4b55-8874-7ae43793c888",
   "metadata": {},
   "outputs": [],
   "source": [
    "top_10_gengres = top_gengres.sort_values(by='nunique', ascending=False).reset_index(drop=False)[:10]"
   ]
  },
  {
   "cell_type": "code",
   "execution_count": 14,
   "id": "685fa4de-c476-490b-966f-7e9c52a755ee",
   "metadata": {},
   "outputs": [],
   "source": [
    "del top_gengres"
   ]
  },
  {
   "cell_type": "code",
   "execution_count": 11,
   "id": "b18a6809-5f9e-42de-9903-113d9c550172",
   "metadata": {},
   "outputs": [
    {
     "data": {
      "text/html": [
       "<div>\n",
       "<style scoped>\n",
       "    .dataframe tbody tr th:only-of-type {\n",
       "        vertical-align: middle;\n",
       "    }\n",
       "\n",
       "    .dataframe tbody tr th {\n",
       "        vertical-align: top;\n",
       "    }\n",
       "\n",
       "    .dataframe thead th {\n",
       "        text-align: right;\n",
       "    }\n",
       "</style>\n",
       "<table border=\"1\" class=\"dataframe\">\n",
       "  <thead>\n",
       "    <tr style=\"text-align: right;\">\n",
       "      <th></th>\n",
       "      <th>genres</th>\n",
       "      <th>nunique</th>\n",
       "    </tr>\n",
       "  </thead>\n",
       "  <tbody>\n",
       "    <tr>\n",
       "      <th>0</th>\n",
       "      <td>11</td>\n",
       "      <td>1116929</td>\n",
       "    </tr>\n",
       "    <tr>\n",
       "      <th>1</th>\n",
       "      <td>20</td>\n",
       "      <td>805049</td>\n",
       "    </tr>\n",
       "    <tr>\n",
       "      <th>2</th>\n",
       "      <td>75</td>\n",
       "      <td>803011</td>\n",
       "    </tr>\n",
       "    <tr>\n",
       "      <th>3</th>\n",
       "      <td>102</td>\n",
       "      <td>777342</td>\n",
       "    </tr>\n",
       "    <tr>\n",
       "      <th>4</th>\n",
       "      <td>16</td>\n",
       "      <td>692662</td>\n",
       "    </tr>\n",
       "    <tr>\n",
       "      <th>5</th>\n",
       "      <td>68</td>\n",
       "      <td>660465</td>\n",
       "    </tr>\n",
       "    <tr>\n",
       "      <th>6</th>\n",
       "      <td>3</td>\n",
       "      <td>659368</td>\n",
       "    </tr>\n",
       "    <tr>\n",
       "      <th>7</th>\n",
       "      <td>14</td>\n",
       "      <td>552042</td>\n",
       "    </tr>\n",
       "    <tr>\n",
       "      <th>8</th>\n",
       "      <td>2</td>\n",
       "      <td>488248</td>\n",
       "    </tr>\n",
       "    <tr>\n",
       "      <th>9</th>\n",
       "      <td>44</td>\n",
       "      <td>485353</td>\n",
       "    </tr>\n",
       "  </tbody>\n",
       "</table>\n",
       "</div>"
      ],
      "text/plain": [
       "   genres  nunique\n",
       "0      11  1116929\n",
       "1      20   805049\n",
       "2      75   803011\n",
       "3     102   777342\n",
       "4      16   692662\n",
       "5      68   660465\n",
       "6       3   659368\n",
       "7      14   552042\n",
       "8       2   488248\n",
       "9      44   485353"
      ]
     },
     "execution_count": 11,
     "metadata": {},
     "output_type": "execute_result"
    }
   ],
   "source": [
    "top_10_gengres"
   ]
  },
  {
   "cell_type": "code",
   "execution_count": 12,
   "id": "b7fb958d-d9fe-40eb-8402-1e9d0454b5ee",
   "metadata": {},
   "outputs": [],
   "source": [
    "top_10_gengres = top_10_gengres.merge(genres_df.drop(['count'], axis=1), left_on = 'genres', right_on='id', how='left')"
   ]
  },
  {
   "cell_type": "code",
   "execution_count": 13,
   "id": "c3a4e7fe-5a80-4536-9c15-83d0b96527d2",
   "metadata": {},
   "outputs": [
    {
     "data": {
      "text/html": [
       "<div>\n",
       "<style scoped>\n",
       "    .dataframe tbody tr th:only-of-type {\n",
       "        vertical-align: middle;\n",
       "    }\n",
       "\n",
       "    .dataframe tbody tr th {\n",
       "        vertical-align: top;\n",
       "    }\n",
       "\n",
       "    .dataframe thead th {\n",
       "        text-align: right;\n",
       "    }\n",
       "</style>\n",
       "<table border=\"1\" class=\"dataframe\">\n",
       "  <thead>\n",
       "    <tr style=\"text-align: right;\">\n",
       "      <th></th>\n",
       "      <th>genres</th>\n",
       "      <th>nunique</th>\n",
       "      <th>type</th>\n",
       "      <th>name</th>\n",
       "    </tr>\n",
       "  </thead>\n",
       "  <tbody>\n",
       "    <tr>\n",
       "      <th>0</th>\n",
       "      <td>11</td>\n",
       "      <td>1116929</td>\n",
       "      <td>genre</td>\n",
       "      <td>pop</td>\n",
       "    </tr>\n",
       "    <tr>\n",
       "      <th>1</th>\n",
       "      <td>20</td>\n",
       "      <td>805049</td>\n",
       "      <td>genre</td>\n",
       "      <td>ruspop</td>\n",
       "    </tr>\n",
       "    <tr>\n",
       "      <th>2</th>\n",
       "      <td>75</td>\n",
       "      <td>803011</td>\n",
       "      <td>genre</td>\n",
       "      <td>rap</td>\n",
       "    </tr>\n",
       "    <tr>\n",
       "      <th>3</th>\n",
       "      <td>102</td>\n",
       "      <td>777342</td>\n",
       "      <td>genre</td>\n",
       "      <td>allrock</td>\n",
       "    </tr>\n",
       "    <tr>\n",
       "      <th>4</th>\n",
       "      <td>16</td>\n",
       "      <td>692662</td>\n",
       "      <td>genre</td>\n",
       "      <td>dance</td>\n",
       "    </tr>\n",
       "    <tr>\n",
       "      <th>5</th>\n",
       "      <td>68</td>\n",
       "      <td>660465</td>\n",
       "      <td>genre</td>\n",
       "      <td>electronics</td>\n",
       "    </tr>\n",
       "    <tr>\n",
       "      <th>6</th>\n",
       "      <td>3</td>\n",
       "      <td>659368</td>\n",
       "      <td>genre</td>\n",
       "      <td>rusrap</td>\n",
       "    </tr>\n",
       "    <tr>\n",
       "      <th>7</th>\n",
       "      <td>14</td>\n",
       "      <td>552042</td>\n",
       "      <td>genre</td>\n",
       "      <td>rock</td>\n",
       "    </tr>\n",
       "    <tr>\n",
       "      <th>8</th>\n",
       "      <td>2</td>\n",
       "      <td>488248</td>\n",
       "      <td>genre</td>\n",
       "      <td>rusrock</td>\n",
       "    </tr>\n",
       "    <tr>\n",
       "      <th>9</th>\n",
       "      <td>44</td>\n",
       "      <td>485353</td>\n",
       "      <td>genre</td>\n",
       "      <td>foreignrap</td>\n",
       "    </tr>\n",
       "  </tbody>\n",
       "</table>\n",
       "</div>"
      ],
      "text/plain": [
       "   genres  nunique   type         name\n",
       "0      11  1116929  genre          pop\n",
       "1      20   805049  genre       ruspop\n",
       "2      75   803011  genre          rap\n",
       "3     102   777342  genre      allrock\n",
       "4      16   692662  genre        dance\n",
       "5      68   660465  genre  electronics\n",
       "6       3   659368  genre       rusrap\n",
       "7      14   552042  genre         rock\n",
       "8       2   488248  genre      rusrock\n",
       "9      44   485353  genre   foreignrap"
      ]
     },
     "execution_count": 13,
     "metadata": {},
     "output_type": "execute_result"
    }
   ],
   "source": [
    "top_10_gengres"
   ]
  },
  {
   "cell_type": "markdown",
   "id": "5cb1b40c-dfdd-4d2f-a626-c25e123b7a15",
   "metadata": {},
   "source": [
    "Анализ был проведен по каждому 4му взаимодействию, т.к. не хватало ресурсов вистуальной машины. По итогам, в порядке убывания популярность жанров: поп, русский поп, рэп, рок (чем allrock отличается от rock??? есть подозрения на ошибку с схеме классификации жанров), танцевальные, электронные, русский рэп, рок, русский рок, зарубежный рэп."
   ]
  },
  {
   "cell_type": "markdown",
   "id": "15254e66-e80e-473b-ba24-abebea5ccac7",
   "metadata": {},
   "source": [
    "### Треки, которые никто не прослушал"
   ]
  },
  {
   "cell_type": "code",
   "execution_count": 25,
   "id": "50bc50c6-2d83-4c7e-97fa-3e7627978438",
   "metadata": {},
   "outputs": [],
   "source": [
    "# Я заново прогрузил все датасеты, т.к. после фильтрации что-то могло выпасть\n",
    "listen_set = set(interactions['track_id'].unique())"
   ]
  },
  {
   "cell_type": "code",
   "execution_count": 26,
   "id": "38e2ebfa-f194-4ed9-a882-9e597c46cca6",
   "metadata": {},
   "outputs": [],
   "source": [
    "all_tracks_set = set(tracks['track_id'].unique())"
   ]
  },
  {
   "cell_type": "code",
   "execution_count": 27,
   "id": "4b1b1dfc-2cc6-4f69-920c-94cb71eb65e6",
   "metadata": {},
   "outputs": [
    {
     "name": "stdout",
     "output_type": "stream",
     "text": [
      "Всего треков: 1000000\n",
      "Из них прослушано: 1000000\n",
      "Непрослушанных треков: 0\n"
     ]
    }
   ],
   "source": [
    "print('Всего треков:', len(all_tracks_set))\n",
    "print('Из них прослушано:', len(listen_set))\n",
    "print('Непрослушанных треков:', len(all_tracks_set) - len(listen_set))"
   ]
  },
  {
   "cell_type": "code",
   "execution_count": 28,
   "id": "cefdbfd9-3525-4373-9372-bed078963807",
   "metadata": {},
   "outputs": [
    {
     "name": "stdout",
     "output_type": "stream",
     "text": [
      "0\n",
      "0\n"
     ]
    }
   ],
   "source": [
    "# На всякий случай проверим эти множества  на разность\n",
    "print(len(all_tracks_set.difference(listen_set)))\n",
    "print(len(listen_set.difference(all_tracks_set)))"
   ]
  },
  {
   "cell_type": "markdown",
   "id": "4b6d2438-66a5-4f6f-bfd3-d3f8f329c327",
   "metadata": {},
   "source": [
    "Получается, что таких треков, которые никто не прослушал - нет."
   ]
  },
  {
   "cell_type": "code",
   "execution_count": 33,
   "id": "924f03dc-e2ae-4f17-8db4-2d804e596e70",
   "metadata": {},
   "outputs": [
    {
     "name": "stdout",
     "output_type": "stream",
     "text": [
      "Всего треков: 980977\n",
      "Из них прослушано: 1000000\n",
      "Непрослушанных треков: -19023\n"
     ]
    }
   ],
   "source": [
    "# Но, если взять отфильтрованные датасеты, то во взаимодействиях окажутся треки, которые были выброшены из базы\n",
    "listen_set = set(interactions['track_id'].unique())\n",
    "all_tracks_set = set(tracks['track_id'].unique())\n",
    "print('Всего треков:', len(all_tracks_set))\n",
    "print('Из них прослушано:', len(listen_set))\n",
    "print('Непрослушанных треков:', len(all_tracks_set) - len(listen_set))"
   ]
  },
  {
   "cell_type": "code",
   "execution_count": 34,
   "id": "5815e1c2-b721-40d3-9346-0141de048cb0",
   "metadata": {},
   "outputs": [
    {
     "name": "stdout",
     "output_type": "stream",
     "text": [
      "0\n",
      "19023\n"
     ]
    }
   ],
   "source": [
    "print(len(all_tracks_set.difference(listen_set)))\n",
    "print(len(listen_set.difference(all_tracks_set)))"
   ]
  },
  {
   "cell_type": "code",
   "execution_count": 35,
   "id": "03a1eeac-9077-4be5-85f9-3fa610b29105",
   "metadata": {},
   "outputs": [
    {
     "name": "stdout",
     "output_type": "stream",
     "text": [
      "<class 'pandas.core.frame.DataFrame'>\n",
      "RangeIndex: 222629872 entries, 0 to 222629871\n",
      "Data columns (total 4 columns):\n",
      " #   Column      Dtype         \n",
      "---  ------      -----         \n",
      " 0   user_id     int32         \n",
      " 1   track_id    int32         \n",
      " 2   track_seq   int16         \n",
      " 3   started_at  datetime64[ns]\n",
      "dtypes: datetime64[ns](1), int16(1), int32(2)\n",
      "memory usage: 3.7 GB\n"
     ]
    }
   ],
   "source": [
    "interactions.info()"
   ]
  },
  {
   "cell_type": "code",
   "execution_count": 123,
   "id": "c7fcadc9-b483-4f03-a695-dd83f2e1e9bc",
   "metadata": {},
   "outputs": [],
   "source": [
    "# Эти взаимодействия тоже надо удалить\n",
    "interactions = interactions.query('track_id in @all_tracks_set').reset_index(drop=True)"
   ]
  },
  {
   "cell_type": "code",
   "execution_count": 124,
   "id": "40b3f1df-79d6-40fe-8cce-65d4b9ad9504",
   "metadata": {},
   "outputs": [
    {
     "name": "stdout",
     "output_type": "stream",
     "text": [
      "<class 'pandas.core.frame.DataFrame'>\n",
      "RangeIndex: 222184423 entries, 0 to 222184422\n",
      "Data columns (total 4 columns):\n",
      " #   Column      Dtype         \n",
      "---  ------      -----         \n",
      " 0   user_id     int32         \n",
      " 1   track_id    int32         \n",
      " 2   track_seq   int16         \n",
      " 3   started_at  datetime64[ns]\n",
      "dtypes: datetime64[ns](1), int16(1), int32(2)\n",
      "memory usage: 3.7 GB\n"
     ]
    }
   ],
   "source": [
    "interactions.info()"
   ]
  },
  {
   "cell_type": "code",
   "execution_count": 38,
   "id": "68bba020-7a8d-4df6-891d-57c219323c35",
   "metadata": {},
   "outputs": [
    {
     "data": {
      "text/plain": [
       "445449"
      ]
     },
     "execution_count": 38,
     "metadata": {},
     "output_type": "execute_result"
    }
   ],
   "source": [
    "# удалено записей\n",
    "222629871 - 222184422"
   ]
  },
  {
   "cell_type": "code",
   "execution_count": 125,
   "id": "04cf37f3-e287-44ee-940c-2e472e525cd9",
   "metadata": {},
   "outputs": [],
   "source": [
    "interactions.to_parquet(\"interactions_fix.parquet\")"
   ]
  },
  {
   "cell_type": "markdown",
   "id": "0d850a07-ef1e-462f-891a-1cf89f2e24ef",
   "metadata": {},
   "source": [
    "# Преобразование данных"
   ]
  },
  {
   "cell_type": "markdown",
   "id": "fabcf8d2-1192-4df5-b20b-fbb84689f57a",
   "metadata": {},
   "source": [
    "Преобразуем данные в формат, более пригодный для дальнейшего использования в расчётах рекомендаций."
   ]
  },
  {
   "cell_type": "code",
   "execution_count": 29,
   "id": "fc691b7a-5989-4686-a528-cfa73a1532b3",
   "metadata": {},
   "outputs": [],
   "source": [
    "## подготовим такие же датасеты по трэкам, альбомам и артистам, как ранее по жанрам\n",
    "albums_df = catalog_names[catalog_names['type']=='album'].reset_index(drop=True)\n",
    "artists_df = catalog_names[catalog_names['type']=='artist'].reset_index(drop=True)\n",
    "tracks_df = catalog_names[catalog_names['type']=='track'].reset_index(drop=True)\n",
    "\n",
    "albums_df.to_parquet(\"albums.parquet\")\n",
    "artists_df.to_parquet(\"artists.parquet\")\n",
    "tracks_df.to_parquet(\"tracks.parquet\")"
   ]
  },
  {
   "cell_type": "code",
   "execution_count": 47,
   "id": "f7043e5d-4253-4bdb-8596-1dc3cc084894",
   "metadata": {},
   "outputs": [],
   "source": [
    "tracks = tracks.merge(tracks_df.drop('type', axis=1), left_on = 'track_id', right_on='id', how=\"left\").drop('id', axis=1)"
   ]
  },
  {
   "cell_type": "code",
   "execution_count": 49,
   "id": "056cd82a-d389-42bb-a27c-83f495cc0332",
   "metadata": {},
   "outputs": [
    {
     "data": {
      "text/html": [
       "<div>\n",
       "<style scoped>\n",
       "    .dataframe tbody tr th:only-of-type {\n",
       "        vertical-align: middle;\n",
       "    }\n",
       "\n",
       "    .dataframe tbody tr th {\n",
       "        vertical-align: top;\n",
       "    }\n",
       "\n",
       "    .dataframe thead th {\n",
       "        text-align: right;\n",
       "    }\n",
       "</style>\n",
       "<table border=\"1\" class=\"dataframe\">\n",
       "  <thead>\n",
       "    <tr style=\"text-align: right;\">\n",
       "      <th></th>\n",
       "      <th>980601</th>\n",
       "      <th>973281</th>\n",
       "      <th>457794</th>\n",
       "    </tr>\n",
       "  </thead>\n",
       "  <tbody>\n",
       "    <tr>\n",
       "      <th>track_id</th>\n",
       "      <td>100850438</td>\n",
       "      <td>96910559</td>\n",
       "      <td>32038134</td>\n",
       "    </tr>\n",
       "    <tr>\n",
       "      <th>albums</th>\n",
       "      <td>[21210026]</td>\n",
       "      <td>[19904718]</td>\n",
       "      <td>[3898329]</td>\n",
       "    </tr>\n",
       "    <tr>\n",
       "      <th>artists</th>\n",
       "      <td>[9651868]</td>\n",
       "      <td>[5674435]</td>\n",
       "      <td>[41126]</td>\n",
       "    </tr>\n",
       "    <tr>\n",
       "      <th>genres</th>\n",
       "      <td>[11, 20]</td>\n",
       "      <td>[11]</td>\n",
       "      <td>[3, 75]</td>\n",
       "    </tr>\n",
       "    <tr>\n",
       "      <th>n_albums</th>\n",
       "      <td>1</td>\n",
       "      <td>1</td>\n",
       "      <td>1</td>\n",
       "    </tr>\n",
       "    <tr>\n",
       "      <th>n_artists</th>\n",
       "      <td>1</td>\n",
       "      <td>1</td>\n",
       "      <td>1</td>\n",
       "    </tr>\n",
       "    <tr>\n",
       "      <th>n_genres</th>\n",
       "      <td>2</td>\n",
       "      <td>1</td>\n",
       "      <td>2</td>\n",
       "    </tr>\n",
       "    <tr>\n",
       "      <th>name</th>\n",
       "      <td>Заколдованные дети</td>\n",
       "      <td>Camarob</td>\n",
       "      <td>Какой-То Вася</td>\n",
       "    </tr>\n",
       "  </tbody>\n",
       "</table>\n",
       "</div>"
      ],
      "text/plain": [
       "                       980601      973281         457794\n",
       "track_id            100850438    96910559       32038134\n",
       "albums             [21210026]  [19904718]      [3898329]\n",
       "artists             [9651868]   [5674435]        [41126]\n",
       "genres               [11, 20]        [11]        [3, 75]\n",
       "n_albums                    1           1              1\n",
       "n_artists                   1           1              1\n",
       "n_genres                    2           1              2\n",
       "name       Заколдованные дети     Camarob  Какой-То Вася"
      ]
     },
     "execution_count": 49,
     "metadata": {},
     "output_type": "execute_result"
    }
   ],
   "source": [
    "tracks.sample(3).T"
   ]
  },
  {
   "cell_type": "code",
   "execution_count": 65,
   "id": "e43031c9-ed2b-4174-a225-7bfbc4eb70a4",
   "metadata": {},
   "outputs": [],
   "source": [
    "tracks = pd.read_parquet(\"items.parquet\")"
   ]
  },
  {
   "cell_type": "code",
   "execution_count": 66,
   "id": "d44075e3-21db-4cd1-9fc8-be287f0c0de2",
   "metadata": {},
   "outputs": [],
   "source": [
    "# добавим артистов\n",
    "tracks_artists = tracks.explode('artists')"
   ]
  },
  {
   "cell_type": "code",
   "execution_count": 67,
   "id": "a3e2d1d3-49f5-4ce0-88e9-9f099af399af",
   "metadata": {},
   "outputs": [],
   "source": [
    "tracks_artists = tracks_artists.merge(artists_df.drop('type', axis=1), left_on = 'artists', right_on='id', how=\"left\").drop('id', axis=1)"
   ]
  },
  {
   "cell_type": "code",
   "execution_count": 68,
   "id": "78581bc7-13a7-446a-91a1-0fb225b33610",
   "metadata": {},
   "outputs": [],
   "source": [
    "tracks_artists = tracks_artists.groupby('track_id', as_index=False).agg({'name_y': lambda x: list(x)})"
   ]
  },
  {
   "cell_type": "code",
   "execution_count": 69,
   "id": "fd454216-b7d9-4cc4-97eb-e2fff1cc68bb",
   "metadata": {},
   "outputs": [],
   "source": [
    "tracks = tracks.merge(tracks_artists, on = 'track_id', how=\"left\")"
   ]
  },
  {
   "cell_type": "code",
   "execution_count": 71,
   "id": "1c76ac38-18b0-425b-bb5d-645b87856c47",
   "metadata": {},
   "outputs": [
    {
     "data": {
      "text/html": [
       "<div>\n",
       "<style scoped>\n",
       "    .dataframe tbody tr th:only-of-type {\n",
       "        vertical-align: middle;\n",
       "    }\n",
       "\n",
       "    .dataframe tbody tr th {\n",
       "        vertical-align: top;\n",
       "    }\n",
       "\n",
       "    .dataframe thead th {\n",
       "        text-align: right;\n",
       "    }\n",
       "</style>\n",
       "<table border=\"1\" class=\"dataframe\">\n",
       "  <thead>\n",
       "    <tr style=\"text-align: right;\">\n",
       "      <th></th>\n",
       "      <th>298169</th>\n",
       "      <th>15793</th>\n",
       "      <th>333921</th>\n",
       "    </tr>\n",
       "  </thead>\n",
       "  <tbody>\n",
       "    <tr>\n",
       "      <th>track_id</th>\n",
       "      <td>19279559</td>\n",
       "      <td>97193</td>\n",
       "      <td>21754306</td>\n",
       "    </tr>\n",
       "    <tr>\n",
       "      <th>albums</th>\n",
       "      <td>[2168169]</td>\n",
       "      <td>[9025]</td>\n",
       "      <td>[2497303]</td>\n",
       "    </tr>\n",
       "    <tr>\n",
       "      <th>artists</th>\n",
       "      <td>[3134981]</td>\n",
       "      <td>[2927, 37679, 100732, 708610]</td>\n",
       "      <td>[421967, 9170]</td>\n",
       "    </tr>\n",
       "    <tr>\n",
       "      <th>genres</th>\n",
       "      <td>[13]</td>\n",
       "      <td>[44, 75]</td>\n",
       "      <td>[23, 69]</td>\n",
       "    </tr>\n",
       "    <tr>\n",
       "      <th>n_albums</th>\n",
       "      <td>1</td>\n",
       "      <td>1</td>\n",
       "      <td>1</td>\n",
       "    </tr>\n",
       "    <tr>\n",
       "      <th>n_artists</th>\n",
       "      <td>1</td>\n",
       "      <td>4</td>\n",
       "      <td>2</td>\n",
       "    </tr>\n",
       "    <tr>\n",
       "      <th>n_genres</th>\n",
       "      <td>1</td>\n",
       "      <td>2</td>\n",
       "      <td>2</td>\n",
       "    </tr>\n",
       "    <tr>\n",
       "      <th>name</th>\n",
       "      <td>My Religion</td>\n",
       "      <td>There He Go</td>\n",
       "      <td>Mozart: Violin Concerto No. 1 in B-Flat Major,...</td>\n",
       "    </tr>\n",
       "    <tr>\n",
       "      <th>name_y</th>\n",
       "      <td>[Troy Baker]</td>\n",
       "      <td>[Fabolous, Paul Cain, Red Cafe, Freck Billiona...</td>\n",
       "      <td>[Vilde Frang, Wolfgang  Amadeus Mozart]</td>\n",
       "    </tr>\n",
       "  </tbody>\n",
       "</table>\n",
       "</div>"
      ],
      "text/plain": [
       "                 298169                                             15793   \\\n",
       "track_id       19279559                                              97193   \n",
       "albums        [2168169]                                             [9025]   \n",
       "artists       [3134981]                      [2927, 37679, 100732, 708610]   \n",
       "genres             [13]                                           [44, 75]   \n",
       "n_albums              1                                                  1   \n",
       "n_artists             1                                                  4   \n",
       "n_genres              1                                                  2   \n",
       "name        My Religion                                        There He Go   \n",
       "name_y     [Troy Baker]  [Fabolous, Paul Cain, Red Cafe, Freck Billiona...   \n",
       "\n",
       "                                                      333921  \n",
       "track_id                                            21754306  \n",
       "albums                                             [2497303]  \n",
       "artists                                       [421967, 9170]  \n",
       "genres                                              [23, 69]  \n",
       "n_albums                                                   1  \n",
       "n_artists                                                  2  \n",
       "n_genres                                                   2  \n",
       "name       Mozart: Violin Concerto No. 1 in B-Flat Major,...  \n",
       "name_y               [Vilde Frang, Wolfgang  Amadeus Mozart]  "
      ]
     },
     "execution_count": 71,
     "metadata": {},
     "output_type": "execute_result"
    }
   ],
   "source": [
    "tracks.sample(3).T"
   ]
  },
  {
   "cell_type": "code",
   "execution_count": 73,
   "id": "b9604862-625f-46b7-8b60-80bc9c8820f4",
   "metadata": {},
   "outputs": [],
   "source": [
    "del tracks_artists"
   ]
  },
  {
   "cell_type": "code",
   "execution_count": 74,
   "id": "f640c714-2ba8-4015-a955-26d973b9cb59",
   "metadata": {},
   "outputs": [],
   "source": [
    "tracks = tracks.rename(columns={'name': 'track_name', 'name_y': 'artists_names'})"
   ]
  },
  {
   "cell_type": "code",
   "execution_count": 75,
   "id": "bbf92fd5-7218-46a8-8b2a-7bf3e8358fb4",
   "metadata": {},
   "outputs": [],
   "source": [
    "# добавим альбомы\n",
    "tracks_albums = tracks.explode('albums')\n",
    "tracks_albums = tracks_albums.merge(albums_df.drop('type', axis=1), left_on = 'albums', right_on='id', how=\"left\").drop('id', axis=1)\n",
    "tracks_albums = tracks_albums.groupby('track_id', as_index=False).agg({'name': lambda x: list(x)})\n",
    "tracks = tracks.merge(tracks_albums, on = 'track_id', how=\"left\")\n",
    "tracks = tracks.rename(columns={'name': 'albums_names'})\n",
    "del tracks_albums"
   ]
  },
  {
   "cell_type": "code",
   "execution_count": 95,
   "id": "6c851c8b-2028-49b7-bd3e-b97de40a2190",
   "metadata": {},
   "outputs": [
    {
     "data": {
      "text/html": [
       "<div>\n",
       "<style scoped>\n",
       "    .dataframe tbody tr th:only-of-type {\n",
       "        vertical-align: middle;\n",
       "    }\n",
       "\n",
       "    .dataframe tbody tr th {\n",
       "        vertical-align: top;\n",
       "    }\n",
       "\n",
       "    .dataframe thead th {\n",
       "        text-align: right;\n",
       "    }\n",
       "</style>\n",
       "<table border=\"1\" class=\"dataframe\">\n",
       "  <thead>\n",
       "    <tr style=\"text-align: right;\">\n",
       "      <th></th>\n",
       "      <th>663666</th>\n",
       "      <th>900920</th>\n",
       "      <th>440153</th>\n",
       "      <th>880221</th>\n",
       "      <th>840389</th>\n",
       "    </tr>\n",
       "  </thead>\n",
       "  <tbody>\n",
       "    <tr>\n",
       "      <th>track_id</th>\n",
       "      <td>47469779</td>\n",
       "      <td>78354320</td>\n",
       "      <td>30896409</td>\n",
       "      <td>74312827</td>\n",
       "      <td>69022533</td>\n",
       "    </tr>\n",
       "    <tr>\n",
       "      <th>albums</th>\n",
       "      <td>[6448808, 12225871]</td>\n",
       "      <td>[14001064, 14030285]</td>\n",
       "      <td>[3738803, 3738982, 3933278, 10684136, 10876066...</td>\n",
       "      <td>[12985181, 14170810, 14171298]</td>\n",
       "      <td>[11501600, 19412019]</td>\n",
       "    </tr>\n",
       "    <tr>\n",
       "      <th>artists</th>\n",
       "      <td>[896910]</td>\n",
       "      <td>[1181, 15409]</td>\n",
       "      <td>[75628]</td>\n",
       "      <td>[4576380]</td>\n",
       "      <td>[6406482]</td>\n",
       "    </tr>\n",
       "    <tr>\n",
       "      <th>genres</th>\n",
       "      <td>[68]</td>\n",
       "      <td>[51]</td>\n",
       "      <td>[11]</td>\n",
       "      <td>[68, 332]</td>\n",
       "      <td>[14, 102]</td>\n",
       "    </tr>\n",
       "    <tr>\n",
       "      <th>n_albums</th>\n",
       "      <td>2</td>\n",
       "      <td>2</td>\n",
       "      <td>8</td>\n",
       "      <td>3</td>\n",
       "      <td>2</td>\n",
       "    </tr>\n",
       "    <tr>\n",
       "      <th>n_artists</th>\n",
       "      <td>1</td>\n",
       "      <td>2</td>\n",
       "      <td>1</td>\n",
       "      <td>1</td>\n",
       "      <td>1</td>\n",
       "    </tr>\n",
       "    <tr>\n",
       "      <th>n_genres</th>\n",
       "      <td>1</td>\n",
       "      <td>1</td>\n",
       "      <td>1</td>\n",
       "      <td>2</td>\n",
       "      <td>2</td>\n",
       "    </tr>\n",
       "    <tr>\n",
       "      <th>track_name</th>\n",
       "      <td>Molodost Prostit</td>\n",
       "      <td>Patience</td>\n",
       "      <td>Hard To Forget Ya</td>\n",
       "      <td>Offender</td>\n",
       "      <td>Paint It Black</td>\n",
       "    </tr>\n",
       "    <tr>\n",
       "      <th>artists_names</th>\n",
       "      <td>[XS Project]</td>\n",
       "      <td>[Nas, Damian Marley]</td>\n",
       "      <td>[Britney Spears]</td>\n",
       "      <td>[Dimension]</td>\n",
       "      <td>[Leo Moracchioli]</td>\n",
       "    </tr>\n",
       "    <tr>\n",
       "      <th>albums_names</th>\n",
       "      <td>[Molodost Prostit, Hard Bass in da Gas Mask]</td>\n",
       "      <td>[Distant Relatives, Distant Relatives]</td>\n",
       "      <td>[Glory, Glory, Glory, Glory, Glory, Glory, Glo...</td>\n",
       "      <td>[Offender, Organ, Organ]</td>\n",
       "      <td>[Leo Metal, Vol. 28, Paint It Black]</td>\n",
       "    </tr>\n",
       "  </tbody>\n",
       "</table>\n",
       "</div>"
      ],
      "text/plain": [
       "                                                     663666  \\\n",
       "track_id                                           47469779   \n",
       "albums                                  [6448808, 12225871]   \n",
       "artists                                            [896910]   \n",
       "genres                                                 [68]   \n",
       "n_albums                                                  2   \n",
       "n_artists                                                 1   \n",
       "n_genres                                                  1   \n",
       "track_name                                 Molodost Prostit   \n",
       "artists_names                                  [XS Project]   \n",
       "albums_names   [Molodost Prostit, Hard Bass in da Gas Mask]   \n",
       "\n",
       "                                               900920  \\\n",
       "track_id                                     78354320   \n",
       "albums                           [14001064, 14030285]   \n",
       "artists                                 [1181, 15409]   \n",
       "genres                                           [51]   \n",
       "n_albums                                            2   \n",
       "n_artists                                           2   \n",
       "n_genres                                            1   \n",
       "track_name                                   Patience   \n",
       "artists_names                    [Nas, Damian Marley]   \n",
       "albums_names   [Distant Relatives, Distant Relatives]   \n",
       "\n",
       "                                                          440153  \\\n",
       "track_id                                                30896409   \n",
       "albums         [3738803, 3738982, 3933278, 10684136, 10876066...   \n",
       "artists                                                  [75628]   \n",
       "genres                                                      [11]   \n",
       "n_albums                                                       8   \n",
       "n_artists                                                      1   \n",
       "n_genres                                                       1   \n",
       "track_name                                     Hard To Forget Ya   \n",
       "artists_names                                   [Britney Spears]   \n",
       "albums_names   [Glory, Glory, Glory, Glory, Glory, Glory, Glo...   \n",
       "\n",
       "                                       880221  \\\n",
       "track_id                             74312827   \n",
       "albums         [12985181, 14170810, 14171298]   \n",
       "artists                             [4576380]   \n",
       "genres                              [68, 332]   \n",
       "n_albums                                    3   \n",
       "n_artists                                   1   \n",
       "n_genres                                    2   \n",
       "track_name                           Offender   \n",
       "artists_names                     [Dimension]   \n",
       "albums_names         [Offender, Organ, Organ]   \n",
       "\n",
       "                                             840389  \n",
       "track_id                                   69022533  \n",
       "albums                         [11501600, 19412019]  \n",
       "artists                                   [6406482]  \n",
       "genres                                    [14, 102]  \n",
       "n_albums                                          2  \n",
       "n_artists                                         1  \n",
       "n_genres                                          2  \n",
       "track_name                           Paint It Black  \n",
       "artists_names                     [Leo Moracchioli]  \n",
       "albums_names   [Leo Metal, Vol. 28, Paint It Black]  "
      ]
     },
     "execution_count": 95,
     "metadata": {},
     "output_type": "execute_result"
    }
   ],
   "source": [
    "tracks.sample(5).T"
   ]
  },
  {
   "cell_type": "markdown",
   "id": "b7ac8b92-bda8-425e-9899-e9fe0b20763f",
   "metadata": {},
   "source": [
    "Одни и те же альбомы имеют разные идентификаторы. Возможно, они издавались в разные годы, но такой информации нет в каталоге, а значит это разделение нам бесполезно. Это может стать проблемой - возможно надо будет провести унификацию альбомов."
   ]
  },
  {
   "cell_type": "code",
   "execution_count": 104,
   "id": "1d27795f-d209-4184-934b-642f74611954",
   "metadata": {},
   "outputs": [],
   "source": [
    "# добавим жанры\n",
    "tracks_genres = tracks.explode('genres')\n",
    "tracks_genres = tracks_genres.merge(genres_df.drop('type', axis=1), left_on = 'genres', right_on='id', how=\"left\").drop('id', axis=1)\n",
    "tracks_genres = tracks_genres.groupby('track_id', as_index=False).agg({'name': lambda x: list(x)})\n",
    "tracks = tracks.merge(tracks_genres, on = 'track_id', how=\"left\")\n",
    "tracks = tracks.rename(columns={'name': 'genres_names'})\n",
    "del tracks_genres"
   ]
  },
  {
   "cell_type": "code",
   "execution_count": 108,
   "id": "0ca8ace8-eade-4f88-b5db-f388f955d6a2",
   "metadata": {},
   "outputs": [
    {
     "data": {
      "text/html": [
       "<div>\n",
       "<style scoped>\n",
       "    .dataframe tbody tr th:only-of-type {\n",
       "        vertical-align: middle;\n",
       "    }\n",
       "\n",
       "    .dataframe tbody tr th {\n",
       "        vertical-align: top;\n",
       "    }\n",
       "\n",
       "    .dataframe thead th {\n",
       "        text-align: right;\n",
       "    }\n",
       "</style>\n",
       "<table border=\"1\" class=\"dataframe\">\n",
       "  <thead>\n",
       "    <tr style=\"text-align: right;\">\n",
       "      <th></th>\n",
       "      <th>122148</th>\n",
       "      <th>3137</th>\n",
       "      <th>95303</th>\n",
       "      <th>410481</th>\n",
       "      <th>619053</th>\n",
       "    </tr>\n",
       "  </thead>\n",
       "  <tbody>\n",
       "    <tr>\n",
       "      <th>track_id</th>\n",
       "      <td>2197708</td>\n",
       "      <td>17264</td>\n",
       "      <td>847465</td>\n",
       "      <td>28307046</td>\n",
       "      <td>43356017</td>\n",
       "    </tr>\n",
       "    <tr>\n",
       "      <th>albums</th>\n",
       "      <td>[217550]</td>\n",
       "      <td>[1511, 2122, 85703, 213393, 2507414, 3290997, ...</td>\n",
       "      <td>[95478, 95479]</td>\n",
       "      <td>[3385444]</td>\n",
       "      <td>[5765038]</td>\n",
       "    </tr>\n",
       "    <tr>\n",
       "      <th>artists</th>\n",
       "      <td>[87889, 89233]</td>\n",
       "      <td>[7851]</td>\n",
       "      <td>[49469]</td>\n",
       "      <td>[4313173]</td>\n",
       "      <td>[111980, 413023]</td>\n",
       "    </tr>\n",
       "    <tr>\n",
       "      <th>genres</th>\n",
       "      <td>[11]</td>\n",
       "      <td>[11, 14, 102]</td>\n",
       "      <td>[13]</td>\n",
       "      <td>[3, 75]</td>\n",
       "      <td>[19, 325]</td>\n",
       "    </tr>\n",
       "    <tr>\n",
       "      <th>n_albums</th>\n",
       "      <td>1</td>\n",
       "      <td>10</td>\n",
       "      <td>2</td>\n",
       "      <td>1</td>\n",
       "      <td>1</td>\n",
       "    </tr>\n",
       "    <tr>\n",
       "      <th>n_artists</th>\n",
       "      <td>2</td>\n",
       "      <td>1</td>\n",
       "      <td>1</td>\n",
       "      <td>1</td>\n",
       "      <td>2</td>\n",
       "    </tr>\n",
       "    <tr>\n",
       "      <th>n_genres</th>\n",
       "      <td>1</td>\n",
       "      <td>3</td>\n",
       "      <td>1</td>\n",
       "      <td>2</td>\n",
       "      <td>2</td>\n",
       "    </tr>\n",
       "    <tr>\n",
       "      <th>track_name</th>\n",
       "      <td>Brighton Beach</td>\n",
       "      <td>My Girl</td>\n",
       "      <td>Redesign Me</td>\n",
       "      <td>пизда</td>\n",
       "      <td>Гравитация</td>\n",
       "    </tr>\n",
       "    <tr>\n",
       "      <th>artists_names</th>\n",
       "      <td>[Télépopmusik, Angela McCluskey]</td>\n",
       "      <td>[The Mamas &amp; The Papas]</td>\n",
       "      <td>[VersaEmerge]</td>\n",
       "      <td>[макулатура]</td>\n",
       "      <td>[Интарс Бусулис, Елена Ваенга]</td>\n",
       "    </tr>\n",
       "    <tr>\n",
       "      <th>albums_names</th>\n",
       "      <td>[Angel Milk]</td>\n",
       "      <td>[Gold, Colour Collection, California Dreamin' ...</td>\n",
       "      <td>[Fixed At Zero, Fixed At Zero]</td>\n",
       "      <td>[девять рассказов]</td>\n",
       "      <td>[1+1 (Дуэты)]</td>\n",
       "    </tr>\n",
       "    <tr>\n",
       "      <th>genres_names</th>\n",
       "      <td>[pop]</td>\n",
       "      <td>[pop, rock, allrock]</td>\n",
       "      <td>[alternative]</td>\n",
       "      <td>[rusrap, rap]</td>\n",
       "      <td>[rusestrada, estrada]</td>\n",
       "    </tr>\n",
       "  </tbody>\n",
       "</table>\n",
       "</div>"
      ],
      "text/plain": [
       "                                         122148  \\\n",
       "track_id                                2197708   \n",
       "albums                                 [217550]   \n",
       "artists                          [87889, 89233]   \n",
       "genres                                     [11]   \n",
       "n_albums                                      1   \n",
       "n_artists                                     2   \n",
       "n_genres                                      1   \n",
       "track_name                       Brighton Beach   \n",
       "artists_names  [Télépopmusik, Angela McCluskey]   \n",
       "albums_names                       [Angel Milk]   \n",
       "genres_names                              [pop]   \n",
       "\n",
       "                                                          3137    \\\n",
       "track_id                                                   17264   \n",
       "albums         [1511, 2122, 85703, 213393, 2507414, 3290997, ...   \n",
       "artists                                                   [7851]   \n",
       "genres                                             [11, 14, 102]   \n",
       "n_albums                                                      10   \n",
       "n_artists                                                      1   \n",
       "n_genres                                                       3   \n",
       "track_name                                               My Girl   \n",
       "artists_names                            [The Mamas & The Papas]   \n",
       "albums_names   [Gold, Colour Collection, California Dreamin' ...   \n",
       "genres_names                                [pop, rock, allrock]   \n",
       "\n",
       "                                       95303               410481  \\\n",
       "track_id                               847465            28307046   \n",
       "albums                         [95478, 95479]           [3385444]   \n",
       "artists                               [49469]           [4313173]   \n",
       "genres                                   [13]             [3, 75]   \n",
       "n_albums                                    2                   1   \n",
       "n_artists                                   1                   1   \n",
       "n_genres                                    1                   2   \n",
       "track_name                        Redesign Me               пизда   \n",
       "artists_names                   [VersaEmerge]        [макулатура]   \n",
       "albums_names   [Fixed At Zero, Fixed At Zero]  [девять рассказов]   \n",
       "genres_names                    [alternative]       [rusrap, rap]   \n",
       "\n",
       "                                       619053  \n",
       "track_id                             43356017  \n",
       "albums                              [5765038]  \n",
       "artists                      [111980, 413023]  \n",
       "genres                              [19, 325]  \n",
       "n_albums                                    1  \n",
       "n_artists                                   2  \n",
       "n_genres                                    2  \n",
       "track_name                         Гравитация  \n",
       "artists_names  [Интарс Бусулис, Елена Ваенга]  \n",
       "albums_names                    [1+1 (Дуэты)]  \n",
       "genres_names            [rusestrada, estrada]  "
      ]
     },
     "execution_count": 108,
     "metadata": {},
     "output_type": "execute_result"
    }
   ],
   "source": [
    "tracks.sample(5).T"
   ]
  },
  {
   "cell_type": "code",
   "execution_count": 110,
   "id": "bc980b24-07a6-4142-855f-44819c176a9e",
   "metadata": {},
   "outputs": [],
   "source": [
    "# для того, чтобы модель срабатывала правильно, надо преобразовать идентификаторы треков\n",
    "labelencoder = LabelEncoder()\n",
    "tracks['new_id'] = labelencoder.fit_transform(tracks['track_id'])"
   ]
  },
  {
   "cell_type": "code",
   "execution_count": 112,
   "id": "9458e779-61a7-4b1d-ba3e-7d58692eadc2",
   "metadata": {},
   "outputs": [
    {
     "data": {
      "text/html": [
       "<div>\n",
       "<style scoped>\n",
       "    .dataframe tbody tr th:only-of-type {\n",
       "        vertical-align: middle;\n",
       "    }\n",
       "\n",
       "    .dataframe tbody tr th {\n",
       "        vertical-align: top;\n",
       "    }\n",
       "\n",
       "    .dataframe thead th {\n",
       "        text-align: right;\n",
       "    }\n",
       "</style>\n",
       "<table border=\"1\" class=\"dataframe\">\n",
       "  <thead>\n",
       "    <tr style=\"text-align: right;\">\n",
       "      <th></th>\n",
       "      <th>track_id</th>\n",
       "      <th>albums</th>\n",
       "      <th>artists</th>\n",
       "      <th>genres</th>\n",
       "      <th>n_albums</th>\n",
       "      <th>n_artists</th>\n",
       "      <th>n_genres</th>\n",
       "      <th>track_name</th>\n",
       "      <th>artists_names</th>\n",
       "      <th>albums_names</th>\n",
       "      <th>genres_names</th>\n",
       "      <th>new_id</th>\n",
       "    </tr>\n",
       "  </thead>\n",
       "  <tbody>\n",
       "    <tr>\n",
       "      <th>0</th>\n",
       "      <td>26</td>\n",
       "      <td>[3, 2490753]</td>\n",
       "      <td>[16]</td>\n",
       "      <td>[11, 21]</td>\n",
       "      <td>2</td>\n",
       "      <td>1</td>\n",
       "      <td>2</td>\n",
       "      <td>Complimentary Me</td>\n",
       "      <td>[Elizabeth &amp; the Catapult]</td>\n",
       "      <td>[Taller Children, Taller Children]</td>\n",
       "      <td>[pop, folk]</td>\n",
       "      <td>0</td>\n",
       "    </tr>\n",
       "    <tr>\n",
       "      <th>1</th>\n",
       "      <td>38</td>\n",
       "      <td>[3, 2490753]</td>\n",
       "      <td>[16]</td>\n",
       "      <td>[11, 21]</td>\n",
       "      <td>2</td>\n",
       "      <td>1</td>\n",
       "      <td>2</td>\n",
       "      <td>Momma's Boy</td>\n",
       "      <td>[Elizabeth &amp; the Catapult]</td>\n",
       "      <td>[Taller Children, Taller Children]</td>\n",
       "      <td>[pop, folk]</td>\n",
       "      <td>1</td>\n",
       "    </tr>\n",
       "    <tr>\n",
       "      <th>2</th>\n",
       "      <td>135</td>\n",
       "      <td>[12, 214, 2490809]</td>\n",
       "      <td>[84]</td>\n",
       "      <td>[11]</td>\n",
       "      <td>3</td>\n",
       "      <td>1</td>\n",
       "      <td>1</td>\n",
       "      <td>Atticus</td>\n",
       "      <td>[Noisettes]</td>\n",
       "      <td>[Wild Young Hearts, Wild Young Hearts, Wild Yo...</td>\n",
       "      <td>[pop]</td>\n",
       "      <td>2</td>\n",
       "    </tr>\n",
       "    <tr>\n",
       "      <th>3</th>\n",
       "      <td>136</td>\n",
       "      <td>[12, 214, 2490809]</td>\n",
       "      <td>[84]</td>\n",
       "      <td>[11]</td>\n",
       "      <td>3</td>\n",
       "      <td>1</td>\n",
       "      <td>1</td>\n",
       "      <td>24 Hours</td>\n",
       "      <td>[Noisettes]</td>\n",
       "      <td>[Wild Young Hearts, Wild Young Hearts, Wild Yo...</td>\n",
       "      <td>[pop]</td>\n",
       "      <td>3</td>\n",
       "    </tr>\n",
       "    <tr>\n",
       "      <th>4</th>\n",
       "      <td>138</td>\n",
       "      <td>[12, 214, 322, 72275, 72292, 91199, 213505, 24...</td>\n",
       "      <td>[84]</td>\n",
       "      <td>[11]</td>\n",
       "      <td>10</td>\n",
       "      <td>1</td>\n",
       "      <td>1</td>\n",
       "      <td>Don't Upset The Rhythm (Go Baby Go)</td>\n",
       "      <td>[Noisettes]</td>\n",
       "      <td>[Wild Young Hearts, Wild Young Hearts, Don't U...</td>\n",
       "      <td>[pop]</td>\n",
       "      <td>4</td>\n",
       "    </tr>\n",
       "  </tbody>\n",
       "</table>\n",
       "</div>"
      ],
      "text/plain": [
       "   track_id                                             albums artists  \\\n",
       "0        26                                       [3, 2490753]    [16]   \n",
       "1        38                                       [3, 2490753]    [16]   \n",
       "2       135                                 [12, 214, 2490809]    [84]   \n",
       "3       136                                 [12, 214, 2490809]    [84]   \n",
       "4       138  [12, 214, 322, 72275, 72292, 91199, 213505, 24...    [84]   \n",
       "\n",
       "     genres  n_albums  n_artists  n_genres  \\\n",
       "0  [11, 21]         2          1         2   \n",
       "1  [11, 21]         2          1         2   \n",
       "2      [11]         3          1         1   \n",
       "3      [11]         3          1         1   \n",
       "4      [11]        10          1         1   \n",
       "\n",
       "                            track_name               artists_names  \\\n",
       "0                     Complimentary Me  [Elizabeth & the Catapult]   \n",
       "1                          Momma's Boy  [Elizabeth & the Catapult]   \n",
       "2                              Atticus                 [Noisettes]   \n",
       "3                             24 Hours                 [Noisettes]   \n",
       "4  Don't Upset The Rhythm (Go Baby Go)                 [Noisettes]   \n",
       "\n",
       "                                        albums_names genres_names  new_id  \n",
       "0                 [Taller Children, Taller Children]  [pop, folk]       0  \n",
       "1                 [Taller Children, Taller Children]  [pop, folk]       1  \n",
       "2  [Wild Young Hearts, Wild Young Hearts, Wild Yo...        [pop]       2  \n",
       "3  [Wild Young Hearts, Wild Young Hearts, Wild Yo...        [pop]       3  \n",
       "4  [Wild Young Hearts, Wild Young Hearts, Don't U...        [pop]       4  "
      ]
     },
     "execution_count": 112,
     "metadata": {},
     "output_type": "execute_result"
    }
   ],
   "source": [
    "tracks.head()"
   ]
  },
  {
   "cell_type": "code",
   "execution_count": 134,
   "id": "93407cd0-81a8-4087-ac7f-14129e1cbdd3",
   "metadata": {},
   "outputs": [],
   "source": [
    "tracks = tracks.rename(columns={'new_id': 'item_id'})"
   ]
  },
  {
   "cell_type": "code",
   "execution_count": 135,
   "id": "d27fce21-fad3-424b-be45-a32d641d92a5",
   "metadata": {},
   "outputs": [
    {
     "name": "stdout",
     "output_type": "stream",
     "text": [
      "<class 'pandas.core.frame.DataFrame'>\n",
      "RangeIndex: 980977 entries, 0 to 980976\n",
      "Data columns (total 12 columns):\n",
      " #   Column         Non-Null Count   Dtype \n",
      "---  ------         --------------   ----- \n",
      " 0   track_id       980977 non-null  int64 \n",
      " 1   albums         980977 non-null  object\n",
      " 2   artists        980977 non-null  object\n",
      " 3   genres         980977 non-null  object\n",
      " 4   n_albums       980977 non-null  int64 \n",
      " 5   n_artists      980977 non-null  int64 \n",
      " 6   n_genres       980977 non-null  int64 \n",
      " 7   track_name     980977 non-null  object\n",
      " 8   artists_names  980977 non-null  object\n",
      " 9   albums_names   980977 non-null  object\n",
      " 10  genres_names   980977 non-null  object\n",
      " 11  item_id        980977 non-null  int64 \n",
      "dtypes: int64(5), object(7)\n",
      "memory usage: 89.8+ MB\n"
     ]
    }
   ],
   "source": [
    "tracks.info()"
   ]
  },
  {
   "cell_type": "code",
   "execution_count": 136,
   "id": "a1179e35-e75d-4ca1-a4e1-e388f04b3bdf",
   "metadata": {},
   "outputs": [],
   "source": [
    "tracks.to_parquet(\"items.parquet\")"
   ]
  },
  {
   "cell_type": "code",
   "execution_count": 121,
   "id": "a3d58377-c2f7-4fc7-b3da-440ff1ee238a",
   "metadata": {},
   "outputs": [],
   "source": [
    "# Сохранение модели labelencoder в файл\n",
    "with open('label_encoder.pkl', 'wb') as f:\n",
    "    pickle.dump(labelencoder, f)"
   ]
  },
  {
   "cell_type": "code",
   "execution_count": null,
   "id": "36e3a07a-de40-4eff-a4e5-8136cf6b4bc2",
   "metadata": {},
   "outputs": [],
   "source": [
    "# Загрузка модели из файла\n",
    "#with open('label_encoder.pkl', 'rb') as f:\n",
    "#    labelencoder = pickle.load(f)"
   ]
  },
  {
   "cell_type": "code",
   "execution_count": 119,
   "id": "723a13d9-5b84-4919-bea9-ad408cb1676d",
   "metadata": {},
   "outputs": [],
   "source": [
    "interactions = pd.read_parquet(\"interactions_fix.parquet\")"
   ]
  },
  {
   "cell_type": "code",
   "execution_count": 126,
   "id": "2fbbaf74-dd3a-4e2e-a691-50978e0c0a81",
   "metadata": {},
   "outputs": [],
   "source": [
    "# теперь надо, чтобы во взаимодействиях тоже токие же идентификаторы появились\n",
    "interactions['new_track_id'] = labelencoder.transform(interactions['track_id'])"
   ]
  },
  {
   "cell_type": "code",
   "execution_count": 127,
   "id": "77897913-0ac7-4afa-b01d-66081c5aa1b7",
   "metadata": {},
   "outputs": [
    {
     "data": {
      "text/html": [
       "<div>\n",
       "<style scoped>\n",
       "    .dataframe tbody tr th:only-of-type {\n",
       "        vertical-align: middle;\n",
       "    }\n",
       "\n",
       "    .dataframe tbody tr th {\n",
       "        vertical-align: top;\n",
       "    }\n",
       "\n",
       "    .dataframe thead th {\n",
       "        text-align: right;\n",
       "    }\n",
       "</style>\n",
       "<table border=\"1\" class=\"dataframe\">\n",
       "  <thead>\n",
       "    <tr style=\"text-align: right;\">\n",
       "      <th></th>\n",
       "      <th>user_id</th>\n",
       "      <th>track_id</th>\n",
       "      <th>track_seq</th>\n",
       "      <th>started_at</th>\n",
       "      <th>new_track_id</th>\n",
       "    </tr>\n",
       "  </thead>\n",
       "  <tbody>\n",
       "    <tr>\n",
       "      <th>0</th>\n",
       "      <td>1</td>\n",
       "      <td>24417</td>\n",
       "      <td>1</td>\n",
       "      <td>2022-06-11</td>\n",
       "      <td>4341</td>\n",
       "    </tr>\n",
       "    <tr>\n",
       "      <th>1</th>\n",
       "      <td>1</td>\n",
       "      <td>108208</td>\n",
       "      <td>2</td>\n",
       "      <td>2022-06-13</td>\n",
       "      <td>18039</td>\n",
       "    </tr>\n",
       "    <tr>\n",
       "      <th>2</th>\n",
       "      <td>1</td>\n",
       "      <td>108209</td>\n",
       "      <td>3</td>\n",
       "      <td>2022-06-13</td>\n",
       "      <td>18040</td>\n",
       "    </tr>\n",
       "    <tr>\n",
       "      <th>3</th>\n",
       "      <td>1</td>\n",
       "      <td>592642</td>\n",
       "      <td>4</td>\n",
       "      <td>2022-06-15</td>\n",
       "      <td>61577</td>\n",
       "    </tr>\n",
       "    <tr>\n",
       "      <th>4</th>\n",
       "      <td>1</td>\n",
       "      <td>628687</td>\n",
       "      <td>5</td>\n",
       "      <td>2022-06-15</td>\n",
       "      <td>64323</td>\n",
       "    </tr>\n",
       "  </tbody>\n",
       "</table>\n",
       "</div>"
      ],
      "text/plain": [
       "   user_id  track_id  track_seq started_at  new_track_id\n",
       "0        1     24417          1 2022-06-11          4341\n",
       "1        1    108208          2 2022-06-13         18039\n",
       "2        1    108209          3 2022-06-13         18040\n",
       "3        1    592642          4 2022-06-15         61577\n",
       "4        1    628687          5 2022-06-15         64323"
      ]
     },
     "execution_count": 127,
     "metadata": {},
     "output_type": "execute_result"
    }
   ],
   "source": [
    "interactions.head()"
   ]
  },
  {
   "cell_type": "code",
   "execution_count": 129,
   "id": "95e63c17-3d12-47fb-a7ff-fa36b1d0ea2d",
   "metadata": {},
   "outputs": [],
   "source": [
    "interactions.drop('track_id', axis=1, inplace=True)"
   ]
  },
  {
   "cell_type": "code",
   "execution_count": 131,
   "id": "50a02e93-bb2b-4b27-b244-7c21ce8c7b66",
   "metadata": {},
   "outputs": [],
   "source": [
    "interactions = interactions.rename(columns={'new_track_id': 'item_id'})"
   ]
  },
  {
   "cell_type": "code",
   "execution_count": 132,
   "id": "16fa1b43-db44-4fb7-9b3c-f1f351ba51f2",
   "metadata": {},
   "outputs": [
    {
     "data": {
      "text/html": [
       "<div>\n",
       "<style scoped>\n",
       "    .dataframe tbody tr th:only-of-type {\n",
       "        vertical-align: middle;\n",
       "    }\n",
       "\n",
       "    .dataframe tbody tr th {\n",
       "        vertical-align: top;\n",
       "    }\n",
       "\n",
       "    .dataframe thead th {\n",
       "        text-align: right;\n",
       "    }\n",
       "</style>\n",
       "<table border=\"1\" class=\"dataframe\">\n",
       "  <thead>\n",
       "    <tr style=\"text-align: right;\">\n",
       "      <th></th>\n",
       "      <th>user_id</th>\n",
       "      <th>track_seq</th>\n",
       "      <th>started_at</th>\n",
       "      <th>item_id</th>\n",
       "    </tr>\n",
       "  </thead>\n",
       "  <tbody>\n",
       "    <tr>\n",
       "      <th>0</th>\n",
       "      <td>1</td>\n",
       "      <td>1</td>\n",
       "      <td>2022-06-11</td>\n",
       "      <td>4341</td>\n",
       "    </tr>\n",
       "    <tr>\n",
       "      <th>1</th>\n",
       "      <td>1</td>\n",
       "      <td>2</td>\n",
       "      <td>2022-06-13</td>\n",
       "      <td>18039</td>\n",
       "    </tr>\n",
       "    <tr>\n",
       "      <th>2</th>\n",
       "      <td>1</td>\n",
       "      <td>3</td>\n",
       "      <td>2022-06-13</td>\n",
       "      <td>18040</td>\n",
       "    </tr>\n",
       "    <tr>\n",
       "      <th>3</th>\n",
       "      <td>1</td>\n",
       "      <td>4</td>\n",
       "      <td>2022-06-15</td>\n",
       "      <td>61577</td>\n",
       "    </tr>\n",
       "    <tr>\n",
       "      <th>4</th>\n",
       "      <td>1</td>\n",
       "      <td>5</td>\n",
       "      <td>2022-06-15</td>\n",
       "      <td>64323</td>\n",
       "    </tr>\n",
       "  </tbody>\n",
       "</table>\n",
       "</div>"
      ],
      "text/plain": [
       "   user_id  track_seq started_at  item_id\n",
       "0        1          1 2022-06-11     4341\n",
       "1        1          2 2022-06-13    18039\n",
       "2        1          3 2022-06-13    18040\n",
       "3        1          4 2022-06-15    61577\n",
       "4        1          5 2022-06-15    64323"
      ]
     },
     "execution_count": 132,
     "metadata": {},
     "output_type": "execute_result"
    }
   ],
   "source": [
    "interactions.head()"
   ]
  },
  {
   "cell_type": "code",
   "execution_count": 133,
   "id": "ebd2acaa-e140-4431-9118-c22e4fc77ef0",
   "metadata": {},
   "outputs": [],
   "source": [
    "interactions.to_parquet(\"events.parquet\")"
   ]
  },
  {
   "cell_type": "markdown",
   "id": "8ac50e4f-de64-4b2e-a37d-6086ae3171ac",
   "metadata": {},
   "source": [
    "А user_id перекодировать нет никакого смысла"
   ]
  },
  {
   "cell_type": "markdown",
   "id": "4d1be653-eed8-4fa0-a9c5-3811b080d71d",
   "metadata": {},
   "source": [
    "# Сохранение данных"
   ]
  },
  {
   "cell_type": "markdown",
   "id": "36f1314a-3af3-4faf-a0b1-3045173d1500",
   "metadata": {},
   "source": [
    "Сохраним данные в двух файлах в персональном S3-бакете по пути `recsys/data/`:\n",
    "- `items.parquet` — все данные о музыкальных треках,\n",
    "- `events.parquet` — все данные о взаимодействиях."
   ]
  },
  {
   "cell_type": "code",
   "execution_count": 46,
   "id": "05a2743a-0b3c-4121-a679-316f3e4c0c70",
   "metadata": {},
   "outputs": [],
   "source": [
    "s3 = get_session_student()\n",
    "bucket_name = os.getenv(\"S3_BUCKET_NAME\")"
   ]
  },
  {
   "cell_type": "code",
   "execution_count": 145,
   "id": "9f77af17-7705-4fae-9aad-db579b39faad",
   "metadata": {},
   "outputs": [],
   "source": [
    "s3.upload_file(\"items.parquet\", bucket_name, 'recsys/data/items.parquet')\n",
    "s3.upload_file(\"events.parquet\", bucket_name, 'recsys/data/events.parquet')"
   ]
  },
  {
   "cell_type": "code",
   "execution_count": 152,
   "id": "4c6139e7-b49b-447d-b4ea-fe8e72328158",
   "metadata": {},
   "outputs": [],
   "source": [
    "response = s3.list_objects_v2(Bucket=bucket_name)"
   ]
  },
  {
   "cell_type": "code",
   "execution_count": 154,
   "id": "40b7dc73-6d01-4ced-8e9b-4525deffa5a4",
   "metadata": {},
   "outputs": [
    {
     "name": "stdout",
     "output_type": "stream",
     "text": [
      "Имя объекта: recsys/data/events.parquet, Размер: 1307546120 байт\n",
      "Имя объекта: recsys/data/items.parquet, Размер: 75470489 байт\n"
     ]
    }
   ],
   "source": [
    "# Проверяем, есть ли объекты в бакете\n",
    "if 'Contents' in response:\n",
    "    for obj in response['Contents'][-2:]:\n",
    "        print(f\"Имя объекта: {obj['Key']}, Размер: {obj['Size']} байт\")\n",
    "else:\n",
    "    print(\"Бакет пуст или не существует.\")"
   ]
  },
  {
   "cell_type": "markdown",
   "id": "72ecbbed-c560-44d9-9c14-86c7dc76f399",
   "metadata": {},
   "source": [
    "# Очистка памяти"
   ]
  },
  {
   "cell_type": "markdown",
   "id": "b5358ede-ba6e-4c4f-bd73-5b9344f0ba79",
   "metadata": {},
   "source": [
    "Здесь, может понадобится очистка памяти для высвобождения ресурсов для выполнения кода ниже. \n",
    "\n",
    "Приведите соответствующие код, комментарии, например:\n",
    "- код для удаление более ненужных переменных,\n",
    "- комментарий, что следует перезапустить kernel, выполнить такие-то начальные секции и продолжить с этапа 3."
   ]
  },
  {
   "cell_type": "code",
   "execution_count": 157,
   "id": "9bb46c2a-8b1a-414b-83ed-dad45ddaaa22",
   "metadata": {},
   "outputs": [],
   "source": [
    "items = tracks\n",
    "events = interactions"
   ]
  },
  {
   "cell_type": "code",
   "execution_count": 156,
   "id": "97971e50-fd02-49ae-afa8-2b12ca44aea9",
   "metadata": {},
   "outputs": [
    {
     "name": "stdout",
     "output_type": "stream",
     "text": [
      "LabelEncoder\t albums_df\t all_tracks_set\t artists_df\t boto3\t bucket_name\t catalog_names\t f\t genres_df\t \n",
      "get_session_student\t interactions\t labelencoder\t listen_set\t load_dotenv\t logging\t not_listen_set\t np\t obj\t \n",
      "os\t pd\t pickle\t plt\t response\t s3\t s3_client\t top_10_gengres\t tqdm\t \n",
      "tracks\t tracks_df\t \n"
     ]
    }
   ],
   "source": [
    "%who"
   ]
  },
  {
   "cell_type": "code",
   "execution_count": 158,
   "id": "767fe920-e12e-4ad8-b04e-56e8091fac9f",
   "metadata": {},
   "outputs": [],
   "source": [
    "del albums_df, all_tracks_set, artists_df, catalog_names, genres_df, listen_set, not_listen_set, response, top_10_gengres, tracks, tracks_df"
   ]
  },
  {
   "cell_type": "markdown",
   "id": "e4da6ec3-cb09-4f91-a007-79f6503ef10b",
   "metadata": {},
   "source": [
    "Для продолжения начиная с этого места надо произвести импорт библиотек и подгрузить подготовленные датафреймы"
   ]
  },
  {
   "cell_type": "markdown",
   "id": "708503df-ee89-4cf3-8489-093dc478e2a8",
   "metadata": {},
   "source": [
    "# === ЭТАП 3 ==="
   ]
  },
  {
   "cell_type": "markdown",
   "id": "fd77de22-e10f-4b42-85c1-8fb6f805fe68",
   "metadata": {},
   "source": [
    "# Загрузка данных"
   ]
  },
  {
   "cell_type": "markdown",
   "id": "780a4241-1ecd-4a3e-bbb3-fc2f6ca94f68",
   "metadata": {},
   "source": [
    "Если необходимо, то загружаем items.parquet, events.parquet."
   ]
  },
  {
   "cell_type": "code",
   "execution_count": null,
   "id": "f19fc8a5-bd2c-40d7-864a-ee75aca6d512",
   "metadata": {},
   "outputs": [],
   "source": [
    "items = pd.read_parquet(\"items.parquet\")"
   ]
  },
  {
   "cell_type": "code",
   "execution_count": null,
   "id": "b93c5016-bd70-4a63-8503-216f3e1039c0",
   "metadata": {},
   "outputs": [],
   "source": [
    "events = pd.read_parquet(\"events.parquet\")"
   ]
  },
  {
   "cell_type": "markdown",
   "id": "a694c023-6477-490b-939d-1cfa6f5f1b72",
   "metadata": {},
   "source": [
    "# Разбиение данных"
   ]
  },
  {
   "cell_type": "markdown",
   "id": "fbd5f6e0-54e7-4428-8678-eabce505d82c",
   "metadata": {},
   "source": [
    "Разбейте данные на тренировочную и тестовую выборки: в тренировочную отнесите все данные до 16 декабря 2022 года (не включительно)"
   ]
  },
  {
   "cell_type": "code",
   "execution_count": 159,
   "id": "00c2dfa5-d8a2-47d1-922e-6eefee2c62d1",
   "metadata": {},
   "outputs": [
    {
     "name": "stdout",
     "output_type": "stream",
     "text": [
      "2022-01-01 00:00:00\n",
      "2022-12-31 00:00:00\n"
     ]
    }
   ],
   "source": [
    "print(events['started_at'].min())\n",
    "print(events['started_at'].max())"
   ]
  },
  {
   "cell_type": "code",
   "execution_count": 163,
   "id": "26fe3e3c-8c5f-4437-bf13-9191adef08bb",
   "metadata": {},
   "outputs": [
    {
     "name": "stdout",
     "output_type": "stream",
     "text": [
      "2022-12-16 00:00:00\n",
      "222184423\n"
     ]
    }
   ],
   "source": [
    "# зададим точку разбиения\n",
    "train_test_global_time_split_date = pd.to_datetime(\"2022-12-16\")\n",
    "print(train_test_global_time_split_date)\n",
    "train_test_global_time_split_idx = events[\"started_at\"] < train_test_global_time_split_date\n",
    "print(len(train_test_global_time_split_idx))"
   ]
  },
  {
   "cell_type": "code",
   "execution_count": 169,
   "id": "cd37d5fc-8551-40a4-816b-4dc5c2984b5e",
   "metadata": {},
   "outputs": [],
   "source": [
    "events_train = events[train_test_global_time_split_idx]\n",
    "events_test = events[~train_test_global_time_split_idx]"
   ]
  },
  {
   "cell_type": "code",
   "execution_count": 24,
   "id": "db46fa0e-20ee-4863-a268-321735ad6720",
   "metadata": {},
   "outputs": [],
   "source": [
    "# количество пользователей в train и test\n",
    "users_train = events_train[\"user_id\"].drop_duplicates()\n",
    "users_test = events_test[\"user_id\"].drop_duplicates()"
   ]
  },
  {
   "cell_type": "code",
   "execution_count": 25,
   "id": "8970873a-e20e-4b0f-b27f-3019828bfa1c",
   "metadata": {},
   "outputs": [
    {
     "name": "stdout",
     "output_type": "stream",
     "text": [
      "1342106 782025 751365\n"
     ]
    }
   ],
   "source": [
    "# количество пользователей, которые есть и в train, и в test\n",
    "common_users = list(set(users_train.to_list()).intersection(set(users_test.to_list())))\n",
    "print(len(users_train), len(users_test), len(common_users))"
   ]
  },
  {
   "cell_type": "code",
   "execution_count": 26,
   "id": "734c79b0-977c-4f36-80d3-a627d03a4fab",
   "metadata": {},
   "outputs": [
    {
     "name": "stdout",
     "output_type": "stream",
     "text": [
      "30660\n"
     ]
    }
   ],
   "source": [
    "# холодные пользователи (которые есть в тесте, но нет в трейне)\n",
    "cold_users = list(set(users_test.to_list()).difference(set(users_train.to_list())))\n",
    "print(len(cold_users)) "
   ]
  },
  {
   "cell_type": "code",
   "execution_count": 171,
   "id": "ec56a716-4f9c-4178-bf87-2fe86834cec4",
   "metadata": {},
   "outputs": [],
   "source": [
    "events_train.to_parquet(\"events_train.parquet\")"
   ]
  },
  {
   "cell_type": "code",
   "execution_count": 172,
   "id": "9890bb5b-7089-4ddc-bc84-1c511ec81011",
   "metadata": {},
   "outputs": [],
   "source": [
    "events_test.to_parquet(\"events_test.parquet\")"
   ]
  },
  {
   "cell_type": "markdown",
   "id": "c1b36aed-df2c-4e8c-8aad-35d5a9812283",
   "metadata": {},
   "source": [
    "Рассчитайте рекомендации нескольких типов, сохраните каждый тип в своём файле, в персональном S3-бакете по пути recsys/recommendations/:\n",
    "* топ популярных — в top_popular.parquet;\n",
    "* персональные (при помощи ALS) — в personal_als.parquet;\n",
    "* похожие треки, или i2i (при помощи ALS) — в similar.parquet."
   ]
  },
  {
   "cell_type": "markdown",
   "id": "9131c7e6-8852-4556-b510-51f7253cc299",
   "metadata": {},
   "source": [
    "# Топ популярных"
   ]
  },
  {
   "cell_type": "markdown",
   "id": "dd70d43a-88cc-4719-b291-feaed7136f30",
   "metadata": {},
   "source": [
    "Рассчитаем рекомендации как топ популярных."
   ]
  },
  {
   "cell_type": "code",
   "execution_count": 8,
   "id": "f5b60834-4def-4e4b-831a-5fa0e8c82d72",
   "metadata": {},
   "outputs": [],
   "source": [
    "items = pd.read_parquet(\"items.parquet\")"
   ]
  },
  {
   "cell_type": "code",
   "execution_count": 9,
   "id": "bbaa7946-a8be-4391-9d99-01a2568c50b3",
   "metadata": {},
   "outputs": [],
   "source": [
    "events_test = pd.read_parquet(\"events_test.parquet\")"
   ]
  },
  {
   "cell_type": "code",
   "execution_count": 10,
   "id": "0b6f6979-22fd-441c-aaf9-d652f8f5f18c",
   "metadata": {},
   "outputs": [],
   "source": [
    "events_train = pd.read_parquet(\"events_train.parquet\")"
   ]
  },
  {
   "cell_type": "code",
   "execution_count": 7,
   "id": "ee45e200-b7d6-4f56-9077-aad431689b96",
   "metadata": {},
   "outputs": [],
   "source": [
    "# возьмем 1 последний месяц трейна\n",
    "top_pop_start_date = pd.to_datetime(\"2022-11-16\").date()\n",
    "\n",
    "item_popularity = events_train \\\n",
    "    .query(\"started_at >= @top_pop_start_date\") \\\n",
    "    .groupby([\"item_id\"]).agg(users=(\"user_id\", \"nunique\")).reset_index()"
   ]
  },
  {
   "cell_type": "code",
   "execution_count": 9,
   "id": "a5e0cfda-688e-4413-acae-e964c8ca02ca",
   "metadata": {},
   "outputs": [],
   "source": [
    "# нормализация пользователей и среднего рейтинга, требуется для их приведения к одному масштабу\n",
    "scaler = MinMaxScaler()\n",
    "item_popularity[[\"users_norm\"]] = scaler.fit_transform(\n",
    "    item_popularity[[\"users\"]]\n",
    ")"
   ]
  },
  {
   "cell_type": "code",
   "execution_count": 10,
   "id": "7690c86f-7aa9-46ed-bba5-2c837626411e",
   "metadata": {},
   "outputs": [],
   "source": [
    "# вычисляем popularity_score, как скор популярности (рейтинга нет в данных)\n",
    "item_popularity[\"popularity_score\"] = item_popularity[\"users_norm\"]"
   ]
  },
  {
   "cell_type": "code",
   "execution_count": 11,
   "id": "9fee11f3-83ab-4b4c-b0c9-f6b5de4b56a5",
   "metadata": {},
   "outputs": [],
   "source": [
    "# сортируем по убыванию popularity_score\n",
    "item_popularity = item_popularity.sort_values(by='popularity_score',ascending=False)"
   ]
  },
  {
   "cell_type": "code",
   "execution_count": 50,
   "id": "863568ce-f324-48eb-9ce4-847a045b7572",
   "metadata": {},
   "outputs": [
    {
     "name": "stdout",
     "output_type": "stream",
     "text": [
      "<class 'pandas.core.frame.DataFrame'>\n",
      "Index: 811934 entries, 756433 to 650284\n",
      "Data columns (total 4 columns):\n",
      " #   Column            Non-Null Count   Dtype  \n",
      "---  ------            --------------   -----  \n",
      " 0   item_id           811934 non-null  int64  \n",
      " 1   users             811934 non-null  int64  \n",
      " 2   users_norm        811934 non-null  float64\n",
      " 3   popularity_score  811934 non-null  float64\n",
      "dtypes: float64(2), int64(2)\n",
      "memory usage: 31.0 MB\n"
     ]
    }
   ],
   "source": [
    "item_popularity.info()"
   ]
  },
  {
   "cell_type": "code",
   "execution_count": 12,
   "id": "b36ba1ed-d13f-43b4-a301-8d192f52b545",
   "metadata": {},
   "outputs": [
    {
     "data": {
      "text/html": [
       "<div>\n",
       "<style scoped>\n",
       "    .dataframe tbody tr th:only-of-type {\n",
       "        vertical-align: middle;\n",
       "    }\n",
       "\n",
       "    .dataframe tbody tr th {\n",
       "        vertical-align: top;\n",
       "    }\n",
       "\n",
       "    .dataframe thead th {\n",
       "        text-align: right;\n",
       "    }\n",
       "</style>\n",
       "<table border=\"1\" class=\"dataframe\">\n",
       "  <thead>\n",
       "    <tr style=\"text-align: right;\">\n",
       "      <th></th>\n",
       "      <th>item_id</th>\n",
       "      <th>users</th>\n",
       "      <th>users_norm</th>\n",
       "      <th>popularity_score</th>\n",
       "    </tr>\n",
       "  </thead>\n",
       "  <tbody>\n",
       "    <tr>\n",
       "      <th>756433</th>\n",
       "      <td>923941</td>\n",
       "      <td>23606</td>\n",
       "      <td>1.000000</td>\n",
       "      <td>1.000000</td>\n",
       "    </tr>\n",
       "    <tr>\n",
       "      <th>607168</th>\n",
       "      <td>770472</td>\n",
       "      <td>23093</td>\n",
       "      <td>0.978267</td>\n",
       "      <td>0.978267</td>\n",
       "    </tr>\n",
       "    <tr>\n",
       "      <th>751635</th>\n",
       "      <td>919064</td>\n",
       "      <td>22918</td>\n",
       "      <td>0.970854</td>\n",
       "      <td>0.970854</td>\n",
       "    </tr>\n",
       "    <tr>\n",
       "      <th>652823</th>\n",
       "      <td>818090</td>\n",
       "      <td>22682</td>\n",
       "      <td>0.960856</td>\n",
       "      <td>0.960856</td>\n",
       "    </tr>\n",
       "    <tr>\n",
       "      <th>733999</th>\n",
       "      <td>901224</td>\n",
       "      <td>22401</td>\n",
       "      <td>0.948951</td>\n",
       "      <td>0.948951</td>\n",
       "    </tr>\n",
       "    <tr>\n",
       "      <th>761279</th>\n",
       "      <td>928830</td>\n",
       "      <td>22244</td>\n",
       "      <td>0.942300</td>\n",
       "      <td>0.942300</td>\n",
       "    </tr>\n",
       "    <tr>\n",
       "      <th>721667</th>\n",
       "      <td>888735</td>\n",
       "      <td>20101</td>\n",
       "      <td>0.851515</td>\n",
       "      <td>0.851515</td>\n",
       "    </tr>\n",
       "    <tr>\n",
       "      <th>723532</th>\n",
       "      <td>890614</td>\n",
       "      <td>19985</td>\n",
       "      <td>0.846600</td>\n",
       "      <td>0.846600</td>\n",
       "    </tr>\n",
       "    <tr>\n",
       "      <th>535322</th>\n",
       "      <td>693863</td>\n",
       "      <td>18613</td>\n",
       "      <td>0.788477</td>\n",
       "      <td>0.788477</td>\n",
       "    </tr>\n",
       "    <tr>\n",
       "      <th>720385</th>\n",
       "      <td>887422</td>\n",
       "      <td>18051</td>\n",
       "      <td>0.764669</td>\n",
       "      <td>0.764669</td>\n",
       "    </tr>\n",
       "  </tbody>\n",
       "</table>\n",
       "</div>"
      ],
      "text/plain": [
       "        item_id  users  users_norm  popularity_score\n",
       "756433   923941  23606    1.000000          1.000000\n",
       "607168   770472  23093    0.978267          0.978267\n",
       "751635   919064  22918    0.970854          0.970854\n",
       "652823   818090  22682    0.960856          0.960856\n",
       "733999   901224  22401    0.948951          0.948951\n",
       "761279   928830  22244    0.942300          0.942300\n",
       "721667   888735  20101    0.851515          0.851515\n",
       "723532   890614  19985    0.846600          0.846600\n",
       "535322   693863  18613    0.788477          0.788477\n",
       "720385   887422  18051    0.764669          0.764669"
      ]
     },
     "execution_count": 12,
     "metadata": {},
     "output_type": "execute_result"
    }
   ],
   "source": [
    "item_popularity.head(10)"
   ]
  },
  {
   "cell_type": "code",
   "execution_count": 51,
   "id": "3646c2d9-504e-42a7-9f6e-f877a411de22",
   "metadata": {},
   "outputs": [],
   "source": [
    "# добавим в итемсы популярность раз нет рейтинга\n",
    "items = items.merge(item_popularity.drop(['users', 'users_norm'], axis=1), how='left', on='item_id')"
   ]
  },
  {
   "cell_type": "code",
   "execution_count": 52,
   "id": "118bae1e-49d3-4aa1-8e49-40c83b207c35",
   "metadata": {},
   "outputs": [
    {
     "data": {
      "text/html": [
       "<div>\n",
       "<style scoped>\n",
       "    .dataframe tbody tr th:only-of-type {\n",
       "        vertical-align: middle;\n",
       "    }\n",
       "\n",
       "    .dataframe tbody tr th {\n",
       "        vertical-align: top;\n",
       "    }\n",
       "\n",
       "    .dataframe thead th {\n",
       "        text-align: right;\n",
       "    }\n",
       "</style>\n",
       "<table border=\"1\" class=\"dataframe\">\n",
       "  <thead>\n",
       "    <tr style=\"text-align: right;\">\n",
       "      <th></th>\n",
       "      <th>863236</th>\n",
       "      <th>137896</th>\n",
       "      <th>686638</th>\n",
       "      <th>955049</th>\n",
       "      <th>182350</th>\n",
       "    </tr>\n",
       "  </thead>\n",
       "  <tbody>\n",
       "    <tr>\n",
       "      <th>track_id</th>\n",
       "      <td>72080212</td>\n",
       "      <td>2774888</td>\n",
       "      <td>50726632</td>\n",
       "      <td>91110186</td>\n",
       "      <td>5336286</td>\n",
       "    </tr>\n",
       "    <tr>\n",
       "      <th>albums</th>\n",
       "      <td>[12355005, 12400479]</td>\n",
       "      <td>[35541, 297720, 298151, 410627]</td>\n",
       "      <td>[7028167]</td>\n",
       "      <td>[18094006]</td>\n",
       "      <td>[587131]</td>\n",
       "    </tr>\n",
       "    <tr>\n",
       "      <th>artists</th>\n",
       "      <td>[96527, 79998, 3750819, 3145469, 3309117, 7383]</td>\n",
       "      <td>[82939]</td>\n",
       "      <td>[125306]</td>\n",
       "      <td>[4939330]</td>\n",
       "      <td>[35915]</td>\n",
       "    </tr>\n",
       "    <tr>\n",
       "      <th>genres</th>\n",
       "      <td>[21, 138]</td>\n",
       "      <td>[102, 319]</td>\n",
       "      <td>[13, 54]</td>\n",
       "      <td>[3, 75]</td>\n",
       "      <td>[38, 47]</td>\n",
       "    </tr>\n",
       "    <tr>\n",
       "      <th>n_albums</th>\n",
       "      <td>2</td>\n",
       "      <td>4</td>\n",
       "      <td>1</td>\n",
       "      <td>1</td>\n",
       "      <td>1</td>\n",
       "    </tr>\n",
       "    <tr>\n",
       "      <th>n_artists</th>\n",
       "      <td>6</td>\n",
       "      <td>1</td>\n",
       "      <td>1</td>\n",
       "      <td>1</td>\n",
       "      <td>1</td>\n",
       "    </tr>\n",
       "    <tr>\n",
       "      <th>n_genres</th>\n",
       "      <td>2</td>\n",
       "      <td>2</td>\n",
       "      <td>2</td>\n",
       "      <td>2</td>\n",
       "      <td>2</td>\n",
       "    </tr>\n",
       "    <tr>\n",
       "      <th>track_name</th>\n",
       "      <td>A Güiro</td>\n",
       "      <td>Another Brick In The Wall, Part 1</td>\n",
       "      <td>Fantasy Land</td>\n",
       "      <td>Тембр</td>\n",
       "      <td>Left Hand Black</td>\n",
       "    </tr>\n",
       "    <tr>\n",
       "      <th>artists_names</th>\n",
       "      <td>[Randy, Toño Rosario, Jon Z, Kiko El Crazy, Ra...</td>\n",
       "      <td>[Pink Floyd]</td>\n",
       "      <td>[Our Last Night]</td>\n",
       "      <td>[Mufasah]</td>\n",
       "      <td>[Danzig]</td>\n",
       "    </tr>\n",
       "    <tr>\n",
       "      <th>albums_names</th>\n",
       "      <td>[A Güiro, 10: 22]</td>\n",
       "      <td>[The Wall, The Wall, The Discovery Boxset, The...</td>\n",
       "      <td>[Fantasy Land]</td>\n",
       "      <td>[VOLK LIFE]</td>\n",
       "      <td>[Danzig III: How The Gods Kill]</td>\n",
       "    </tr>\n",
       "    <tr>\n",
       "      <th>genres_names</th>\n",
       "      <td>[folk, latinfolk]</td>\n",
       "      <td>[allrock, prog]</td>\n",
       "      <td>[alternative, posthardcore]</td>\n",
       "      <td>[rusrap, rap]</td>\n",
       "      <td>[classicmetal, metal]</td>\n",
       "    </tr>\n",
       "    <tr>\n",
       "      <th>item_id</th>\n",
       "      <td>863236</td>\n",
       "      <td>137896</td>\n",
       "      <td>686638</td>\n",
       "      <td>955049</td>\n",
       "      <td>182350</td>\n",
       "    </tr>\n",
       "    <tr>\n",
       "      <th>popularity_score</th>\n",
       "      <td>0.000127</td>\n",
       "      <td>0.005041</td>\n",
       "      <td>0.00089</td>\n",
       "      <td>0.000212</td>\n",
       "      <td>NaN</td>\n",
       "    </tr>\n",
       "  </tbody>\n",
       "</table>\n",
       "</div>"
      ],
      "text/plain": [
       "                                                             863236  \\\n",
       "track_id                                                   72080212   \n",
       "albums                                         [12355005, 12400479]   \n",
       "artists             [96527, 79998, 3750819, 3145469, 3309117, 7383]   \n",
       "genres                                                    [21, 138]   \n",
       "n_albums                                                          2   \n",
       "n_artists                                                         6   \n",
       "n_genres                                                          2   \n",
       "track_name                                                  A Güiro   \n",
       "artists_names     [Randy, Toño Rosario, Jon Z, Kiko El Crazy, Ra...   \n",
       "albums_names                                      [A Güiro, 10: 22]   \n",
       "genres_names                                      [folk, latinfolk]   \n",
       "item_id                                                      863236   \n",
       "popularity_score                                           0.000127   \n",
       "\n",
       "                                                             137896  \\\n",
       "track_id                                                    2774888   \n",
       "albums                              [35541, 297720, 298151, 410627]   \n",
       "artists                                                     [82939]   \n",
       "genres                                                   [102, 319]   \n",
       "n_albums                                                          4   \n",
       "n_artists                                                         1   \n",
       "n_genres                                                          2   \n",
       "track_name                        Another Brick In The Wall, Part 1   \n",
       "artists_names                                          [Pink Floyd]   \n",
       "albums_names      [The Wall, The Wall, The Discovery Boxset, The...   \n",
       "genres_names                                        [allrock, prog]   \n",
       "item_id                                                      137896   \n",
       "popularity_score                                           0.005041   \n",
       "\n",
       "                                       686638         955049  \\\n",
       "track_id                             50726632       91110186   \n",
       "albums                              [7028167]     [18094006]   \n",
       "artists                              [125306]      [4939330]   \n",
       "genres                               [13, 54]        [3, 75]   \n",
       "n_albums                                    1              1   \n",
       "n_artists                                   1              1   \n",
       "n_genres                                    2              2   \n",
       "track_name                       Fantasy Land          Тембр   \n",
       "artists_names                [Our Last Night]      [Mufasah]   \n",
       "albums_names                   [Fantasy Land]    [VOLK LIFE]   \n",
       "genres_names      [alternative, posthardcore]  [rusrap, rap]   \n",
       "item_id                                686638         955049   \n",
       "popularity_score                      0.00089       0.000212   \n",
       "\n",
       "                                           182350  \n",
       "track_id                                  5336286  \n",
       "albums                                   [587131]  \n",
       "artists                                   [35915]  \n",
       "genres                                   [38, 47]  \n",
       "n_albums                                        1  \n",
       "n_artists                                       1  \n",
       "n_genres                                        2  \n",
       "track_name                        Left Hand Black  \n",
       "artists_names                            [Danzig]  \n",
       "albums_names      [Danzig III: How The Gods Kill]  \n",
       "genres_names                [classicmetal, metal]  \n",
       "item_id                                    182350  \n",
       "popularity_score                              NaN  "
      ]
     },
     "execution_count": 52,
     "metadata": {},
     "output_type": "execute_result"
    }
   ],
   "source": [
    "items.sample(5).T"
   ]
  },
  {
   "cell_type": "code",
   "execution_count": 53,
   "id": "6a7a94ea-6400-449f-9cc6-894611ea8c42",
   "metadata": {},
   "outputs": [],
   "source": [
    "items.to_parquet(\"items.parquet\")"
   ]
  },
  {
   "cell_type": "code",
   "execution_count": 60,
   "id": "64ccdafb-64b8-456e-ba5b-b8277b7129e9",
   "metadata": {},
   "outputs": [],
   "source": [
    "# выбираем первые 100 айтемов\n",
    "top_k_pop_items = item_popularity.head(100)"
   ]
  },
  {
   "cell_type": "code",
   "execution_count": 61,
   "id": "b26ceb64-0734-4a01-9d59-3b2f33b48ce0",
   "metadata": {},
   "outputs": [],
   "source": [
    "top_k_pop_items.reset_index(drop=True, inplace=True)"
   ]
  },
  {
   "cell_type": "code",
   "execution_count": 62,
   "id": "a2745642-5a0c-488c-acda-104e695427b2",
   "metadata": {},
   "outputs": [],
   "source": [
    "# добавляем информацию о треках\n",
    "top_k_pop_items = top_k_pop_items.merge(\n",
    "    items.set_index(\"item_id\")[[\"track_name\", \"artists_names\", \"albums_names\", \"genres_names\"]], on=\"item_id\")"
   ]
  },
  {
   "cell_type": "code",
   "execution_count": 63,
   "id": "ba59fb14-9016-4d1a-97bc-6ab673a2a632",
   "metadata": {},
   "outputs": [
    {
     "data": {
      "text/html": [
       "<div>\n",
       "<style scoped>\n",
       "    .dataframe tbody tr th:only-of-type {\n",
       "        vertical-align: middle;\n",
       "    }\n",
       "\n",
       "    .dataframe tbody tr th {\n",
       "        vertical-align: top;\n",
       "    }\n",
       "\n",
       "    .dataframe thead th {\n",
       "        text-align: right;\n",
       "    }\n",
       "</style>\n",
       "<table border=\"1\" class=\"dataframe\">\n",
       "  <thead>\n",
       "    <tr style=\"text-align: right;\">\n",
       "      <th></th>\n",
       "      <th>37</th>\n",
       "      <th>98</th>\n",
       "      <th>54</th>\n",
       "    </tr>\n",
       "  </thead>\n",
       "  <tbody>\n",
       "    <tr>\n",
       "      <th>item_id</th>\n",
       "      <td>568869</td>\n",
       "      <td>577122</td>\n",
       "      <td>962876</td>\n",
       "    </tr>\n",
       "    <tr>\n",
       "      <th>users</th>\n",
       "      <td>13337</td>\n",
       "      <td>9425</td>\n",
       "      <td>12208</td>\n",
       "    </tr>\n",
       "    <tr>\n",
       "      <th>users_norm</th>\n",
       "      <td>0.564965</td>\n",
       "      <td>0.399237</td>\n",
       "      <td>0.517136</td>\n",
       "    </tr>\n",
       "    <tr>\n",
       "      <th>popularity_score</th>\n",
       "      <td>0.564965</td>\n",
       "      <td>0.399237</td>\n",
       "      <td>0.517136</td>\n",
       "    </tr>\n",
       "    <tr>\n",
       "      <th>track_name</th>\n",
       "      <td>In My Mind</td>\n",
       "      <td>Зелёные волны</td>\n",
       "      <td>МАЛИНОВАЯ ЛАДА</td>\n",
       "    </tr>\n",
       "    <tr>\n",
       "      <th>artists_names</th>\n",
       "      <td>[Dynoro, Gigi D'Agostino]</td>\n",
       "      <td>[Zivert]</td>\n",
       "      <td>[GAYAZOV$ BROTHER$]</td>\n",
       "    </tr>\n",
       "    <tr>\n",
       "      <th>albums_names</th>\n",
       "      <td>[In My Mind, In My Mind, Dance Hits 2019 - Sum...</td>\n",
       "      <td>[Сияй]</td>\n",
       "      <td>[МАЛИНОВАЯ ЛАДА]</td>\n",
       "    </tr>\n",
       "    <tr>\n",
       "      <th>genres_names</th>\n",
       "      <td>[dance]</td>\n",
       "      <td>[pop, ruspop]</td>\n",
       "      <td>[pop, ruspop]</td>\n",
       "    </tr>\n",
       "  </tbody>\n",
       "</table>\n",
       "</div>"
      ],
      "text/plain": [
       "                                                                 37  \\\n",
       "item_id                                                      568869   \n",
       "users                                                         13337   \n",
       "users_norm                                                 0.564965   \n",
       "popularity_score                                           0.564965   \n",
       "track_name                                               In My Mind   \n",
       "artists_names                             [Dynoro, Gigi D'Agostino]   \n",
       "albums_names      [In My Mind, In My Mind, Dance Hits 2019 - Sum...   \n",
       "genres_names                                                [dance]   \n",
       "\n",
       "                             98                   54  \n",
       "item_id                  577122               962876  \n",
       "users                      9425                12208  \n",
       "users_norm             0.399237             0.517136  \n",
       "popularity_score       0.399237             0.517136  \n",
       "track_name        Зелёные волны       МАЛИНОВАЯ ЛАДА  \n",
       "artists_names          [Zivert]  [GAYAZOV$ BROTHER$]  \n",
       "albums_names             [Сияй]     [МАЛИНОВАЯ ЛАДА]  \n",
       "genres_names      [pop, ruspop]        [pop, ruspop]  "
      ]
     },
     "execution_count": 63,
     "metadata": {},
     "output_type": "execute_result"
    }
   ],
   "source": [
    "top_k_pop_items.sample(3).T"
   ]
  },
  {
   "cell_type": "code",
   "execution_count": 64,
   "id": "60e316a8-0192-4d29-84e7-dee6c2eb2bff",
   "metadata": {},
   "outputs": [
    {
     "data": {
      "text/html": [
       "<div>\n",
       "<style scoped>\n",
       "    .dataframe tbody tr th:only-of-type {\n",
       "        vertical-align: middle;\n",
       "    }\n",
       "\n",
       "    .dataframe tbody tr th {\n",
       "        vertical-align: top;\n",
       "    }\n",
       "\n",
       "    .dataframe thead th {\n",
       "        text-align: right;\n",
       "    }\n",
       "</style>\n",
       "<table border=\"1\" class=\"dataframe\">\n",
       "  <thead>\n",
       "    <tr style=\"text-align: right;\">\n",
       "      <th></th>\n",
       "      <th>item_id</th>\n",
       "      <th>popularity_score</th>\n",
       "      <th>track_name</th>\n",
       "      <th>artists_names</th>\n",
       "      <th>albums_names</th>\n",
       "      <th>genres_names</th>\n",
       "    </tr>\n",
       "  </thead>\n",
       "  <tbody>\n",
       "    <tr>\n",
       "      <th>0</th>\n",
       "      <td>923941</td>\n",
       "      <td>1.000000</td>\n",
       "      <td>Птичка</td>\n",
       "      <td>[HammAli &amp; Navai]</td>\n",
       "      <td>[Птичка]</td>\n",
       "      <td>[pop, ruspop]</td>\n",
       "    </tr>\n",
       "    <tr>\n",
       "      <th>1</th>\n",
       "      <td>770472</td>\n",
       "      <td>0.978267</td>\n",
       "      <td>Blinding Lights</td>\n",
       "      <td>[The Weeknd]</td>\n",
       "      <td>[Blinding Lights, After Hours, After Hours, Af...</td>\n",
       "      <td>[rnb]</td>\n",
       "    </tr>\n",
       "    <tr>\n",
       "      <th>2</th>\n",
       "      <td>919064</td>\n",
       "      <td>0.970854</td>\n",
       "      <td>Федерико Феллини</td>\n",
       "      <td>[Galibri &amp; Mavik]</td>\n",
       "      <td>[Федерико Феллини]</td>\n",
       "      <td>[pop, ruspop]</td>\n",
       "    </tr>\n",
       "    <tr>\n",
       "      <th>3</th>\n",
       "      <td>818090</td>\n",
       "      <td>0.960856</td>\n",
       "      <td>Юность</td>\n",
       "      <td>[Dabro]</td>\n",
       "      <td>[Юность]</td>\n",
       "      <td>[pop, ruspop]</td>\n",
       "    </tr>\n",
       "    <tr>\n",
       "      <th>4</th>\n",
       "      <td>901224</td>\n",
       "      <td>0.948951</td>\n",
       "      <td>Rampampam</td>\n",
       "      <td>[Minelli]</td>\n",
       "      <td>[Rampampam, Rampampam]</td>\n",
       "      <td>[dance]</td>\n",
       "    </tr>\n",
       "    <tr>\n",
       "      <th>5</th>\n",
       "      <td>928830</td>\n",
       "      <td>0.942300</td>\n",
       "      <td>Я в моменте</td>\n",
       "      <td>[Джарахов, Markul]</td>\n",
       "      <td>[Я в моменте]</td>\n",
       "      <td>[rusrap, rap]</td>\n",
       "    </tr>\n",
       "    <tr>\n",
       "      <th>6</th>\n",
       "      <td>888735</td>\n",
       "      <td>0.851515</td>\n",
       "      <td>Astronaut In The Ocean</td>\n",
       "      <td>[Masked Wolf]</td>\n",
       "      <td>[Astronaut In The Ocean, Astronomical]</td>\n",
       "      <td>[foreignrap, rap]</td>\n",
       "    </tr>\n",
       "    <tr>\n",
       "      <th>7</th>\n",
       "      <td>890614</td>\n",
       "      <td>0.846600</td>\n",
       "      <td>Горький вкус</td>\n",
       "      <td>[Султан Лагучев]</td>\n",
       "      <td>[Горький вкус, Горячие Хиты Кавказа 2]</td>\n",
       "      <td>[folk, caucasian]</td>\n",
       "    </tr>\n",
       "    <tr>\n",
       "      <th>8</th>\n",
       "      <td>693863</td>\n",
       "      <td>0.788477</td>\n",
       "      <td>bad guy</td>\n",
       "      <td>[Billie Eilish]</td>\n",
       "      <td>[WHEN WE ALL FALL ASLEEP, WHERE DO WE GO?, 202...</td>\n",
       "      <td>[indie]</td>\n",
       "    </tr>\n",
       "    <tr>\n",
       "      <th>9</th>\n",
       "      <td>887422</td>\n",
       "      <td>0.764669</td>\n",
       "      <td>Венера-Юпитер</td>\n",
       "      <td>[Ваня Дмитриенко]</td>\n",
       "      <td>[Венера-Юпитер]</td>\n",
       "      <td>[pop, ruspop]</td>\n",
       "    </tr>\n",
       "    <tr>\n",
       "      <th>10</th>\n",
       "      <td>736895</td>\n",
       "      <td>0.763398</td>\n",
       "      <td>Dance Monkey</td>\n",
       "      <td>[Tones And I]</td>\n",
       "      <td>[Dance Monkey, The Kids Are Coming, 100 Greate...</td>\n",
       "      <td>[pop]</td>\n",
       "    </tr>\n",
       "    <tr>\n",
       "      <th>11</th>\n",
       "      <td>962078</td>\n",
       "      <td>0.761788</td>\n",
       "      <td>Солнце Монако</td>\n",
       "      <td>[Люся Чеботина]</td>\n",
       "      <td>[The End]</td>\n",
       "      <td>[pop, ruspop]</td>\n",
       "    </tr>\n",
       "    <tr>\n",
       "      <th>12</th>\n",
       "      <td>690937</td>\n",
       "      <td>0.747087</td>\n",
       "      <td>In The End</td>\n",
       "      <td>[Tommee Profitt, Fleurie, Mellen Gi]</td>\n",
       "      <td>[In the End, Christian TikTok, Trending Now 20...</td>\n",
       "      <td>[rnb]</td>\n",
       "    </tr>\n",
       "    <tr>\n",
       "      <th>13</th>\n",
       "      <td>903793</td>\n",
       "      <td>0.735056</td>\n",
       "      <td>I WANNA BE YOUR SLAVE</td>\n",
       "      <td>[Måneskin]</td>\n",
       "      <td>[Teatro d'ira - Vol. I]</td>\n",
       "      <td>[allrock]</td>\n",
       "    </tr>\n",
       "    <tr>\n",
       "      <th>14</th>\n",
       "      <td>749846</td>\n",
       "      <td>0.675916</td>\n",
       "      <td>Комета</td>\n",
       "      <td>[JONY]</td>\n",
       "      <td>[Комета]</td>\n",
       "      <td>[pop, ruspop]</td>\n",
       "    </tr>\n",
       "    <tr>\n",
       "      <th>15</th>\n",
       "      <td>481767</td>\n",
       "      <td>0.674433</td>\n",
       "      <td>Believer</td>\n",
       "      <td>[Imagine Dragons]</td>\n",
       "      <td>[Shape Of Pop, NOW That's What I Call Music, E...</td>\n",
       "      <td>[rock, allrock]</td>\n",
       "    </tr>\n",
       "    <tr>\n",
       "      <th>16</th>\n",
       "      <td>686086</td>\n",
       "      <td>0.670748</td>\n",
       "      <td>Кукла колдуна</td>\n",
       "      <td>[Король и Шут]</td>\n",
       "      <td>[Акустический альбом]</td>\n",
       "      <td>[punk]</td>\n",
       "    </tr>\n",
       "    <tr>\n",
       "      <th>17</th>\n",
       "      <td>928832</td>\n",
       "      <td>0.664393</td>\n",
       "      <td>Пошла жара</td>\n",
       "      <td>[GAYAZOV$ BROTHER$, Filatov &amp; Karas]</td>\n",
       "      <td>[Пошла жара, ПОШЛА ЖАРА]</td>\n",
       "      <td>[pop, ruspop]</td>\n",
       "    </tr>\n",
       "    <tr>\n",
       "      <th>18</th>\n",
       "      <td>644524</td>\n",
       "      <td>0.664054</td>\n",
       "      <td>Life</td>\n",
       "      <td>[Zivert]</td>\n",
       "      <td>[Life, Life, Made in Russia, Fresh Dance, Life...</td>\n",
       "      <td>[pop, ruspop]</td>\n",
       "    </tr>\n",
       "    <tr>\n",
       "      <th>19</th>\n",
       "      <td>873853</td>\n",
       "      <td>0.663969</td>\n",
       "      <td>Ягода малинка</td>\n",
       "      <td>[ХАБИБ]</td>\n",
       "      <td>[Ягода малинка]</td>\n",
       "      <td>[pop, ruspop]</td>\n",
       "    </tr>\n",
       "    <tr>\n",
       "      <th>20</th>\n",
       "      <td>725044</td>\n",
       "      <td>0.659691</td>\n",
       "      <td>Прятки</td>\n",
       "      <td>[HammAli &amp; Navai]</td>\n",
       "      <td>[Прятки]</td>\n",
       "      <td>[rusrap, rap]</td>\n",
       "    </tr>\n",
       "    <tr>\n",
       "      <th>21</th>\n",
       "      <td>852373</td>\n",
       "      <td>0.641135</td>\n",
       "      <td>Если тебе будет грустно</td>\n",
       "      <td>[Rauf &amp; Faik, NILETTO]</td>\n",
       "      <td>[Если тебе будет грустно]</td>\n",
       "      <td>[pop, ruspop]</td>\n",
       "    </tr>\n",
       "    <tr>\n",
       "      <th>22</th>\n",
       "      <td>821323</td>\n",
       "      <td>0.611354</td>\n",
       "      <td>Поболело и прошло</td>\n",
       "      <td>[HENSY]</td>\n",
       "      <td>[Поболело и прошло, Музыка для души, Музыка дл...</td>\n",
       "      <td>[pop, ruspop]</td>\n",
       "    </tr>\n",
       "    <tr>\n",
       "      <th>23</th>\n",
       "      <td>863037</td>\n",
       "      <td>0.609108</td>\n",
       "      <td>Снова я напиваюсь</td>\n",
       "      <td>[SLAVA MARLOW]</td>\n",
       "      <td>[Снова я напиваюсь, АРТЁМ]</td>\n",
       "      <td>[rusrap, rap]</td>\n",
       "    </tr>\n",
       "    <tr>\n",
       "      <th>24</th>\n",
       "      <td>781008</td>\n",
       "      <td>0.605804</td>\n",
       "      <td>Луна не знает пути</td>\n",
       "      <td>[Тайпан, Agunda]</td>\n",
       "      <td>[Луна не знает пути, СОЮЗ 63]</td>\n",
       "      <td>[pop, ruspop]</td>\n",
       "    </tr>\n",
       "    <tr>\n",
       "      <th>25</th>\n",
       "      <td>678852</td>\n",
       "      <td>0.595891</td>\n",
       "      <td>Грустный дэнс</td>\n",
       "      <td>[Artik &amp; Asti, Артём Качер]</td>\n",
       "      <td>[Грустный дэнс, 7 (Part 1), Spring Music 2019]</td>\n",
       "      <td>[pop, ruspop]</td>\n",
       "    </tr>\n",
       "    <tr>\n",
       "      <th>26</th>\n",
       "      <td>742440</td>\n",
       "      <td>0.594747</td>\n",
       "      <td>Credo</td>\n",
       "      <td>[Zivert]</td>\n",
       "      <td>[Vinyl #1, Vinyl #1. Deluxe Version, Первый та...</td>\n",
       "      <td>[pop, ruspop]</td>\n",
       "    </tr>\n",
       "    <tr>\n",
       "      <th>27</th>\n",
       "      <td>748892</td>\n",
       "      <td>0.592629</td>\n",
       "      <td>Roses</td>\n",
       "      <td>[SAINt JHN]</td>\n",
       "      <td>[Roses, Fresh Dance, Yeni Dünya Special Dance ...</td>\n",
       "      <td>[dance]</td>\n",
       "    </tr>\n",
       "    <tr>\n",
       "      <th>28</th>\n",
       "      <td>825028</td>\n",
       "      <td>0.592502</td>\n",
       "      <td>Краш</td>\n",
       "      <td>[Клава Кока, NILETTO]</td>\n",
       "      <td>[Краш]</td>\n",
       "      <td>[pop, ruspop]</td>\n",
       "    </tr>\n",
       "    <tr>\n",
       "      <th>29</th>\n",
       "      <td>837379</td>\n",
       "      <td>0.591104</td>\n",
       "      <td>Сияй</td>\n",
       "      <td>[Ramil']</td>\n",
       "      <td>[Сияй, Сияй]</td>\n",
       "      <td>[pop, ruspop]</td>\n",
       "    </tr>\n",
       "    <tr>\n",
       "      <th>30</th>\n",
       "      <td>807819</td>\n",
       "      <td>0.590129</td>\n",
       "      <td>Плачу на техно</td>\n",
       "      <td>[Cream Soda, ХЛЕБ]</td>\n",
       "      <td>[Плачу на техно]</td>\n",
       "      <td>[pop, ruspop]</td>\n",
       "    </tr>\n",
       "    <tr>\n",
       "      <th>31</th>\n",
       "      <td>922635</td>\n",
       "      <td>0.589367</td>\n",
       "      <td>На часах ноль-ноль</td>\n",
       "      <td>[Dabro]</td>\n",
       "      <td>[На часах ноль-ноль]</td>\n",
       "      <td>[pop, ruspop]</td>\n",
       "    </tr>\n",
       "    <tr>\n",
       "      <th>32</th>\n",
       "      <td>934136</td>\n",
       "      <td>0.588180</td>\n",
       "      <td>Amore Море, Goodbye</td>\n",
       "      <td>[Filatov &amp; Karas, Мумий Тролль]</td>\n",
       "      <td>[Amore Море, Goodbye]</td>\n",
       "      <td>[pop, ruspop]</td>\n",
       "    </tr>\n",
       "    <tr>\n",
       "      <th>33</th>\n",
       "      <td>787945</td>\n",
       "      <td>0.585596</td>\n",
       "      <td>Девочка, танцуй</td>\n",
       "      <td>[Artik &amp; Asti]</td>\n",
       "      <td>[7 (Part 2)]</td>\n",
       "      <td>[pop, ruspop]</td>\n",
       "    </tr>\n",
       "    <tr>\n",
       "      <th>34</th>\n",
       "      <td>911732</td>\n",
       "      <td>0.584791</td>\n",
       "      <td>Патрон</td>\n",
       "      <td>[Miyagi &amp; Andy Panda]</td>\n",
       "      <td>[Патрон]</td>\n",
       "      <td>[rusrap, rap]</td>\n",
       "    </tr>\n",
       "    <tr>\n",
       "      <th>35</th>\n",
       "      <td>668210</td>\n",
       "      <td>0.570345</td>\n",
       "      <td>Сансара</td>\n",
       "      <td>[Баста, Скриптонит, Диана Арбенина, Сергей Боб...</td>\n",
       "      <td>[Сансара]</td>\n",
       "      <td>[rusrap, rap]</td>\n",
       "    </tr>\n",
       "    <tr>\n",
       "      <th>36</th>\n",
       "      <td>835930</td>\n",
       "      <td>0.568227</td>\n",
       "      <td>Minor</td>\n",
       "      <td>[Miyagi &amp; Andy Panda]</td>\n",
       "      <td>[YAMAKASI]</td>\n",
       "      <td>[rusrap, rap]</td>\n",
       "    </tr>\n",
       "    <tr>\n",
       "      <th>37</th>\n",
       "      <td>568869</td>\n",
       "      <td>0.564965</td>\n",
       "      <td>In My Mind</td>\n",
       "      <td>[Dynoro, Gigi D'Agostino]</td>\n",
       "      <td>[In My Mind, In My Mind, Dance Hits 2019 - Sum...</td>\n",
       "      <td>[dance]</td>\n",
       "    </tr>\n",
       "    <tr>\n",
       "      <th>38</th>\n",
       "      <td>944365</td>\n",
       "      <td>0.562720</td>\n",
       "      <td>Стеклянная</td>\n",
       "      <td>[GUMA]</td>\n",
       "      <td>[Стеклянная]</td>\n",
       "      <td>[pop, ruspop]</td>\n",
       "    </tr>\n",
       "    <tr>\n",
       "      <th>39</th>\n",
       "      <td>473203</td>\n",
       "      <td>0.561195</td>\n",
       "      <td>Shape of You</td>\n",
       "      <td>[Ed Sheeran]</td>\n",
       "      <td>[Shape of You, ÷, ÷, Summer Vibes, Pop]</td>\n",
       "      <td>[pop]</td>\n",
       "    </tr>\n",
       "    <tr>\n",
       "      <th>40</th>\n",
       "      <td>664413</td>\n",
       "      <td>0.557848</td>\n",
       "      <td>Cradles</td>\n",
       "      <td>[Sub Urban]</td>\n",
       "      <td>[Cradles, Cradles]</td>\n",
       "      <td>[electronics]</td>\n",
       "    </tr>\n",
       "    <tr>\n",
       "      <th>41</th>\n",
       "      <td>938211</td>\n",
       "      <td>0.552510</td>\n",
       "      <td>STAY</td>\n",
       "      <td>[The Kid LAROI, Justin Bieber]</td>\n",
       "      <td>[STAY, F*CK LOVE 3: OVER YOU, F*CK LOVE 3+: OV...</td>\n",
       "      <td>[pop]</td>\n",
       "    </tr>\n",
       "    <tr>\n",
       "      <th>42</th>\n",
       "      <td>899851</td>\n",
       "      <td>0.552086</td>\n",
       "      <td>ТЫ ГОРИШЬ КАК ОГОНЬ</td>\n",
       "      <td>[SLAVA MARLOW]</td>\n",
       "      <td>[ТЫ ГОРИШЬ КАК ОГОНЬ, ТЫ ГОРИШЬ КАК ОГОНЬ]</td>\n",
       "      <td>[rusrap, rap]</td>\n",
       "    </tr>\n",
       "    <tr>\n",
       "      <th>43</th>\n",
       "      <td>857329</td>\n",
       "      <td>0.549121</td>\n",
       "      <td>СЛЁЗЫ</td>\n",
       "      <td>[Анет Сай]</td>\n",
       "      <td>[СЛЁЗЫ, Любовь. Слезы. Движ.]</td>\n",
       "      <td>[pop, ruspop]</td>\n",
       "    </tr>\n",
       "    <tr>\n",
       "      <th>44</th>\n",
       "      <td>754834</td>\n",
       "      <td>0.546494</td>\n",
       "      <td>Увезите меня на Дип-хаус</td>\n",
       "      <td>[GAYAZOV$ BROTHER$]</td>\n",
       "      <td>[Увезите меня на Дип-хаус]</td>\n",
       "      <td>[pop, ruspop]</td>\n",
       "    </tr>\n",
       "    <tr>\n",
       "      <th>45</th>\n",
       "      <td>842946</td>\n",
       "      <td>0.539038</td>\n",
       "      <td>Deep End</td>\n",
       "      <td>[Fousheé]</td>\n",
       "      <td>[Deep End, time machine]</td>\n",
       "      <td>[rnb]</td>\n",
       "    </tr>\n",
       "    <tr>\n",
       "      <th>46</th>\n",
       "      <td>927591</td>\n",
       "      <td>0.534971</td>\n",
       "      <td>Close Eyes</td>\n",
       "      <td>[DVRST]</td>\n",
       "      <td>[Close Eyes]</td>\n",
       "      <td>[foreignrap, rap]</td>\n",
       "    </tr>\n",
       "    <tr>\n",
       "      <th>47</th>\n",
       "      <td>742436</td>\n",
       "      <td>0.534294</td>\n",
       "      <td>Beverly Hills</td>\n",
       "      <td>[Zivert]</td>\n",
       "      <td>[Vinyl #1, Первый танцевальный. Vol. 18, Vinyl...</td>\n",
       "      <td>[pop, ruspop]</td>\n",
       "    </tr>\n",
       "    <tr>\n",
       "      <th>48</th>\n",
       "      <td>722117</td>\n",
       "      <td>0.531794</td>\n",
       "      <td>Señorita</td>\n",
       "      <td>[Shawn Mendes, Camila Cabello]</td>\n",
       "      <td>[Señorita, Shawn Mendes, Romance, Romance, 202...</td>\n",
       "      <td>[pop]</td>\n",
       "    </tr>\n",
       "    <tr>\n",
       "      <th>49</th>\n",
       "      <td>932289</td>\n",
       "      <td>0.530947</td>\n",
       "      <td>Пополам</td>\n",
       "      <td>[BRANYA, MACAN]</td>\n",
       "      <td>[Пополам]</td>\n",
       "      <td>[rusrap, rap]</td>\n",
       "    </tr>\n",
       "    <tr>\n",
       "      <th>50</th>\n",
       "      <td>812320</td>\n",
       "      <td>0.523914</td>\n",
       "      <td>Кометы</td>\n",
       "      <td>[polnalyubvi]</td>\n",
       "      <td>[Кометы, Сказки лесной нимфы]</td>\n",
       "      <td>[local-indie, indie]</td>\n",
       "    </tr>\n",
       "    <tr>\n",
       "      <th>51</th>\n",
       "      <td>703346</td>\n",
       "      <td>0.523533</td>\n",
       "      <td>Любимка</td>\n",
       "      <td>[NILETTO]</td>\n",
       "      <td>[Любимка]</td>\n",
       "      <td>[pop, ruspop]</td>\n",
       "    </tr>\n",
       "    <tr>\n",
       "      <th>52</th>\n",
       "      <td>731825</td>\n",
       "      <td>0.520610</td>\n",
       "      <td>Аugust</td>\n",
       "      <td>[Intelligency]</td>\n",
       "      <td>[August, Renovatio]</td>\n",
       "      <td>[electronics]</td>\n",
       "    </tr>\n",
       "    <tr>\n",
       "      <th>53</th>\n",
       "      <td>686034</td>\n",
       "      <td>0.519254</td>\n",
       "      <td>Лесник</td>\n",
       "      <td>[Король и Шут]</td>\n",
       "      <td>[Будь как дома, Путник...]</td>\n",
       "      <td>[rusrock, allrock]</td>\n",
       "    </tr>\n",
       "    <tr>\n",
       "      <th>54</th>\n",
       "      <td>962876</td>\n",
       "      <td>0.517136</td>\n",
       "      <td>МАЛИНОВАЯ ЛАДА</td>\n",
       "      <td>[GAYAZOV$ BROTHER$]</td>\n",
       "      <td>[МАЛИНОВАЯ ЛАДА]</td>\n",
       "      <td>[pop, ruspop]</td>\n",
       "    </tr>\n",
       "    <tr>\n",
       "      <th>55</th>\n",
       "      <td>905198</td>\n",
       "      <td>0.516416</td>\n",
       "      <td>Истеричка</td>\n",
       "      <td>[Artik &amp; Asti]</td>\n",
       "      <td>[Миллениум, Миллениум X, Миллениум X]</td>\n",
       "      <td>[pop, ruspop]</td>\n",
       "    </tr>\n",
       "    <tr>\n",
       "      <th>56</th>\n",
       "      <td>692575</td>\n",
       "      <td>0.513789</td>\n",
       "      <td>DEUTSCHLAND</td>\n",
       "      <td>[Rammstein]</td>\n",
       "      <td>[Deutschland, Rammstein]</td>\n",
       "      <td>[metal, industrial]</td>\n",
       "    </tr>\n",
       "    <tr>\n",
       "      <th>57</th>\n",
       "      <td>631410</td>\n",
       "      <td>0.512434</td>\n",
       "      <td>Незабудка</td>\n",
       "      <td>[Тима Белорусских]</td>\n",
       "      <td>[Незабудка]</td>\n",
       "      <td>[pop, ruspop]</td>\n",
       "    </tr>\n",
       "    <tr>\n",
       "      <th>58</th>\n",
       "      <td>931730</td>\n",
       "      <td>0.511756</td>\n",
       "      <td>Пушка</td>\n",
       "      <td>[10AGE]</td>\n",
       "      <td>[Пушка]</td>\n",
       "      <td>[rusrap, rap]</td>\n",
       "    </tr>\n",
       "    <tr>\n",
       "      <th>59</th>\n",
       "      <td>905940</td>\n",
       "      <td>0.511078</td>\n",
       "      <td>Somebody To Love</td>\n",
       "      <td>[Basstrologe]</td>\n",
       "      <td>[Somebody To Love, Somebody To Love]</td>\n",
       "      <td>[dance]</td>\n",
       "    </tr>\n",
       "    <tr>\n",
       "      <th>60</th>\n",
       "      <td>835931</td>\n",
       "      <td>0.510189</td>\n",
       "      <td>Там ревели горы</td>\n",
       "      <td>[Miyagi &amp; Andy Panda]</td>\n",
       "      <td>[YAMAKASI]</td>\n",
       "      <td>[rusrap, rap]</td>\n",
       "    </tr>\n",
       "    <tr>\n",
       "      <th>61</th>\n",
       "      <td>741146</td>\n",
       "      <td>0.503622</td>\n",
       "      <td>2 типа людей</td>\n",
       "      <td>[Макс Корж]</td>\n",
       "      <td>[2 типа людей]</td>\n",
       "      <td>[rusrap, rap]</td>\n",
       "    </tr>\n",
       "    <tr>\n",
       "      <th>62</th>\n",
       "      <td>509948</td>\n",
       "      <td>0.497988</td>\n",
       "      <td>I Got Love</td>\n",
       "      <td>[Miyagi &amp; Эндшпиль, Рем Дигга]</td>\n",
       "      <td>[I Got Love, I Got Love]</td>\n",
       "      <td>[rusrap, rap]</td>\n",
       "    </tr>\n",
       "    <tr>\n",
       "      <th>63</th>\n",
       "      <td>502504</td>\n",
       "      <td>0.497649</td>\n",
       "      <td>Thunder</td>\n",
       "      <td>[Imagine Dragons]</td>\n",
       "      <td>[Thunder, Summer Songs, NOW That's What I Call...</td>\n",
       "      <td>[rock, allrock]</td>\n",
       "    </tr>\n",
       "    <tr>\n",
       "      <th>64</th>\n",
       "      <td>798302</td>\n",
       "      <td>0.496251</td>\n",
       "      <td>UNO</td>\n",
       "      <td>[Little Big]</td>\n",
       "      <td>[UNO]</td>\n",
       "      <td>[dance]</td>\n",
       "    </tr>\n",
       "    <tr>\n",
       "      <th>65</th>\n",
       "      <td>604129</td>\n",
       "      <td>0.489515</td>\n",
       "      <td>Natural</td>\n",
       "      <td>[Imagine Dragons]</td>\n",
       "      <td>[Natural, Origins, Origins, Больше хитов! Боль...</td>\n",
       "      <td>[rock, allrock]</td>\n",
       "    </tr>\n",
       "    <tr>\n",
       "      <th>66</th>\n",
       "      <td>902339</td>\n",
       "      <td>0.479814</td>\n",
       "      <td>Нету интереса</td>\n",
       "      <td>[10AGE]</td>\n",
       "      <td>[Нету интереса]</td>\n",
       "      <td>[rusrap, rap]</td>\n",
       "    </tr>\n",
       "    <tr>\n",
       "      <th>67</th>\n",
       "      <td>565770</td>\n",
       "      <td>0.477992</td>\n",
       "      <td>Выхода нет</td>\n",
       "      <td>[Сплин]</td>\n",
       "      <td>[Гранатовый альбом]</td>\n",
       "      <td>[rusrock, allrock]</td>\n",
       "    </tr>\n",
       "    <tr>\n",
       "      <th>68</th>\n",
       "      <td>935798</td>\n",
       "      <td>0.476552</td>\n",
       "      <td>Love Tonight feat. Sakso</td>\n",
       "      <td>[Antwerp House Squad, Sakso]</td>\n",
       "      <td>[Love Tonight feat. Sakso, Mega Dance 2021]</td>\n",
       "      <td>[dance]</td>\n",
       "    </tr>\n",
       "    <tr>\n",
       "      <th>69</th>\n",
       "      <td>632610</td>\n",
       "      <td>0.471256</td>\n",
       "      <td>Плакала</td>\n",
       "      <td>[KAZKA]</td>\n",
       "      <td>[Karma, Teta Records - Nr 1! Best of 2018, Пла...</td>\n",
       "      <td>[pop, dance]</td>\n",
       "    </tr>\n",
       "    <tr>\n",
       "      <th>70</th>\n",
       "      <td>816207</td>\n",
       "      <td>0.466893</td>\n",
       "      <td>Lovefool</td>\n",
       "      <td>[twocolors]</td>\n",
       "      <td>[Lovefool, Party 2020, Douce rentrée, Motivati...</td>\n",
       "      <td>[dance]</td>\n",
       "    </tr>\n",
       "    <tr>\n",
       "      <th>71</th>\n",
       "      <td>687465</td>\n",
       "      <td>0.466215</td>\n",
       "      <td>Девочка-война</td>\n",
       "      <td>[HammAli &amp; Navai]</td>\n",
       "      <td>[Девочка-война, ZHARA Vol.1]</td>\n",
       "      <td>[rusrap, rap]</td>\n",
       "    </tr>\n",
       "    <tr>\n",
       "      <th>72</th>\n",
       "      <td>687241</td>\n",
       "      <td>0.464054</td>\n",
       "      <td>Зацепила</td>\n",
       "      <td>[Артур Пирожков]</td>\n",
       "      <td>[Зацепила]</td>\n",
       "      <td>[pop, ruspop]</td>\n",
       "    </tr>\n",
       "    <tr>\n",
       "      <th>73</th>\n",
       "      <td>627658</td>\n",
       "      <td>0.463546</td>\n",
       "      <td>NBA</td>\n",
       "      <td>[RSAC]</td>\n",
       "      <td>[АРГУМЕНТЫ]</td>\n",
       "      <td>[local-indie, indie]</td>\n",
       "    </tr>\n",
       "    <tr>\n",
       "      <th>74</th>\n",
       "      <td>839923</td>\n",
       "      <td>0.459606</td>\n",
       "      <td>Не пускайте танцевать</td>\n",
       "      <td>[Timran, ZELL, Batrai, Aslai]</td>\n",
       "      <td>[Не пускайте танцевать, Best Radio Tracks, Vol...</td>\n",
       "      <td>[dance]</td>\n",
       "    </tr>\n",
       "    <tr>\n",
       "      <th>75</th>\n",
       "      <td>843542</td>\n",
       "      <td>0.459437</td>\n",
       "      <td>неболей</td>\n",
       "      <td>[Zivert, Баста]</td>\n",
       "      <td>[неболей]</td>\n",
       "      <td>[pop, ruspop]</td>\n",
       "    </tr>\n",
       "    <tr>\n",
       "      <th>76</th>\n",
       "      <td>787044</td>\n",
       "      <td>0.457234</td>\n",
       "      <td>Покинула чат</td>\n",
       "      <td>[Клава Кока]</td>\n",
       "      <td>[Покинула чат]</td>\n",
       "      <td>[pop, ruspop]</td>\n",
       "    </tr>\n",
       "    <tr>\n",
       "      <th>77</th>\n",
       "      <td>919863</td>\n",
       "      <td>0.448507</td>\n",
       "      <td>Seven Nation Army</td>\n",
       "      <td>[Gaullin, Julian Perretta]</td>\n",
       "      <td>[Seven Nation Army]</td>\n",
       "      <td>[dance]</td>\n",
       "    </tr>\n",
       "    <tr>\n",
       "      <th>78</th>\n",
       "      <td>919318</td>\n",
       "      <td>0.434442</td>\n",
       "      <td>Бесприданница</td>\n",
       "      <td>[DEAD BLONDE]</td>\n",
       "      <td>[Бесприданница, Княжна из хрущёвки]</td>\n",
       "      <td>[pop, ruspop]</td>\n",
       "    </tr>\n",
       "    <tr>\n",
       "      <th>79</th>\n",
       "      <td>686089</td>\n",
       "      <td>0.428680</td>\n",
       "      <td>Прыгну со скалы</td>\n",
       "      <td>[Король и Шут]</td>\n",
       "      <td>[Акустический альбом]</td>\n",
       "      <td>[punk]</td>\n",
       "    </tr>\n",
       "    <tr>\n",
       "      <th>80</th>\n",
       "      <td>814152</td>\n",
       "      <td>0.426901</td>\n",
       "      <td>Мальчик на девятке</td>\n",
       "      <td>[DEAD BLONDE]</td>\n",
       "      <td>[Пропаганда]</td>\n",
       "      <td>[dance]</td>\n",
       "    </tr>\n",
       "    <tr>\n",
       "      <th>81</th>\n",
       "      <td>725565</td>\n",
       "      <td>0.423512</td>\n",
       "      <td>Пчеловод</td>\n",
       "      <td>[RASA]</td>\n",
       "      <td>[Пчеловод]</td>\n",
       "      <td>[pop, ruspop]</td>\n",
       "    </tr>\n",
       "    <tr>\n",
       "      <th>82</th>\n",
       "      <td>815361</td>\n",
       "      <td>0.422792</td>\n",
       "      <td>Femme Like U</td>\n",
       "      <td>[Monaldin, Emma Peters]</td>\n",
       "      <td>[Femme Like U]</td>\n",
       "      <td>[electronics]</td>\n",
       "    </tr>\n",
       "    <tr>\n",
       "      <th>83</th>\n",
       "      <td>425129</td>\n",
       "      <td>0.422622</td>\n",
       "      <td>Human</td>\n",
       "      <td>[Rag'n'Bone Man]</td>\n",
       "      <td>[Human, Human, Some Chillout Music, Music Made...</td>\n",
       "      <td>[soundtrack, indie]</td>\n",
       "    </tr>\n",
       "    <tr>\n",
       "      <th>84</th>\n",
       "      <td>903711</td>\n",
       "      <td>0.422199</td>\n",
       "      <td>ZITTI E BUONI</td>\n",
       "      <td>[Måneskin]</td>\n",
       "      <td>[ZITTI E BUONI, Teatro d'ira - Vol. I, Le migl...</td>\n",
       "      <td>[allrock]</td>\n",
       "    </tr>\n",
       "    <tr>\n",
       "      <th>85</th>\n",
       "      <td>899305</td>\n",
       "      <td>0.419360</td>\n",
       "      <td>la di die</td>\n",
       "      <td>[Nessa Barrett, jxdn]</td>\n",
       "      <td>[la di die]</td>\n",
       "      <td>[allrock]</td>\n",
       "    </tr>\n",
       "    <tr>\n",
       "      <th>86</th>\n",
       "      <td>840752</td>\n",
       "      <td>0.417962</td>\n",
       "      <td>Petrunko</td>\n",
       "      <td>[EGOPIUM]</td>\n",
       "      <td>[Petrunko]</td>\n",
       "      <td>[electronics, house]</td>\n",
       "    </tr>\n",
       "    <tr>\n",
       "      <th>87</th>\n",
       "      <td>786713</td>\n",
       "      <td>0.417539</td>\n",
       "      <td>ЯТЛ</td>\n",
       "      <td>[Zivert]</td>\n",
       "      <td>[ЯТЛ, Vinyl #2]</td>\n",
       "      <td>[pop, ruspop]</td>\n",
       "    </tr>\n",
       "    <tr>\n",
       "      <th>88</th>\n",
       "      <td>849935</td>\n",
       "      <td>0.414785</td>\n",
       "      <td>Втюрилась</td>\n",
       "      <td>[Дора]</td>\n",
       "      <td>[Втюрилась]</td>\n",
       "      <td>[local-indie, indie]</td>\n",
       "    </tr>\n",
       "    <tr>\n",
       "      <th>89</th>\n",
       "      <td>827299</td>\n",
       "      <td>0.413260</td>\n",
       "      <td>Cadillac</td>\n",
       "      <td>[MORGENSHTERN, Элджей]</td>\n",
       "      <td>[Cadillac]</td>\n",
       "      <td>[rusrap, rap]</td>\n",
       "    </tr>\n",
       "    <tr>\n",
       "      <th>90</th>\n",
       "      <td>854995</td>\n",
       "      <td>0.410040</td>\n",
       "      <td>3 to 1</td>\n",
       "      <td>[Monoir, Eneli]</td>\n",
       "      <td>[3 to 1, 3 to 1, 3 to 1]</td>\n",
       "      <td>[dance, electronics, house]</td>\n",
       "    </tr>\n",
       "    <tr>\n",
       "      <th>91</th>\n",
       "      <td>806412</td>\n",
       "      <td>0.409151</td>\n",
       "      <td>Свобода</td>\n",
       "      <td>[Сергей Шнуров, Кипелов]</td>\n",
       "      <td>[Бумер. Фильм второй]</td>\n",
       "      <td>[rusrock, allrock]</td>\n",
       "    </tr>\n",
       "    <tr>\n",
       "      <th>92</th>\n",
       "      <td>672761</td>\n",
       "      <td>0.407626</td>\n",
       "      <td>Витаминка</td>\n",
       "      <td>[Тима Белорусских]</td>\n",
       "      <td>[Твой первый диск - моя кассета]</td>\n",
       "      <td>[pop, ruspop]</td>\n",
       "    </tr>\n",
       "    <tr>\n",
       "      <th>93</th>\n",
       "      <td>947619</td>\n",
       "      <td>0.404533</td>\n",
       "      <td>Останься</td>\n",
       "      <td>[NЮ, Асия]</td>\n",
       "      <td>[Останься, Асия]</td>\n",
       "      <td>[pop, ruspop]</td>\n",
       "    </tr>\n",
       "    <tr>\n",
       "      <th>94</th>\n",
       "      <td>829725</td>\n",
       "      <td>0.403940</td>\n",
       "      <td>А если это любовь?</td>\n",
       "      <td>[HammAli &amp; Navai]</td>\n",
       "      <td>[А если это любовь?]</td>\n",
       "      <td>[rusrap, rap]</td>\n",
       "    </tr>\n",
       "    <tr>\n",
       "      <th>95</th>\n",
       "      <td>918989</td>\n",
       "      <td>0.403601</td>\n",
       "      <td>Astronaut In The Ocean</td>\n",
       "      <td>[Masked Wolf, Alok]</td>\n",
       "      <td>[Astronaut In The Ocean, Teamwrk Dance - Best ...</td>\n",
       "      <td>[dance]</td>\n",
       "    </tr>\n",
       "    <tr>\n",
       "      <th>96</th>\n",
       "      <td>743881</td>\n",
       "      <td>0.400508</td>\n",
       "      <td>Clandestina</td>\n",
       "      <td>[FILV, Edmofo]</td>\n",
       "      <td>[Clandestina, Fresh Dance, Yeni Dünya Special ...</td>\n",
       "      <td>[dance]</td>\n",
       "    </tr>\n",
       "    <tr>\n",
       "      <th>97</th>\n",
       "      <td>729315</td>\n",
       "      <td>0.400000</td>\n",
       "      <td>Улетай на крыльях ветра</td>\n",
       "      <td>[Dabro remix]</td>\n",
       "      <td>[Улетай на крыльях ветра]</td>\n",
       "      <td>[rusrap, rap]</td>\n",
       "    </tr>\n",
       "    <tr>\n",
       "      <th>98</th>\n",
       "      <td>577122</td>\n",
       "      <td>0.399237</td>\n",
       "      <td>Зелёные волны</td>\n",
       "      <td>[Zivert]</td>\n",
       "      <td>[Сияй]</td>\n",
       "      <td>[pop, ruspop]</td>\n",
       "    </tr>\n",
       "    <tr>\n",
       "      <th>99</th>\n",
       "      <td>884779</td>\n",
       "      <td>0.397162</td>\n",
       "      <td>2 Phút Hơn</td>\n",
       "      <td>[Pháo, KAIZ]</td>\n",
       "      <td>[2 Phút Hơn]</td>\n",
       "      <td>[dance]</td>\n",
       "    </tr>\n",
       "  </tbody>\n",
       "</table>\n",
       "</div>"
      ],
      "text/plain": [
       "    item_id  popularity_score                track_name  \\\n",
       "0    923941          1.000000                    Птичка   \n",
       "1    770472          0.978267           Blinding Lights   \n",
       "2    919064          0.970854          Федерико Феллини   \n",
       "3    818090          0.960856                    Юность   \n",
       "4    901224          0.948951                 Rampampam   \n",
       "5    928830          0.942300               Я в моменте   \n",
       "6    888735          0.851515    Astronaut In The Ocean   \n",
       "7    890614          0.846600              Горький вкус   \n",
       "8    693863          0.788477                   bad guy   \n",
       "9    887422          0.764669             Венера-Юпитер   \n",
       "10   736895          0.763398              Dance Monkey   \n",
       "11   962078          0.761788             Солнце Монако   \n",
       "12   690937          0.747087                In The End   \n",
       "13   903793          0.735056     I WANNA BE YOUR SLAVE   \n",
       "14   749846          0.675916                    Комета   \n",
       "15   481767          0.674433                  Believer   \n",
       "16   686086          0.670748             Кукла колдуна   \n",
       "17   928832          0.664393                Пошла жара   \n",
       "18   644524          0.664054                      Life   \n",
       "19   873853          0.663969             Ягода малинка   \n",
       "20   725044          0.659691                    Прятки   \n",
       "21   852373          0.641135   Если тебе будет грустно   \n",
       "22   821323          0.611354         Поболело и прошло   \n",
       "23   863037          0.609108         Снова я напиваюсь   \n",
       "24   781008          0.605804        Луна не знает пути   \n",
       "25   678852          0.595891             Грустный дэнс   \n",
       "26   742440          0.594747                     Credo   \n",
       "27   748892          0.592629                     Roses   \n",
       "28   825028          0.592502                      Краш   \n",
       "29   837379          0.591104                      Сияй   \n",
       "30   807819          0.590129            Плачу на техно   \n",
       "31   922635          0.589367        На часах ноль-ноль   \n",
       "32   934136          0.588180       Amore Море, Goodbye   \n",
       "33   787945          0.585596           Девочка, танцуй   \n",
       "34   911732          0.584791                    Патрон   \n",
       "35   668210          0.570345                   Сансара   \n",
       "36   835930          0.568227                     Minor   \n",
       "37   568869          0.564965                In My Mind   \n",
       "38   944365          0.562720                Стеклянная   \n",
       "39   473203          0.561195              Shape of You   \n",
       "40   664413          0.557848                   Cradles   \n",
       "41   938211          0.552510                      STAY   \n",
       "42   899851          0.552086       ТЫ ГОРИШЬ КАК ОГОНЬ   \n",
       "43   857329          0.549121                     СЛЁЗЫ   \n",
       "44   754834          0.546494  Увезите меня на Дип-хаус   \n",
       "45   842946          0.539038                  Deep End   \n",
       "46   927591          0.534971                Close Eyes   \n",
       "47   742436          0.534294             Beverly Hills   \n",
       "48   722117          0.531794                  Señorita   \n",
       "49   932289          0.530947                   Пополам   \n",
       "50   812320          0.523914                    Кометы   \n",
       "51   703346          0.523533                   Любимка   \n",
       "52   731825          0.520610                    Аugust   \n",
       "53   686034          0.519254                    Лесник   \n",
       "54   962876          0.517136            МАЛИНОВАЯ ЛАДА   \n",
       "55   905198          0.516416                 Истеричка   \n",
       "56   692575          0.513789               DEUTSCHLAND   \n",
       "57   631410          0.512434                 Незабудка   \n",
       "58   931730          0.511756                     Пушка   \n",
       "59   905940          0.511078          Somebody To Love   \n",
       "60   835931          0.510189           Там ревели горы   \n",
       "61   741146          0.503622              2 типа людей   \n",
       "62   509948          0.497988                I Got Love   \n",
       "63   502504          0.497649                   Thunder   \n",
       "64   798302          0.496251                       UNO   \n",
       "65   604129          0.489515                   Natural   \n",
       "66   902339          0.479814             Нету интереса   \n",
       "67   565770          0.477992                Выхода нет   \n",
       "68   935798          0.476552  Love Tonight feat. Sakso   \n",
       "69   632610          0.471256                   Плакала   \n",
       "70   816207          0.466893                  Lovefool   \n",
       "71   687465          0.466215             Девочка-война   \n",
       "72   687241          0.464054                  Зацепила   \n",
       "73   627658          0.463546                       NBA   \n",
       "74   839923          0.459606     Не пускайте танцевать   \n",
       "75   843542          0.459437                   неболей   \n",
       "76   787044          0.457234              Покинула чат   \n",
       "77   919863          0.448507         Seven Nation Army   \n",
       "78   919318          0.434442             Бесприданница   \n",
       "79   686089          0.428680           Прыгну со скалы   \n",
       "80   814152          0.426901        Мальчик на девятке   \n",
       "81   725565          0.423512                  Пчеловод   \n",
       "82   815361          0.422792              Femme Like U   \n",
       "83   425129          0.422622                     Human   \n",
       "84   903711          0.422199             ZITTI E BUONI   \n",
       "85   899305          0.419360                 la di die   \n",
       "86   840752          0.417962                  Petrunko   \n",
       "87   786713          0.417539                       ЯТЛ   \n",
       "88   849935          0.414785                 Втюрилась   \n",
       "89   827299          0.413260                  Cadillac   \n",
       "90   854995          0.410040                    3 to 1   \n",
       "91   806412          0.409151                   Свобода   \n",
       "92   672761          0.407626                 Витаминка   \n",
       "93   947619          0.404533                  Останься   \n",
       "94   829725          0.403940        А если это любовь?   \n",
       "95   918989          0.403601    Astronaut In The Ocean   \n",
       "96   743881          0.400508               Clandestina   \n",
       "97   729315          0.400000   Улетай на крыльях ветра   \n",
       "98   577122          0.399237             Зелёные волны   \n",
       "99   884779          0.397162                2 Phút Hơn   \n",
       "\n",
       "                                        artists_names  \\\n",
       "0                                   [HammAli & Navai]   \n",
       "1                                        [The Weeknd]   \n",
       "2                                   [Galibri & Mavik]   \n",
       "3                                             [Dabro]   \n",
       "4                                           [Minelli]   \n",
       "5                                  [Джарахов, Markul]   \n",
       "6                                       [Masked Wolf]   \n",
       "7                                    [Султан Лагучев]   \n",
       "8                                     [Billie Eilish]   \n",
       "9                                   [Ваня Дмитриенко]   \n",
       "10                                      [Tones And I]   \n",
       "11                                    [Люся Чеботина]   \n",
       "12               [Tommee Profitt, Fleurie, Mellen Gi]   \n",
       "13                                         [Måneskin]   \n",
       "14                                             [JONY]   \n",
       "15                                  [Imagine Dragons]   \n",
       "16                                     [Король и Шут]   \n",
       "17               [GAYAZOV$ BROTHER$, Filatov & Karas]   \n",
       "18                                           [Zivert]   \n",
       "19                                            [ХАБИБ]   \n",
       "20                                  [HammAli & Navai]   \n",
       "21                             [Rauf & Faik, NILETTO]   \n",
       "22                                            [HENSY]   \n",
       "23                                     [SLAVA MARLOW]   \n",
       "24                                   [Тайпан, Agunda]   \n",
       "25                        [Artik & Asti, Артём Качер]   \n",
       "26                                           [Zivert]   \n",
       "27                                        [SAINt JHN]   \n",
       "28                              [Клава Кока, NILETTO]   \n",
       "29                                           [Ramil']   \n",
       "30                                 [Cream Soda, ХЛЕБ]   \n",
       "31                                            [Dabro]   \n",
       "32                    [Filatov & Karas, Мумий Тролль]   \n",
       "33                                     [Artik & Asti]   \n",
       "34                              [Miyagi & Andy Panda]   \n",
       "35  [Баста, Скриптонит, Диана Арбенина, Сергей Боб...   \n",
       "36                              [Miyagi & Andy Panda]   \n",
       "37                          [Dynoro, Gigi D'Agostino]   \n",
       "38                                             [GUMA]   \n",
       "39                                       [Ed Sheeran]   \n",
       "40                                        [Sub Urban]   \n",
       "41                     [The Kid LAROI, Justin Bieber]   \n",
       "42                                     [SLAVA MARLOW]   \n",
       "43                                        [Анет Сай]   \n",
       "44                                [GAYAZOV$ BROTHER$]   \n",
       "45                                          [Fousheé]   \n",
       "46                                            [DVRST]   \n",
       "47                                           [Zivert]   \n",
       "48                     [Shawn Mendes, Camila Cabello]   \n",
       "49                                    [BRANYA, MACAN]   \n",
       "50                                      [polnalyubvi]   \n",
       "51                                          [NILETTO]   \n",
       "52                                     [Intelligency]   \n",
       "53                                     [Король и Шут]   \n",
       "54                                [GAYAZOV$ BROTHER$]   \n",
       "55                                     [Artik & Asti]   \n",
       "56                                        [Rammstein]   \n",
       "57                                 [Тима Белорусских]   \n",
       "58                                            [10AGE]   \n",
       "59                                      [Basstrologe]   \n",
       "60                              [Miyagi & Andy Panda]   \n",
       "61                                        [Макс Корж]   \n",
       "62                     [Miyagi & Эндшпиль, Рем Дигга]   \n",
       "63                                  [Imagine Dragons]   \n",
       "64                                       [Little Big]   \n",
       "65                                  [Imagine Dragons]   \n",
       "66                                            [10AGE]   \n",
       "67                                            [Сплин]   \n",
       "68                       [Antwerp House Squad, Sakso]   \n",
       "69                                            [KAZKA]   \n",
       "70                                        [twocolors]   \n",
       "71                                  [HammAli & Navai]   \n",
       "72                                   [Артур Пирожков]   \n",
       "73                                             [RSAC]   \n",
       "74                      [Timran, ZELL, Batrai, Aslai]   \n",
       "75                                    [Zivert, Баста]   \n",
       "76                                       [Клава Кока]   \n",
       "77                         [Gaullin, Julian Perretta]   \n",
       "78                                      [DEAD BLONDE]   \n",
       "79                                     [Король и Шут]   \n",
       "80                                      [DEAD BLONDE]   \n",
       "81                                             [RASA]   \n",
       "82                            [Monaldin, Emma Peters]   \n",
       "83                                   [Rag'n'Bone Man]   \n",
       "84                                         [Måneskin]   \n",
       "85                              [Nessa Barrett, jxdn]   \n",
       "86                                          [EGOPIUM]   \n",
       "87                                           [Zivert]   \n",
       "88                                             [Дора]   \n",
       "89                             [MORGENSHTERN, Элджей]   \n",
       "90                                    [Monoir, Eneli]   \n",
       "91                           [Сергей Шнуров, Кипелов]   \n",
       "92                                 [Тима Белорусских]   \n",
       "93                                         [NЮ, Асия]   \n",
       "94                                  [HammAli & Navai]   \n",
       "95                                [Masked Wolf, Alok]   \n",
       "96                                     [FILV, Edmofo]   \n",
       "97                                      [Dabro remix]   \n",
       "98                                           [Zivert]   \n",
       "99                                       [Pháo, KAIZ]   \n",
       "\n",
       "                                         albums_names  \\\n",
       "0                                            [Птичка]   \n",
       "1   [Blinding Lights, After Hours, After Hours, Af...   \n",
       "2                                  [Федерико Феллини]   \n",
       "3                                            [Юность]   \n",
       "4                              [Rampampam, Rampampam]   \n",
       "5                                       [Я в моменте]   \n",
       "6              [Astronaut In The Ocean, Astronomical]   \n",
       "7              [Горький вкус, Горячие Хиты Кавказа 2]   \n",
       "8   [WHEN WE ALL FALL ASLEEP, WHERE DO WE GO?, 202...   \n",
       "9                                     [Венера-Юпитер]   \n",
       "10  [Dance Monkey, The Kids Are Coming, 100 Greate...   \n",
       "11                                          [The End]   \n",
       "12  [In the End, Christian TikTok, Trending Now 20...   \n",
       "13                            [Teatro d'ira - Vol. I]   \n",
       "14                                           [Комета]   \n",
       "15  [Shape Of Pop, NOW That's What I Call Music, E...   \n",
       "16                              [Акустический альбом]   \n",
       "17                           [Пошла жара, ПОШЛА ЖАРА]   \n",
       "18  [Life, Life, Made in Russia, Fresh Dance, Life...   \n",
       "19                                    [Ягода малинка]   \n",
       "20                                           [Прятки]   \n",
       "21                          [Если тебе будет грустно]   \n",
       "22  [Поболело и прошло, Музыка для души, Музыка дл...   \n",
       "23                         [Снова я напиваюсь, АРТЁМ]   \n",
       "24                      [Луна не знает пути, СОЮЗ 63]   \n",
       "25     [Грустный дэнс, 7 (Part 1), Spring Music 2019]   \n",
       "26  [Vinyl #1, Vinyl #1. Deluxe Version, Первый та...   \n",
       "27  [Roses, Fresh Dance, Yeni Dünya Special Dance ...   \n",
       "28                                             [Краш]   \n",
       "29                                       [Сияй, Сияй]   \n",
       "30                                   [Плачу на техно]   \n",
       "31                               [На часах ноль-ноль]   \n",
       "32                              [Amore Море, Goodbye]   \n",
       "33                                       [7 (Part 2)]   \n",
       "34                                           [Патрон]   \n",
       "35                                          [Сансара]   \n",
       "36                                         [YAMAKASI]   \n",
       "37  [In My Mind, In My Mind, Dance Hits 2019 - Sum...   \n",
       "38                                       [Стеклянная]   \n",
       "39            [Shape of You, ÷, ÷, Summer Vibes, Pop]   \n",
       "40                                 [Cradles, Cradles]   \n",
       "41  [STAY, F*CK LOVE 3: OVER YOU, F*CK LOVE 3+: OV...   \n",
       "42         [ТЫ ГОРИШЬ КАК ОГОНЬ, ТЫ ГОРИШЬ КАК ОГОНЬ]   \n",
       "43                      [СЛЁЗЫ, Любовь. Слезы. Движ.]   \n",
       "44                         [Увезите меня на Дип-хаус]   \n",
       "45                           [Deep End, time machine]   \n",
       "46                                       [Close Eyes]   \n",
       "47  [Vinyl #1, Первый танцевальный. Vol. 18, Vinyl...   \n",
       "48  [Señorita, Shawn Mendes, Romance, Romance, 202...   \n",
       "49                                          [Пополам]   \n",
       "50                      [Кометы, Сказки лесной нимфы]   \n",
       "51                                          [Любимка]   \n",
       "52                                [August, Renovatio]   \n",
       "53                         [Будь как дома, Путник...]   \n",
       "54                                   [МАЛИНОВАЯ ЛАДА]   \n",
       "55              [Миллениум, Миллениум X, Миллениум X]   \n",
       "56                           [Deutschland, Rammstein]   \n",
       "57                                        [Незабудка]   \n",
       "58                                            [Пушка]   \n",
       "59               [Somebody To Love, Somebody To Love]   \n",
       "60                                         [YAMAKASI]   \n",
       "61                                     [2 типа людей]   \n",
       "62                           [I Got Love, I Got Love]   \n",
       "63  [Thunder, Summer Songs, NOW That's What I Call...   \n",
       "64                                              [UNO]   \n",
       "65  [Natural, Origins, Origins, Больше хитов! Боль...   \n",
       "66                                    [Нету интереса]   \n",
       "67                                [Гранатовый альбом]   \n",
       "68        [Love Tonight feat. Sakso, Mega Dance 2021]   \n",
       "69  [Karma, Teta Records - Nr 1! Best of 2018, Пла...   \n",
       "70  [Lovefool, Party 2020, Douce rentrée, Motivati...   \n",
       "71                       [Девочка-война, ZHARA Vol.1]   \n",
       "72                                         [Зацепила]   \n",
       "73                                        [АРГУМЕНТЫ]   \n",
       "74  [Не пускайте танцевать, Best Radio Tracks, Vol...   \n",
       "75                                          [неболей]   \n",
       "76                                     [Покинула чат]   \n",
       "77                                [Seven Nation Army]   \n",
       "78                [Бесприданница, Княжна из хрущёвки]   \n",
       "79                              [Акустический альбом]   \n",
       "80                                       [Пропаганда]   \n",
       "81                                         [Пчеловод]   \n",
       "82                                     [Femme Like U]   \n",
       "83  [Human, Human, Some Chillout Music, Music Made...   \n",
       "84  [ZITTI E BUONI, Teatro d'ira - Vol. I, Le migl...   \n",
       "85                                        [la di die]   \n",
       "86                                         [Petrunko]   \n",
       "87                                    [ЯТЛ, Vinyl #2]   \n",
       "88                                        [Втюрилась]   \n",
       "89                                         [Cadillac]   \n",
       "90                           [3 to 1, 3 to 1, 3 to 1]   \n",
       "91                              [Бумер. Фильм второй]   \n",
       "92                   [Твой первый диск - моя кассета]   \n",
       "93                                   [Останься, Асия]   \n",
       "94                               [А если это любовь?]   \n",
       "95  [Astronaut In The Ocean, Teamwrk Dance - Best ...   \n",
       "96  [Clandestina, Fresh Dance, Yeni Dünya Special ...   \n",
       "97                          [Улетай на крыльях ветра]   \n",
       "98                                             [Сияй]   \n",
       "99                                       [2 Phút Hơn]   \n",
       "\n",
       "                   genres_names  \n",
       "0                 [pop, ruspop]  \n",
       "1                         [rnb]  \n",
       "2                 [pop, ruspop]  \n",
       "3                 [pop, ruspop]  \n",
       "4                       [dance]  \n",
       "5                 [rusrap, rap]  \n",
       "6             [foreignrap, rap]  \n",
       "7             [folk, caucasian]  \n",
       "8                       [indie]  \n",
       "9                 [pop, ruspop]  \n",
       "10                        [pop]  \n",
       "11                [pop, ruspop]  \n",
       "12                        [rnb]  \n",
       "13                    [allrock]  \n",
       "14                [pop, ruspop]  \n",
       "15              [rock, allrock]  \n",
       "16                       [punk]  \n",
       "17                [pop, ruspop]  \n",
       "18                [pop, ruspop]  \n",
       "19                [pop, ruspop]  \n",
       "20                [rusrap, rap]  \n",
       "21                [pop, ruspop]  \n",
       "22                [pop, ruspop]  \n",
       "23                [rusrap, rap]  \n",
       "24                [pop, ruspop]  \n",
       "25                [pop, ruspop]  \n",
       "26                [pop, ruspop]  \n",
       "27                      [dance]  \n",
       "28                [pop, ruspop]  \n",
       "29                [pop, ruspop]  \n",
       "30                [pop, ruspop]  \n",
       "31                [pop, ruspop]  \n",
       "32                [pop, ruspop]  \n",
       "33                [pop, ruspop]  \n",
       "34                [rusrap, rap]  \n",
       "35                [rusrap, rap]  \n",
       "36                [rusrap, rap]  \n",
       "37                      [dance]  \n",
       "38                [pop, ruspop]  \n",
       "39                        [pop]  \n",
       "40                [electronics]  \n",
       "41                        [pop]  \n",
       "42                [rusrap, rap]  \n",
       "43                [pop, ruspop]  \n",
       "44                [pop, ruspop]  \n",
       "45                        [rnb]  \n",
       "46            [foreignrap, rap]  \n",
       "47                [pop, ruspop]  \n",
       "48                        [pop]  \n",
       "49                [rusrap, rap]  \n",
       "50         [local-indie, indie]  \n",
       "51                [pop, ruspop]  \n",
       "52                [electronics]  \n",
       "53           [rusrock, allrock]  \n",
       "54                [pop, ruspop]  \n",
       "55                [pop, ruspop]  \n",
       "56          [metal, industrial]  \n",
       "57                [pop, ruspop]  \n",
       "58                [rusrap, rap]  \n",
       "59                      [dance]  \n",
       "60                [rusrap, rap]  \n",
       "61                [rusrap, rap]  \n",
       "62                [rusrap, rap]  \n",
       "63              [rock, allrock]  \n",
       "64                      [dance]  \n",
       "65              [rock, allrock]  \n",
       "66                [rusrap, rap]  \n",
       "67           [rusrock, allrock]  \n",
       "68                      [dance]  \n",
       "69                 [pop, dance]  \n",
       "70                      [dance]  \n",
       "71                [rusrap, rap]  \n",
       "72                [pop, ruspop]  \n",
       "73         [local-indie, indie]  \n",
       "74                      [dance]  \n",
       "75                [pop, ruspop]  \n",
       "76                [pop, ruspop]  \n",
       "77                      [dance]  \n",
       "78                [pop, ruspop]  \n",
       "79                       [punk]  \n",
       "80                      [dance]  \n",
       "81                [pop, ruspop]  \n",
       "82                [electronics]  \n",
       "83          [soundtrack, indie]  \n",
       "84                    [allrock]  \n",
       "85                    [allrock]  \n",
       "86         [electronics, house]  \n",
       "87                [pop, ruspop]  \n",
       "88         [local-indie, indie]  \n",
       "89                [rusrap, rap]  \n",
       "90  [dance, electronics, house]  \n",
       "91           [rusrock, allrock]  \n",
       "92                [pop, ruspop]  \n",
       "93                [pop, ruspop]  \n",
       "94                [rusrap, rap]  \n",
       "95                      [dance]  \n",
       "96                      [dance]  \n",
       "97                [rusrap, rap]  \n",
       "98                [pop, ruspop]  \n",
       "99                      [dance]  "
      ]
     },
     "metadata": {},
     "output_type": "display_data"
    }
   ],
   "source": [
    "with pd.option_context('display.max_rows', 100):\n",
    "    display(top_k_pop_items[[\"item_id\", \"popularity_score\", \"track_name\", \"artists_names\", \"albums_names\", \"genres_names\"]])"
   ]
  },
  {
   "cell_type": "code",
   "execution_count": 71,
   "id": "d21329a2-30d9-457c-bb0b-ecb029833ae4",
   "metadata": {},
   "outputs": [],
   "source": [
    "cold_users = set(cold_users)"
   ]
  },
  {
   "cell_type": "code",
   "execution_count": 72,
   "id": "643fc5e2-6092-4781-83ad-a433d82ed121",
   "metadata": {},
   "outputs": [],
   "source": [
    "cold_users_events_with_recs = events_test.query(\"user_id in @cold_users\").merge(top_k_pop_items, on=\"item_id\", how=\"left\")"
   ]
  },
  {
   "cell_type": "code",
   "execution_count": 78,
   "id": "f9a4cd58-0d65-464d-85bf-91030306b406",
   "metadata": {},
   "outputs": [],
   "source": [
    "cold_user_items_no_pop_idx = cold_users_events_with_recs[\"popularity_score\"].isnull()\n",
    "cold_user_recs = cold_users_events_with_recs[~cold_user_items_no_pop_idx] \\\n",
    "    [[\"item_id\", \"popularity_score\"]] "
   ]
  },
  {
   "cell_type": "code",
   "execution_count": 79,
   "id": "ed4ed242-d61f-4b21-8f99-eaa25eae8d28",
   "metadata": {},
   "outputs": [
    {
     "data": {
      "text/html": [
       "<div>\n",
       "<style scoped>\n",
       "    .dataframe tbody tr th:only-of-type {\n",
       "        vertical-align: middle;\n",
       "    }\n",
       "\n",
       "    .dataframe tbody tr th {\n",
       "        vertical-align: top;\n",
       "    }\n",
       "\n",
       "    .dataframe thead th {\n",
       "        text-align: right;\n",
       "    }\n",
       "</style>\n",
       "<table border=\"1\" class=\"dataframe\">\n",
       "  <thead>\n",
       "    <tr style=\"text-align: right;\">\n",
       "      <th></th>\n",
       "      <th>item_id</th>\n",
       "      <th>popularity_score</th>\n",
       "    </tr>\n",
       "  </thead>\n",
       "  <tbody>\n",
       "    <tr>\n",
       "      <th>1066286</th>\n",
       "      <td>962078</td>\n",
       "      <td>0.761788</td>\n",
       "    </tr>\n",
       "    <tr>\n",
       "      <th>617941</th>\n",
       "      <td>631410</td>\n",
       "      <td>0.512434</td>\n",
       "    </tr>\n",
       "    <tr>\n",
       "      <th>940497</th>\n",
       "      <td>843542</td>\n",
       "      <td>0.459437</td>\n",
       "    </tr>\n",
       "  </tbody>\n",
       "</table>\n",
       "</div>"
      ],
      "text/plain": [
       "         item_id  popularity_score\n",
       "1066286   962078          0.761788\n",
       "617941    631410          0.512434\n",
       "940497    843542          0.459437"
      ]
     },
     "execution_count": 79,
     "metadata": {},
     "output_type": "execute_result"
    }
   ],
   "source": [
    "cold_user_recs.sample(3)"
   ]
  },
  {
   "cell_type": "code",
   "execution_count": 80,
   "id": "ae6392f4-86b5-43a3-8e6f-26fbb645ee44",
   "metadata": {},
   "outputs": [],
   "source": [
    "top_k_pop_items.to_parquet(\"top_popular.parquet\")"
   ]
  },
  {
   "cell_type": "code",
   "execution_count": 81,
   "id": "e786dd0f-14c8-4688-a112-748c01d33c14",
   "metadata": {},
   "outputs": [],
   "source": [
    "s3.upload_file(\"top_popular.parquet\", bucket_name, 'recsys/recommendations/top_popular.parquet')"
   ]
  },
  {
   "cell_type": "code",
   "execution_count": 82,
   "id": "759fe6a4-5ce9-48c0-9f74-4365a09bfa5f",
   "metadata": {},
   "outputs": [
    {
     "name": "stdout",
     "output_type": "stream",
     "text": [
      "Имя объекта: recsys/data/events.parquet, Размер: 1307546120 байт\n",
      "Имя объекта: recsys/data/items.parquet, Размер: 75470489 байт\n",
      "Имя объекта: recsys/recommendations/top_popular.parquet, Размер: 29142 байт\n"
     ]
    }
   ],
   "source": [
    "response = s3.list_objects_v2(Bucket=bucket_name)\n",
    "# Проверяем, есть ли объекты в бакете\n",
    "if 'Contents' in response:\n",
    "    for obj in response['Contents'][-3:]:\n",
    "        print(f\"Имя объекта: {obj['Key']}, Размер: {obj['Size']} байт\")\n",
    "else:\n",
    "    print(\"Бакет пуст или не существует.\")"
   ]
  },
  {
   "cell_type": "markdown",
   "id": "2ad231f2-6158-421a-b7fa-01d8bc3ed572",
   "metadata": {},
   "source": [
    "# Персональные"
   ]
  },
  {
   "cell_type": "markdown",
   "id": "86159460-cd9d-4b63-8248-604ea3c9aebf",
   "metadata": {},
   "source": [
    "Рассчитаем персональные рекомендации."
   ]
  },
  {
   "cell_type": "code",
   "execution_count": 84,
   "id": "60f776ed-2421-498e-a99f-71cd5e9bf848",
   "metadata": {},
   "outputs": [],
   "source": [
    "events_test = events_test.merge(items[['item_id', 'popularity_score']], how='left', on='item_id')\n",
    "events_train = events_train.merge(items[['item_id', 'popularity_score']], how='left', on='item_id')"
   ]
  },
  {
   "cell_type": "code",
   "execution_count": 85,
   "id": "785a529e-a4c5-4970-8e3e-27cd88e8151b",
   "metadata": {},
   "outputs": [
    {
     "data": {
      "text/html": [
       "<div>\n",
       "<style scoped>\n",
       "    .dataframe tbody tr th:only-of-type {\n",
       "        vertical-align: middle;\n",
       "    }\n",
       "\n",
       "    .dataframe tbody tr th {\n",
       "        vertical-align: top;\n",
       "    }\n",
       "\n",
       "    .dataframe thead th {\n",
       "        text-align: right;\n",
       "    }\n",
       "</style>\n",
       "<table border=\"1\" class=\"dataframe\">\n",
       "  <thead>\n",
       "    <tr style=\"text-align: right;\">\n",
       "      <th></th>\n",
       "      <th>user_id</th>\n",
       "      <th>track_seq</th>\n",
       "      <th>started_at</th>\n",
       "      <th>item_id</th>\n",
       "      <th>popularity_score</th>\n",
       "    </tr>\n",
       "  </thead>\n",
       "  <tbody>\n",
       "    <tr>\n",
       "      <th>2387398</th>\n",
       "      <td>237129</td>\n",
       "      <td>7</td>\n",
       "      <td>2022-12-26</td>\n",
       "      <td>518647</td>\n",
       "      <td>0.008346</td>\n",
       "    </tr>\n",
       "    <tr>\n",
       "      <th>8733900</th>\n",
       "      <td>867543</td>\n",
       "      <td>23</td>\n",
       "      <td>2022-12-22</td>\n",
       "      <td>742105</td>\n",
       "      <td>0.092057</td>\n",
       "    </tr>\n",
       "    <tr>\n",
       "      <th>5929641</th>\n",
       "      <td>588669</td>\n",
       "      <td>51</td>\n",
       "      <td>2022-12-28</td>\n",
       "      <td>659357</td>\n",
       "      <td>0.004279</td>\n",
       "    </tr>\n",
       "  </tbody>\n",
       "</table>\n",
       "</div>"
      ],
      "text/plain": [
       "         user_id  track_seq started_at  item_id  popularity_score\n",
       "2387398   237129          7 2022-12-26   518647          0.008346\n",
       "8733900   867543         23 2022-12-22   742105          0.092057\n",
       "5929641   588669         51 2022-12-28   659357          0.004279"
      ]
     },
     "execution_count": 85,
     "metadata": {},
     "output_type": "execute_result"
    }
   ],
   "source": [
    "events_test.sample(3)"
   ]
  },
  {
   "cell_type": "code",
   "execution_count": 86,
   "id": "41b7075e-ecfe-4488-a5ee-4fbfffdeb1ea",
   "metadata": {},
   "outputs": [
    {
     "data": {
      "text/html": [
       "<div>\n",
       "<style scoped>\n",
       "    .dataframe tbody tr th:only-of-type {\n",
       "        vertical-align: middle;\n",
       "    }\n",
       "\n",
       "    .dataframe tbody tr th {\n",
       "        vertical-align: top;\n",
       "    }\n",
       "\n",
       "    .dataframe thead th {\n",
       "        text-align: right;\n",
       "    }\n",
       "</style>\n",
       "<table border=\"1\" class=\"dataframe\">\n",
       "  <thead>\n",
       "    <tr style=\"text-align: right;\">\n",
       "      <th></th>\n",
       "      <th>user_id</th>\n",
       "      <th>track_seq</th>\n",
       "      <th>started_at</th>\n",
       "      <th>item_id</th>\n",
       "      <th>popularity_score</th>\n",
       "    </tr>\n",
       "  </thead>\n",
       "  <tbody>\n",
       "    <tr>\n",
       "      <th>38989860</th>\n",
       "      <td>257053</td>\n",
       "      <td>133</td>\n",
       "      <td>2022-08-17</td>\n",
       "      <td>315117</td>\n",
       "      <td>0.004321</td>\n",
       "    </tr>\n",
       "    <tr>\n",
       "      <th>70823715</th>\n",
       "      <td>467233</td>\n",
       "      <td>129</td>\n",
       "      <td>2022-11-15</td>\n",
       "      <td>42668</td>\n",
       "      <td>0.024529</td>\n",
       "    </tr>\n",
       "    <tr>\n",
       "      <th>74787035</th>\n",
       "      <td>493895</td>\n",
       "      <td>934</td>\n",
       "      <td>2022-08-01</td>\n",
       "      <td>760165</td>\n",
       "      <td>0.079898</td>\n",
       "    </tr>\n",
       "  </tbody>\n",
       "</table>\n",
       "</div>"
      ],
      "text/plain": [
       "          user_id  track_seq started_at  item_id  popularity_score\n",
       "38989860   257053        133 2022-08-17   315117          0.004321\n",
       "70823715   467233        129 2022-11-15    42668          0.024529\n",
       "74787035   493895        934 2022-08-01   760165          0.079898"
      ]
     },
     "execution_count": 86,
     "metadata": {},
     "output_type": "execute_result"
    }
   ],
   "source": [
    "events_train.sample(3)"
   ]
  },
  {
   "cell_type": "code",
   "execution_count": 87,
   "id": "b195b142-d119-4abe-98ee-1092ae8a4cbc",
   "metadata": {},
   "outputs": [],
   "source": [
    "events_test.to_parquet(\"events_test.parquet\")"
   ]
  },
  {
   "cell_type": "code",
   "execution_count": 88,
   "id": "a878f13a-b471-4128-8774-28abcebdb5ec",
   "metadata": {},
   "outputs": [],
   "source": [
    "events_train.to_parquet(\"events_train.parquet\")"
   ]
  },
  {
   "cell_type": "code",
   "execution_count": 11,
   "id": "1252d345-bdec-4981-9fec-3f2a4aaa0e52",
   "metadata": {},
   "outputs": [],
   "source": [
    "events_train = events_train.rename(columns={'popularity_score': 'rating'})\n",
    "events_test = events_test.rename(columns={'popularity_score': 'rating'})"
   ]
  },
  {
   "cell_type": "code",
   "execution_count": 12,
   "id": "8ed4e83e-42ad-4b42-b504-7c7056904596",
   "metadata": {},
   "outputs": [],
   "source": [
    "# используем Reader из библиотеки surprise для преобразования событий (events)\n",
    "# в формат, необходимый surprise\n",
    "# тк ресурсов не хватает то сделаем децимацию обучающих данных с шагом 8\n",
    "reader = Reader(rating_scale=(0, 1))\n",
    "surprise_train_set = Dataset.load_from_df(events_train[['user_id', 'item_id', 'rating']][::8], reader)\n",
    "surprise_train_set = surprise_train_set.build_full_trainset()"
   ]
  },
  {
   "cell_type": "code",
   "execution_count": 13,
   "id": "405bf1cb-e553-4e20-bad2-cbfe937448ef",
   "metadata": {},
   "outputs": [],
   "source": [
    "# Сохранение модели reader в файл\n",
    "with open('reader.pkl', 'wb') as f:\n",
    "    pickle.dump(reader, f)"
   ]
  },
  {
   "cell_type": "code",
   "execution_count": 14,
   "id": "d2944822-569c-4f9b-82dc-70a7fa2d542e",
   "metadata": {},
   "outputs": [
    {
     "data": {
      "text/plain": [
       "<surprise.prediction_algorithms.matrix_factorization.SVD at 0x7f4afa856500>"
      ]
     },
     "execution_count": 14,
     "metadata": {},
     "output_type": "execute_result"
    }
   ],
   "source": [
    "# инициализируем модель\n",
    "svd_model = SVD(n_factors=100, random_state=0)\n",
    "\n",
    "# обучаем модель\n",
    "svd_model.fit(surprise_train_set)"
   ]
  },
  {
   "cell_type": "code",
   "execution_count": 15,
   "id": "1e8cdb58-3a8c-45ad-8e5f-7f950314aa56",
   "metadata": {},
   "outputs": [],
   "source": [
    "# Сохранение модели svd_model в файл\n",
    "with open('svd_model.pkl', 'wb') as f:\n",
    "    pickle.dump(svd_model, f)"
   ]
  },
  {
   "cell_type": "code",
   "execution_count": 16,
   "id": "853d9b17-d305-4146-8fd3-73f02b06190a",
   "metadata": {},
   "outputs": [],
   "source": [
    "surprise_test_set = list(events_test[['user_id', 'item_id', 'rating']][::4].itertuples(index=False))\n",
    "# получаем рекомендации для тестовой выборки\n",
    "svd_predictions = svd_model.test(surprise_test_set)"
   ]
  },
  {
   "cell_type": "code",
   "execution_count": 17,
   "id": "5a15385b-b46f-4f33-9278-27592df0b139",
   "metadata": {},
   "outputs": [
    {
     "name": "stdout",
     "output_type": "stream",
     "text": [
      "RMSE: nan\n",
      "MAE:  nan\n",
      "nan nan\n"
     ]
    }
   ],
   "source": [
    "rmse = accuracy.rmse(svd_predictions)\n",
    "mae = accuracy.mae(svd_predictions)\n",
    "                     \n",
    "print(rmse, mae)"
   ]
  },
  {
   "cell_type": "code",
   "execution_count": 18,
   "id": "c83b69b6-926f-4735-a786-68d1880bb713",
   "metadata": {},
   "outputs": [
    {
     "data": {
      "text/plain": [
       "[Prediction(uid=3, iid=899851, r_ui=0.5520864223681423, est=1, details={'was_impossible': False}),\n",
       " Prediction(uid=4, iid=927898, r_ui=0.005973310739250159, est=1, details={'was_impossible': False}),\n",
       " Prediction(uid=4, iid=940739, r_ui=0.03397585257360729, est=1, details={'was_impossible': False}),\n",
       " Prediction(uid=4, iid=977374, r_ui=0.02410506248676128, est=1, details={'was_impossible': False}),\n",
       " Prediction(uid=5, iid=516404, r_ui=0.13467485702181742, est=1, details={'was_impossible': False}),\n",
       " Prediction(uid=9, iid=743507, r_ui=0.0014403728023723787, est=1, details={'was_impossible': False}),\n",
       " Prediction(uid=9, iid=941603, r_ui=0.26689260749841137, est=1, details={'was_impossible': False}),\n",
       " Prediction(uid=10, iid=640960, r_ui=0.013641177716585469, est=1, details={'was_impossible': False}),\n",
       " Prediction(uid=10, iid=676343, r_ui=0.05422579961872485, est=1, details={'was_impossible': False}),\n",
       " Prediction(uid=11, iid=911621, r_ui=0.14403728023723786, est=1, details={'was_impossible': False})]"
      ]
     },
     "execution_count": 18,
     "metadata": {},
     "output_type": "execute_result"
    }
   ],
   "source": [
    "svd_predictions[:10]"
   ]
  },
  {
   "cell_type": "markdown",
   "id": "5f09dc7e-7c91-4355-860a-b9cfb9f33f15",
   "metadata": {},
   "source": [
    "# Похожие"
   ]
  },
  {
   "cell_type": "markdown",
   "id": "1dfcb683-b440-40a8-9975-894156a53872",
   "metadata": {},
   "source": [
    "Рассчитаем похожие, они позже пригодятся для онлайн-рекомендаций."
   ]
  },
  {
   "cell_type": "code",
   "execution_count": null,
   "id": "a75d07ee-4b12-4ce5-aa85-e45cb7a7a4f0",
   "metadata": {},
   "outputs": [],
   "source": []
  },
  {
   "cell_type": "code",
   "execution_count": null,
   "id": "ce370904-4c49-4152-8706-416074ea9b9a",
   "metadata": {},
   "outputs": [],
   "source": []
  },
  {
   "cell_type": "markdown",
   "id": "0087a3e7-ca9f-42cd-944c-944222c1baef",
   "metadata": {},
   "source": [
    "# Построение признаков"
   ]
  },
  {
   "cell_type": "markdown",
   "id": "e82a32e1-b90b-4eaf-9439-fc8deab9f34b",
   "metadata": {},
   "source": [
    "Построим три признака, можно больше, для ранжирующей модели."
   ]
  },
  {
   "cell_type": "code",
   "execution_count": null,
   "id": "05b4ae84-406a-44a4-abec-4f80f93e3004",
   "metadata": {},
   "outputs": [],
   "source": []
  },
  {
   "cell_type": "code",
   "execution_count": null,
   "id": "00f84c35-f544-4c3d-ad53-9b1d2b684c75",
   "metadata": {},
   "outputs": [],
   "source": []
  },
  {
   "cell_type": "markdown",
   "id": "47bcf88d-b236-46f0-a6f3-38ddd64895fe",
   "metadata": {},
   "source": [
    "# Ранжирование рекомендаций"
   ]
  },
  {
   "cell_type": "markdown",
   "id": "e8cd8223-3418-4493-8c87-1f76286ebda0",
   "metadata": {},
   "source": [
    "Построим ранжирующую модель, чтобы сделать рекомендации более точными. Отранжируем рекомендации."
   ]
  },
  {
   "cell_type": "code",
   "execution_count": null,
   "id": "79f1dd92-32a9-463d-827e-8bb9ee5bbb54",
   "metadata": {},
   "outputs": [],
   "source": []
  },
  {
   "cell_type": "code",
   "execution_count": null,
   "id": "6dbe4db4-1ac5-44da-a13c-8e7f9768ab73",
   "metadata": {},
   "outputs": [],
   "source": []
  },
  {
   "cell_type": "markdown",
   "id": "b3c84071-45b5-4a15-a683-e0ab034a3128",
   "metadata": {},
   "source": [
    "# Оценка качества"
   ]
  },
  {
   "cell_type": "markdown",
   "id": "1b107fe4-554e-42b1-87d9-c435a52bb77a",
   "metadata": {},
   "source": [
    "Проверим оценку качества трёх типов рекомендаций: \n",
    "\n",
    "- топ популярных,\n",
    "- персональных, полученных при помощи ALS,\n",
    "- итоговых\n",
    "  \n",
    "по четырем метрикам: recall, precision, coverage, novelty."
   ]
  },
  {
   "cell_type": "code",
   "execution_count": null,
   "id": "94d6f388-aecb-443e-8647-14014e932d4d",
   "metadata": {},
   "outputs": [],
   "source": []
  },
  {
   "cell_type": "code",
   "execution_count": null,
   "id": "26df411f-14c1-4848-8797-f37afe449cc6",
   "metadata": {},
   "outputs": [],
   "source": []
  },
  {
   "cell_type": "markdown",
   "id": "f1c8d38c-32b0-46a4-96f0-cd01dac708bc",
   "metadata": {},
   "source": [
    "# === Выводы, метрики ==="
   ]
  },
  {
   "cell_type": "markdown",
   "id": "f7d7d5d8-7d1e-4fdf-a6cd-83e5ce92c684",
   "metadata": {},
   "source": [
    "Основные выводы при работе над расчётом рекомендаций, рассчитанные метрики."
   ]
  },
  {
   "cell_type": "code",
   "execution_count": null,
   "id": "6403097d-db36-46d9-8952-613c9bd51b05",
   "metadata": {},
   "outputs": [],
   "source": []
  },
  {
   "cell_type": "code",
   "execution_count": null,
   "id": "986cfdd5-6f2e-4de6-8666-85804c87d04b",
   "metadata": {},
   "outputs": [],
   "source": []
  }
 ],
 "metadata": {
  "kernelspec": {
   "display_name": "Python 3 (ipykernel)",
   "language": "python",
   "name": "python3"
  },
  "language_info": {
   "codemirror_mode": {
    "name": "ipython",
    "version": 3
   },
   "file_extension": ".py",
   "mimetype": "text/x-python",
   "name": "python",
   "nbconvert_exporter": "python",
   "pygments_lexer": "ipython3",
   "version": "3.10.12"
  }
 },
 "nbformat": 4,
 "nbformat_minor": 5
}
