{
 "cells": [
  {
   "cell_type": "markdown",
   "id": "f4095ae4-7294-4b28-853e-88d235002c97",
   "metadata": {},
   "source": [
    "# Инициализация"
   ]
  },
  {
   "cell_type": "markdown",
   "id": "2f2318d2-9df8-4911-915e-15b725c44f8a",
   "metadata": {},
   "source": [
    "Загружаем библиотеки необходимые для выполнения кода ноутбука."
   ]
  },
  {
   "cell_type": "code",
   "execution_count": null,
   "id": "662d04e7-1b0b-4e4a-9ddf-4526d7fef119",
   "metadata": {},
   "outputs": [],
   "source": [
    "import logging\n",
    "\n",
    "import matplotlib.pyplot as plt\n",
    "import numpy as np\n",
    "import pandas as pd"
   ]
  },
  {
   "cell_type": "code",
   "execution_count": 2,
   "id": "4889a76b-cf71-454d-905c-bee1d6e1313d",
   "metadata": {},
   "outputs": [],
   "source": [
    "%matplotlib inline\n",
    "%config InlineBackend.figure_format = 'png'\n",
    "%config InlineBackend.figure_format = 'retina'"
   ]
  },
  {
   "cell_type": "markdown",
   "id": "bf80fbc5-b660-4fac-8fbb-a5cae77313b3",
   "metadata": {},
   "source": [
    "# === ЭТАП 1 ==="
   ]
  },
  {
   "cell_type": "markdown",
   "id": "5263a8b3-fe99-4204-8a2e-105182792c11",
   "metadata": {},
   "source": [
    "# Загрузка первичных данных"
   ]
  },
  {
   "cell_type": "markdown",
   "id": "1b54a6a5-1656-4e3c-99d1-49dc39451d33",
   "metadata": {},
   "source": [
    "Загружаем первичные данные из файлов:\n",
    "- tracks.parquet\n",
    "- catalog_names.parquet\n",
    "- interactions.parquet"
   ]
  },
  {
   "cell_type": "code",
   "execution_count": 8,
   "id": "5d4b8961-3f35-4e58-9d6b-3e2dbd2c4224",
   "metadata": {},
   "outputs": [],
   "source": [
    "tracks = pd.read_parquet(\"tracks.parquet\")"
   ]
  },
  {
   "cell_type": "code",
   "execution_count": 9,
   "id": "3274790e-9b35-43f5-a889-afca11551c2c",
   "metadata": {},
   "outputs": [],
   "source": [
    "catalog_names = pd.read_parquet(\"catalog_names.parquet\")"
   ]
  },
  {
   "cell_type": "code",
   "execution_count": 10,
   "id": "35e0be86-cd23-4510-8012-a8837bb37714",
   "metadata": {},
   "outputs": [],
   "source": [
    "interactions = pd.read_parquet(\"interactions.parquet\")"
   ]
  },
  {
   "cell_type": "markdown",
   "id": "e8f2a1f7-a05f-4f39-af90-5f4018aa6f9d",
   "metadata": {},
   "source": [
    "# Обзор данных"
   ]
  },
  {
   "cell_type": "markdown",
   "id": "46a85307-896c-4fac-9fcf-f0dffa90889e",
   "metadata": {},
   "source": [
    "Проверяем данные, есть ли с ними явные проблемы.\n",
    "* Нужно ли изменить тип идентификаторов?\n",
    "* Есть ли треки с неизвестными исполнителями, альбомами, жанрами?"
   ]
  },
  {
   "cell_type": "markdown",
   "id": "b6fc244d-0271-4857-ab05-fe999d3499e3",
   "metadata": {},
   "source": [
    "### tracks (Данные о треках)\n",
    "* track_id — идентификатор музыкального трека;\n",
    "* albums — список идентификаторов альбомов, содержащих трек;\n",
    "* artists — список идентификаторов исполнителей трека;\n",
    "* genres — список идентификаторов жанров, к которым принадлежит трек."
   ]
  },
  {
   "cell_type": "code",
   "execution_count": 11,
   "id": "b21206a1-650f-4dd3-ab1d-aa7c1834fc4a",
   "metadata": {},
   "outputs": [
    {
     "name": "stdout",
     "output_type": "stream",
     "text": [
      "<class 'pandas.core.frame.DataFrame'>\n",
      "RangeIndex: 1000000 entries, 0 to 999999\n",
      "Data columns (total 4 columns):\n",
      " #   Column    Non-Null Count    Dtype \n",
      "---  ------    --------------    ----- \n",
      " 0   track_id  1000000 non-null  int64 \n",
      " 1   albums    1000000 non-null  object\n",
      " 2   artists   1000000 non-null  object\n",
      " 3   genres    1000000 non-null  object\n",
      "dtypes: int64(1), object(3)\n",
      "memory usage: 30.5+ MB\n"
     ]
    }
   ],
   "source": [
    "tracks.info()"
   ]
  },
  {
   "cell_type": "code",
   "execution_count": 27,
   "id": "a9e222c4-ae62-464c-a888-aaf64780b3f3",
   "metadata": {},
   "outputs": [
    {
     "data": {
      "text/html": [
       "<div>\n",
       "<style scoped>\n",
       "    .dataframe tbody tr th:only-of-type {\n",
       "        vertical-align: middle;\n",
       "    }\n",
       "\n",
       "    .dataframe tbody tr th {\n",
       "        vertical-align: top;\n",
       "    }\n",
       "\n",
       "    .dataframe thead th {\n",
       "        text-align: right;\n",
       "    }\n",
       "</style>\n",
       "<table border=\"1\" class=\"dataframe\">\n",
       "  <thead>\n",
       "    <tr style=\"text-align: right;\">\n",
       "      <th></th>\n",
       "      <th>track_id</th>\n",
       "      <th>albums</th>\n",
       "      <th>artists</th>\n",
       "      <th>genres</th>\n",
       "      <th>n_albums</th>\n",
       "      <th>n_artists</th>\n",
       "      <th>n_genres</th>\n",
       "    </tr>\n",
       "  </thead>\n",
       "  <tbody>\n",
       "    <tr>\n",
       "      <th>160973</th>\n",
       "      <td>4186453</td>\n",
       "      <td>[473481, 1792953, 4998485]</td>\n",
       "      <td>[271058]</td>\n",
       "      <td>[11, 63]</td>\n",
       "      <td>3</td>\n",
       "      <td>1</td>\n",
       "      <td>2</td>\n",
       "    </tr>\n",
       "    <tr>\n",
       "      <th>375001</th>\n",
       "      <td>25242599</td>\n",
       "      <td>[2971720]</td>\n",
       "      <td>[168862]</td>\n",
       "      <td>[3, 75]</td>\n",
       "      <td>1</td>\n",
       "      <td>1</td>\n",
       "      <td>2</td>\n",
       "    </tr>\n",
       "    <tr>\n",
       "      <th>697006</th>\n",
       "      <td>51320702</td>\n",
       "      <td>[7150691]</td>\n",
       "      <td>[4360139]</td>\n",
       "      <td>[12]</td>\n",
       "      <td>1</td>\n",
       "      <td>1</td>\n",
       "      <td>1</td>\n",
       "    </tr>\n",
       "  </tbody>\n",
       "</table>\n",
       "</div>"
      ],
      "text/plain": [
       "        track_id                      albums    artists    genres  n_albums  \\\n",
       "160973   4186453  [473481, 1792953, 4998485]   [271058]  [11, 63]         3   \n",
       "375001  25242599                   [2971720]   [168862]   [3, 75]         1   \n",
       "697006  51320702                   [7150691]  [4360139]      [12]         1   \n",
       "\n",
       "        n_artists  n_genres  \n",
       "160973          1         2  \n",
       "375001          1         2  \n",
       "697006          1         1  "
      ]
     },
     "execution_count": 27,
     "metadata": {},
     "output_type": "execute_result"
    }
   ],
   "source": [
    "tracks.sample(3)"
   ]
  },
  {
   "cell_type": "code",
   "execution_count": 32,
   "id": "33c37fd3-b44b-4edc-847f-5fc6d7429a7a",
   "metadata": {},
   "outputs": [
    {
     "name": "stdout",
     "output_type": "stream",
     "text": [
      "<class 'numpy.ndarray'>\n",
      "<class 'numpy.ndarray'>\n",
      "<class 'numpy.ndarray'>\n"
     ]
    }
   ],
   "source": [
    "# тип массивов\n",
    "print(type(tracks.loc[0, 'albums']))\n",
    "print(type(tracks.loc[0, 'artists']))\n",
    "print(type(tracks.loc[0, 'genres']))"
   ]
  },
  {
   "cell_type": "code",
   "execution_count": 33,
   "id": "13ca91b9-8364-41c4-b414-157e1745f9f2",
   "metadata": {},
   "outputs": [
    {
     "name": "stdout",
     "output_type": "stream",
     "text": [
      "<class 'numpy.int64'>\n",
      "<class 'numpy.int64'>\n",
      "<class 'numpy.int64'>\n"
     ]
    }
   ],
   "source": [
    "# тип элементов массивов\n",
    "print(type(tracks.loc[0, 'albums'][0]))\n",
    "print(type(tracks.loc[0, 'artists'][0]))\n",
    "print(type(tracks.loc[0, 'genres'][0]))"
   ]
  },
  {
   "cell_type": "code",
   "execution_count": 34,
   "id": "4fc6a6e3-c8d9-44a4-a718-c79644797ace",
   "metadata": {},
   "outputs": [],
   "source": [
    "# функция для подсчета количества элементов\n",
    "def len_list(l):\n",
    "    return l.shape[0]"
   ]
  },
  {
   "cell_type": "code",
   "execution_count": 35,
   "id": "1d8daeb0-0cc9-40d6-bfa5-d6d8dfcab8ce",
   "metadata": {},
   "outputs": [],
   "source": [
    "# вычислим длины массивов\n",
    "tracks['n_albums'] = tracks['albums'].apply(len_list)\n",
    "tracks['n_artists'] = tracks['artists'].apply(len_list)\n",
    "tracks['n_genres'] = tracks['genres'].apply(len_list)"
   ]
  },
  {
   "cell_type": "code",
   "execution_count": 37,
   "id": "d49b5989-70b7-4131-acc4-80bac574350b",
   "metadata": {},
   "outputs": [
    {
     "name": "stdout",
     "output_type": "stream",
     "text": [
      "Кол-во записей нулевой длины в поле albums: 18\n",
      "Кол-во записей нулевой длины в поле artists: 15369\n",
      "Кол-во записей нулевой длины в поле genres: 3687\n"
     ]
    }
   ],
   "source": [
    "print('Кол-во записей нулевой длины в поле albums:', tracks[tracks['n_albums']==0]['track_id'].count())\n",
    "print('Кол-во записей нулевой длины в поле artists:', tracks[tracks['n_artists']==0]['track_id'].count())\n",
    "print('Кол-во записей нулевой длины в поле genres:', tracks[tracks['n_genres']==0]['track_id'].count())"
   ]
  },
  {
   "cell_type": "code",
   "execution_count": 39,
   "id": "09eb3311-e68e-4fe3-af3c-8d734d90351e",
   "metadata": {},
   "outputs": [],
   "source": [
    "tracks = tracks.query('n_albums > 0 and n_artists > 0 and n_genres > 0').reset_index(drop=True)"
   ]
  },
  {
   "cell_type": "code",
   "execution_count": 40,
   "id": "afc70633-c46b-4f3b-8e06-2e3659d236f1",
   "metadata": {},
   "outputs": [
    {
     "name": "stdout",
     "output_type": "stream",
     "text": [
      "<class 'pandas.core.frame.DataFrame'>\n",
      "RangeIndex: 980977 entries, 0 to 980976\n",
      "Data columns (total 7 columns):\n",
      " #   Column     Non-Null Count   Dtype \n",
      "---  ------     --------------   ----- \n",
      " 0   track_id   980977 non-null  int64 \n",
      " 1   albums     980977 non-null  object\n",
      " 2   artists    980977 non-null  object\n",
      " 3   genres     980977 non-null  object\n",
      " 4   n_albums   980977 non-null  int64 \n",
      " 5   n_artists  980977 non-null  int64 \n",
      " 6   n_genres   980977 non-null  int64 \n",
      "dtypes: int64(4), object(3)\n",
      "memory usage: 52.4+ MB\n"
     ]
    }
   ],
   "source": [
    "tracks.info()"
   ]
  },
  {
   "cell_type": "code",
   "execution_count": 41,
   "id": "91e5424a-a7fb-4ec1-aa75-199922afbb33",
   "metadata": {},
   "outputs": [
    {
     "name": "stdout",
     "output_type": "stream",
     "text": [
      "Доля удаленных записей: 1.9%\n"
     ]
    }
   ],
   "source": [
    "print(f'Доля удаленных записей: {np.round(100 * (1000000 - 980977) / 1000000, 2)}%')"
   ]
  },
  {
   "cell_type": "markdown",
   "id": "1571a86e-6cd2-450e-96cf-e0927e76eba9",
   "metadata": {},
   "source": [
    "Проблемв в tracks присутствуют:\n",
    "* пропусков нет, но есть записи с нулевым количеством элементов (самое большое их количество в поле artists - но это всего-лишь 1,9% от общего их числа и лучше удалить такие треки из рекомендательной базы чтобы улучшить ее качество;\n",
    "* типы корректные."
   ]
  },
  {
   "cell_type": "markdown",
   "id": "3e51bfcc-4c09-40e3-8f04-7cd35abc1ada",
   "metadata": {},
   "source": [
    "### catalog_names (Имена артистов, названия альбомов, треков и жанров )\n",
    "* id — идентификатор одной из каталожных единиц (трека, альбома, исполнителя, жанра);\n",
    "* type — тип идентификатора;\n",
    "* name — имя (название) каталожной единицы."
   ]
  },
  {
   "cell_type": "code",
   "execution_count": 13,
   "id": "c9f8f17e-9b56-4f5a-a463-f694a993effb",
   "metadata": {},
   "outputs": [
    {
     "name": "stdout",
     "output_type": "stream",
     "text": [
      "<class 'pandas.core.frame.DataFrame'>\n",
      "RangeIndex: 1812471 entries, 0 to 1812470\n",
      "Data columns (total 3 columns):\n",
      " #   Column  Dtype \n",
      "---  ------  ----- \n",
      " 0   id      int64 \n",
      " 1   type    object\n",
      " 2   name    object\n",
      "dtypes: int64(1), object(2)\n",
      "memory usage: 41.5+ MB\n"
     ]
    }
   ],
   "source": [
    "catalog_names.info()"
   ]
  },
  {
   "cell_type": "code",
   "execution_count": 14,
   "id": "62e9b6ba-41bd-4d9b-aba2-d642d5acba87",
   "metadata": {},
   "outputs": [
    {
     "data": {
      "text/html": [
       "<div>\n",
       "<style scoped>\n",
       "    .dataframe tbody tr th:only-of-type {\n",
       "        vertical-align: middle;\n",
       "    }\n",
       "\n",
       "    .dataframe tbody tr th {\n",
       "        vertical-align: top;\n",
       "    }\n",
       "\n",
       "    .dataframe thead th {\n",
       "        text-align: right;\n",
       "    }\n",
       "</style>\n",
       "<table border=\"1\" class=\"dataframe\">\n",
       "  <thead>\n",
       "    <tr style=\"text-align: right;\">\n",
       "      <th></th>\n",
       "      <th>id</th>\n",
       "      <th>type</th>\n",
       "      <th>name</th>\n",
       "    </tr>\n",
       "  </thead>\n",
       "  <tbody>\n",
       "    <tr>\n",
       "      <th>40464</th>\n",
       "      <td>144527</td>\n",
       "      <td>album</td>\n",
       "      <td>Habia Una Vez Un Circo</td>\n",
       "    </tr>\n",
       "    <tr>\n",
       "      <th>352728</th>\n",
       "      <td>6036266</td>\n",
       "      <td>album</td>\n",
       "      <td>Boogie Angst Edition Two</td>\n",
       "    </tr>\n",
       "    <tr>\n",
       "      <th>1024200</th>\n",
       "      <td>9303819</td>\n",
       "      <td>track</td>\n",
       "      <td>After the Lights Go Down Low</td>\n",
       "    </tr>\n",
       "  </tbody>\n",
       "</table>\n",
       "</div>"
      ],
      "text/plain": [
       "              id   type                          name\n",
       "40464     144527  album        Habia Una Vez Un Circo\n",
       "352728   6036266  album      Boogie Angst Edition Two\n",
       "1024200  9303819  track  After the Lights Go Down Low"
      ]
     },
     "execution_count": 14,
     "metadata": {},
     "output_type": "execute_result"
    }
   ],
   "source": [
    "catalog_names.sample(3)"
   ]
  },
  {
   "cell_type": "code",
   "execution_count": 78,
   "id": "e7af3c6f-ec65-4421-8172-77c04d11296e",
   "metadata": {},
   "outputs": [
    {
     "data": {
      "text/plain": [
       "array(['album', 'artist', 'genre', 'track'], dtype=object)"
      ]
     },
     "execution_count": 78,
     "metadata": {},
     "output_type": "execute_result"
    }
   ],
   "source": [
    "\n",
    "catalog_names['type'].unique()"
   ]
  },
  {
   "cell_type": "code",
   "execution_count": 43,
   "id": "49044ca3-0dc8-4f84-8d5b-b037abb0dd51",
   "metadata": {},
   "outputs": [
    {
     "name": "stdout",
     "output_type": "stream",
     "text": [
      "Кол-во пропусков в поле albums: 0\n",
      "Кол-во пропусков в поле type: 0\n",
      "Кол-во пропусков в поле name: 0\n"
     ]
    }
   ],
   "source": [
    "# почему-то тут не выдается информация о количестве записей, проверим по-другому\n",
    "print('Кол-во пропусков в поле albums:', np.sum(catalog_names['id'].isnull()))\n",
    "print('Кол-во пропусков в поле type:', np.sum(catalog_names['type'].isnull()))\n",
    "print('Кол-во пропусков в поле name:', np.sum(catalog_names['name'].isnull()))"
   ]
  },
  {
   "cell_type": "code",
   "execution_count": 52,
   "id": "c5009cc9-cced-4a86-8120-849b6b570d22",
   "metadata": {},
   "outputs": [
    {
     "name": "stdout",
     "output_type": "stream",
     "text": [
      "Кол-во нулей в поле id: 1\n",
      "Кол-во пустых записей в поле track_id: 0\n",
      "Кол-во пустых записей в поле track_seq: 0\n"
     ]
    }
   ],
   "source": [
    "print('Кол-во нулей в поле id:', catalog_names[catalog_names['id']==0]['id'].count())\n",
    "print('Кол-во пустых записей в поле track_id:', catalog_names[catalog_names['type']=='']['id'].count())\n",
    "print('Кол-во пустых записей в поле track_seq:', catalog_names[catalog_names['name']=='']['id'].count())"
   ]
  },
  {
   "cell_type": "code",
   "execution_count": 53,
   "id": "eca4e74b-282a-43c2-990c-f253c6adc9b8",
   "metadata": {},
   "outputs": [],
   "source": [
    "# скореее всего, ноль в в поле id корректный, т.к. он всего один"
   ]
  },
  {
   "cell_type": "markdown",
   "id": "5c0e83d3-cc87-4b50-8522-55cb9cd145cb",
   "metadata": {},
   "source": [
    "Проблемв в catalog_names отсутствуют:\n",
    "* пропусков нет;\n",
    "* типы корректные."
   ]
  },
  {
   "cell_type": "markdown",
   "id": "3e0a8a9e-c721-4bc9-bde8-438cdc7c0521",
   "metadata": {},
   "source": [
    "### interactions (Данные о том, какие пользователи прослушали тот или иной трек)\n",
    "* user_id — идентификатор пользователя,\n",
    "* track_id — идентификатор музыкального трека,\n",
    "* track_seq — номер места трека в истории пользователя,\n",
    "* started_at — дата начала прослушивания трека."
   ]
  },
  {
   "cell_type": "code",
   "execution_count": 15,
   "id": "87f37da7-fc7e-4935-b3c2-13de9bdaed5f",
   "metadata": {},
   "outputs": [
    {
     "name": "stdout",
     "output_type": "stream",
     "text": [
      "<class 'pandas.core.frame.DataFrame'>\n",
      "Index: 222629898 entries, 0 to 291\n",
      "Data columns (total 4 columns):\n",
      " #   Column      Dtype         \n",
      "---  ------      -----         \n",
      " 0   user_id     int32         \n",
      " 1   track_id    int32         \n",
      " 2   track_seq   int16         \n",
      " 3   started_at  datetime64[ns]\n",
      "dtypes: datetime64[ns](1), int16(1), int32(2)\n",
      "memory usage: 5.4 GB\n"
     ]
    }
   ],
   "source": [
    "interactions.info()"
   ]
  },
  {
   "cell_type": "code",
   "execution_count": 16,
   "id": "efd2e2eb-3bec-4ce1-87ac-232bab8bc0d0",
   "metadata": {},
   "outputs": [
    {
     "data": {
      "text/html": [
       "<div>\n",
       "<style scoped>\n",
       "    .dataframe tbody tr th:only-of-type {\n",
       "        vertical-align: middle;\n",
       "    }\n",
       "\n",
       "    .dataframe tbody tr th {\n",
       "        vertical-align: top;\n",
       "    }\n",
       "\n",
       "    .dataframe thead th {\n",
       "        text-align: right;\n",
       "    }\n",
       "</style>\n",
       "<table border=\"1\" class=\"dataframe\">\n",
       "  <thead>\n",
       "    <tr style=\"text-align: right;\">\n",
       "      <th></th>\n",
       "      <th>user_id</th>\n",
       "      <th>track_id</th>\n",
       "      <th>track_seq</th>\n",
       "      <th>started_at</th>\n",
       "    </tr>\n",
       "  </thead>\n",
       "  <tbody>\n",
       "    <tr>\n",
       "      <th>971</th>\n",
       "      <td>1124344</td>\n",
       "      <td>49199931</td>\n",
       "      <td>972</td>\n",
       "      <td>2022-09-22</td>\n",
       "    </tr>\n",
       "    <tr>\n",
       "      <th>427</th>\n",
       "      <td>1038064</td>\n",
       "      <td>59345751</td>\n",
       "      <td>428</td>\n",
       "      <td>2022-09-26</td>\n",
       "    </tr>\n",
       "    <tr>\n",
       "      <th>41</th>\n",
       "      <td>189768</td>\n",
       "      <td>150001</td>\n",
       "      <td>42</td>\n",
       "      <td>2022-07-19</td>\n",
       "    </tr>\n",
       "  </tbody>\n",
       "</table>\n",
       "</div>"
      ],
      "text/plain": [
       "     user_id  track_id  track_seq started_at\n",
       "971  1124344  49199931        972 2022-09-22\n",
       "427  1038064  59345751        428 2022-09-26\n",
       "41    189768    150001         42 2022-07-19"
      ]
     },
     "execution_count": 16,
     "metadata": {},
     "output_type": "execute_result"
    }
   ],
   "source": [
    "interactions.sample(3)"
   ]
  },
  {
   "cell_type": "code",
   "execution_count": 44,
   "id": "ea17e212-be66-4e9f-82f1-dda68f6bfbb0",
   "metadata": {},
   "outputs": [
    {
     "name": "stdout",
     "output_type": "stream",
     "text": [
      "Кол-во пропусков в поле user_id: 0\n",
      "Кол-во пропусков в поле track_id: 0\n",
      "Кол-во пропусков в поле track_seq: 0\n",
      "Кол-во пропусков в поле started_at: 0\n"
     ]
    }
   ],
   "source": [
    "# почему-то тут не выдается информация о количестве записей, проверим по-другому\n",
    "print('Кол-во пропусков в поле user_id:', np.sum(interactions['user_id'].isnull()))\n",
    "print('Кол-во пропусков в поле track_id:', np.sum(interactions['track_id'].isnull()))\n",
    "print('Кол-во пропусков в поле track_seq:', np.sum(interactions['track_seq'].isnull()))\n",
    "print('Кол-во пропусков в поле started_at:', np.sum(interactions['started_at'].isnull()))"
   ]
  },
  {
   "cell_type": "code",
   "execution_count": 46,
   "id": "f7feb3e0-bb3b-41bf-8e83-66557eb140c2",
   "metadata": {},
   "outputs": [
    {
     "name": "stdout",
     "output_type": "stream",
     "text": [
      "Кол-во нулей в поле user_id: 26\n",
      "Кол-во нулей в поле track_id: 0\n",
      "Кол-во нулей в поле track_seq: 0\n",
      "Кол-во нулей в поле started_at: 0\n"
     ]
    }
   ],
   "source": [
    "print('Кол-во нулей в поле user_id:', interactions[interactions['user_id']==0]['user_id'].count())\n",
    "print('Кол-во нулей в поле track_id:', interactions[interactions['track_id']==0]['user_id'].count())\n",
    "print('Кол-во нулей в поле track_seq:', interactions[interactions['track_seq']==0]['user_id'].count())\n",
    "print('Кол-во нулей в поле started_at:', interactions[interactions['started_at']==0]['user_id'].count())"
   ]
  },
  {
   "cell_type": "markdown",
   "id": "95ebe1c9-6639-430d-85a5-a926fa48015d",
   "metadata": {},
   "source": [
    "Проблемв в interactions присутствуют:\n",
    "* пропусков нет, но есть нули в поле user_id - видимо, пропуски были заполнены нулями;\n",
    "* индексы повторялись;\n",
    "* типы корректные."
   ]
  },
  {
   "cell_type": "code",
   "execution_count": 47,
   "id": "c43a4835-c42b-4a3a-af1a-cdefb28c2487",
   "metadata": {},
   "outputs": [],
   "source": [
    "interactions = interactions.query('user_id != 0').reset_index(drop=True)"
   ]
  },
  {
   "cell_type": "code",
   "execution_count": 48,
   "id": "5abd2bf4-56ed-4a79-b57a-d67f34dafd1e",
   "metadata": {},
   "outputs": [
    {
     "name": "stdout",
     "output_type": "stream",
     "text": [
      "<class 'pandas.core.frame.DataFrame'>\n",
      "RangeIndex: 222629872 entries, 0 to 222629871\n",
      "Data columns (total 4 columns):\n",
      " #   Column      Dtype         \n",
      "---  ------      -----         \n",
      " 0   user_id     int32         \n",
      " 1   track_id    int32         \n",
      " 2   track_seq   int16         \n",
      " 3   started_at  datetime64[ns]\n",
      "dtypes: datetime64[ns](1), int16(1), int32(2)\n",
      "memory usage: 3.7 GB\n"
     ]
    }
   ],
   "source": [
    "interactions.info()"
   ]
  },
  {
   "cell_type": "code",
   "execution_count": 51,
   "id": "33343b18-a075-42c1-a5ef-13fdd9093c3a",
   "metadata": {},
   "outputs": [
    {
     "name": "stdout",
     "output_type": "stream",
     "text": [
      "Доля удаленных записей: 1.2e-05%\n"
     ]
    }
   ],
   "source": [
    "print(f'Доля удаленных записей: {np.round(100 * (222629898 - 222629872) / 222629898, 6)}%')"
   ]
  },
  {
   "cell_type": "markdown",
   "id": "318b573a-9e2d-4808-95db-60cfb8bbdb73",
   "metadata": {
    "editable": true,
    "slideshow": {
     "slide_type": ""
    },
    "tags": []
   },
   "source": [
    "# Выводы"
   ]
  },
  {
   "cell_type": "markdown",
   "id": "caa96e12-36a8-4401-8f11-98627a49ae9d",
   "metadata": {},
   "source": [
    "Приведём выводы по первому знакомству с данными:\n",
    "- есть ли с данными явные проблемы,\n",
    "- какие корректирующие действия (в целом) были предприняты."
   ]
  },
  {
   "cell_type": "markdown",
   "id": "025444fa-bbb8-4ec4-93ff-7a4ca0b2aad7",
   "metadata": {},
   "source": [
    "* Типы идентификаторов корректные, в замене не нуждаются.\n",
    "* Треки с отсутствующими записями были удалены.\n",
    "* Записи о взаимодействиях с нулевыми идентификаторами пользовтаелей были удалены."
   ]
  },
  {
   "cell_type": "markdown",
   "id": "7bc3296b-eba6-4333-a78d-b9304aa87e3d",
   "metadata": {},
   "source": [
    "# === ЭТАП 2 ==="
   ]
  },
  {
   "cell_type": "markdown",
   "id": "68e73960-fd38-4e15-8db0-9a25c35dfd25",
   "metadata": {},
   "source": [
    "# EDA"
   ]
  },
  {
   "cell_type": "markdown",
   "id": "a30e823e-8e0f-4a76-a02e-8d1ba8bf0f8a",
   "metadata": {},
   "source": [
    "### Распределение количества прослушанных треков."
   ]
  },
  {
   "cell_type": "code",
   "execution_count": 60,
   "id": "5445631c-3457-4d56-ad7c-0e9896f9ad6e",
   "metadata": {},
   "outputs": [
    {
     "data": {
      "text/plain": [
       "<Axes: >"
      ]
     },
     "execution_count": 60,
     "metadata": {},
     "output_type": "execute_result"
    },
    {
     "data": {
      "image/png": "[encoded data removed]",
      "text/plain": [
       "<Figure size 1200x600 with 1 Axes>"
      ]
     },
     "metadata": {
      "image/png": {
       "height": 520,
       "width": 981
      }
     },
     "output_type": "display_data"
    }
   ],
   "source": [
    "# трактую как - прослушанных треков каждым пользователем\n",
    "interactions.groupby(\"user_id\").agg(num=(\"track_id\", \"count\"))['num'].hist(bins=100, figsize=(12, 6))"
   ]
  },
  {
   "cell_type": "code",
   "execution_count": 63,
   "id": "22946f3a-debb-4668-b738-a7e6fd554fcb",
   "metadata": {},
   "outputs": [
    {
     "data": {
      "text/plain": [
       "<Axes: >"
      ]
     },
     "execution_count": 63,
     "metadata": {},
     "output_type": "execute_result"
    },
    {
     "data": {
      "image/png": "[encoded data removed]",
      "text/plain": [
       "<Figure size 1200x600 with 1 Axes>"
      ]
     },
     "metadata": {
      "image/png": {
       "height": 505,
       "width": 1012
      }
     },
     "output_type": "display_data"
    }
   ],
   "source": [
    "# видно, что основная часть распределения сосредоточена до 1000 - посмотрим боле побробно\n",
    "interactions.groupby(\"user_id\").agg(num=(\"track_id\", \"count\")).query('num < 1000')['num'].hist(bins=100, figsize=(12, 6))"
   ]
  },
  {
   "cell_type": "code",
   "execution_count": 64,
   "id": "2e490573-a51e-4766-a446-a6d24606c310",
   "metadata": {},
   "outputs": [],
   "source": [
    "# т.е. в основном пользователи слушают одно и то же "
   ]
  },
  {
   "cell_type": "markdown",
   "id": "d765519a-18dd-4d30-9e29-cc2d84cacd79",
   "metadata": {},
   "source": [
    "### Наиболее популярные треки"
   ]
  },
  {
   "cell_type": "code",
   "execution_count": 67,
   "id": "aecaf630-fde0-4860-b84a-42c933a9606e",
   "metadata": {},
   "outputs": [],
   "source": [
    "popular_tracks = interactions.groupby(\"track_id\").agg(nunique=(\"user_id\", \"nunique\"))"
   ]
  },
  {
   "cell_type": "code",
   "execution_count": 72,
   "id": "e6acf512-7564-4b6a-aa1a-5ec1d50abb5b",
   "metadata": {},
   "outputs": [],
   "source": [
    "popular_tracks = popular_tracks.sort_values(by='nunique', ascending=False)"
   ]
  },
  {
   "cell_type": "code",
   "execution_count": 79,
   "id": "37afd088-62bc-4f95-ab4a-cff1d278cc87",
   "metadata": {},
   "outputs": [],
   "source": [
    "top_10_popular_tracks = popular_tracks[:10]"
   ]
  },
  {
   "cell_type": "code",
   "execution_count": 80,
   "id": "17e43e5e-9e0d-4ff3-8192-523e084b96f1",
   "metadata": {},
   "outputs": [],
   "source": [
    "top_10_popular_tracks = top_10_popular_tracks.merge(tracks.drop(['n_albums', 'n_artists', 'n_genres'], axis=1), on='track_id', how='left')"
   ]
  },
  {
   "cell_type": "code",
   "execution_count": 81,
   "id": "e19d2a64-b509-45a6-bd54-fe8b8f01ec46",
   "metadata": {},
   "outputs": [
    {
     "data": {
      "text/html": [
       "<div>\n",
       "<style scoped>\n",
       "    .dataframe tbody tr th:only-of-type {\n",
       "        vertical-align: middle;\n",
       "    }\n",
       "\n",
       "    .dataframe tbody tr th {\n",
       "        vertical-align: top;\n",
       "    }\n",
       "\n",
       "    .dataframe thead th {\n",
       "        text-align: right;\n",
       "    }\n",
       "</style>\n",
       "<table border=\"1\" class=\"dataframe\">\n",
       "  <thead>\n",
       "    <tr style=\"text-align: right;\">\n",
       "      <th></th>\n",
       "      <th>track_id</th>\n",
       "      <th>nunique</th>\n",
       "      <th>albums</th>\n",
       "      <th>artists</th>\n",
       "      <th>genres</th>\n",
       "    </tr>\n",
       "  </thead>\n",
       "  <tbody>\n",
       "    <tr>\n",
       "      <th>0</th>\n",
       "      <td>53404</td>\n",
       "      <td>111062</td>\n",
       "      <td>[4367, 89708, 294911, 294912, 294914, 297393, ...</td>\n",
       "      <td>[9262]</td>\n",
       "      <td>[13, 14, 102]</td>\n",
       "    </tr>\n",
       "    <tr>\n",
       "      <th>1</th>\n",
       "      <td>33311009</td>\n",
       "      <td>106921</td>\n",
       "      <td>[4440454, 4456609, 4482682, 4882996, 5072976, ...</td>\n",
       "      <td>[675068]</td>\n",
       "      <td>[14, 102]</td>\n",
       "    </tr>\n",
       "    <tr>\n",
       "      <th>2</th>\n",
       "      <td>178529</td>\n",
       "      <td>101924</td>\n",
       "      <td>[18113, 21924, 21940, 488052, 10009799]</td>\n",
       "      <td>[36800]</td>\n",
       "      <td>[41, 47]</td>\n",
       "    </tr>\n",
       "    <tr>\n",
       "      <th>3</th>\n",
       "      <td>35505245</td>\n",
       "      <td>99490</td>\n",
       "      <td>[4431303, 20559909]</td>\n",
       "      <td>[4611844, 588511]</td>\n",
       "      <td>[3, 75]</td>\n",
       "    </tr>\n",
       "    <tr>\n",
       "      <th>4</th>\n",
       "      <td>65851540</td>\n",
       "      <td>86670</td>\n",
       "      <td>[10692414]</td>\n",
       "      <td>[1554548]</td>\n",
       "      <td>[11, 20]</td>\n",
       "    </tr>\n",
       "    <tr>\n",
       "      <th>5</th>\n",
       "      <td>24692821</td>\n",
       "      <td>86246</td>\n",
       "      <td>[2888516, 3523463, 3530199, 4333848, 4420934, ...</td>\n",
       "      <td>[1194096]</td>\n",
       "      <td>[70]</td>\n",
       "    </tr>\n",
       "    <tr>\n",
       "      <th>6</th>\n",
       "      <td>32947997</td>\n",
       "      <td>85886</td>\n",
       "      <td>[4019560, 4172930, 4172931, 5614201, 5933975]</td>\n",
       "      <td>[381067]</td>\n",
       "      <td>[11]</td>\n",
       "    </tr>\n",
       "    <tr>\n",
       "      <th>7</th>\n",
       "      <td>51241318</td>\n",
       "      <td>85244</td>\n",
       "      <td>[5239478, 13040087, 13131618, 15177310, 154524...</td>\n",
       "      <td>[1802873, 3135644, 9012818]</td>\n",
       "      <td>[74]</td>\n",
       "    </tr>\n",
       "    <tr>\n",
       "      <th>8</th>\n",
       "      <td>795836</td>\n",
       "      <td>85042</td>\n",
       "      <td>[88770, 296297, 297576, 302579, 303469, 558376...</td>\n",
       "      <td>[680]</td>\n",
       "      <td>[11, 14, 102]</td>\n",
       "    </tr>\n",
       "    <tr>\n",
       "      <th>9</th>\n",
       "      <td>45499814</td>\n",
       "      <td>84748</td>\n",
       "      <td>[6109461, 7094821, 7152451, 7170954, 7285586, ...</td>\n",
       "      <td>[5007577]</td>\n",
       "      <td>[11, 20]</td>\n",
       "    </tr>\n",
       "  </tbody>\n",
       "</table>\n",
       "</div>"
      ],
      "text/plain": [
       "   track_id  nunique                                             albums  \\\n",
       "0     53404   111062  [4367, 89708, 294911, 294912, 294914, 297393, ...   \n",
       "1  33311009   106921  [4440454, 4456609, 4482682, 4882996, 5072976, ...   \n",
       "2    178529   101924            [18113, 21924, 21940, 488052, 10009799]   \n",
       "3  35505245    99490                                [4431303, 20559909]   \n",
       "4  65851540    86670                                         [10692414]   \n",
       "5  24692821    86246  [2888516, 3523463, 3530199, 4333848, 4420934, ...   \n",
       "6  32947997    85886      [4019560, 4172930, 4172931, 5614201, 5933975]   \n",
       "7  51241318    85244  [5239478, 13040087, 13131618, 15177310, 154524...   \n",
       "8    795836    85042  [88770, 296297, 297576, 302579, 303469, 558376...   \n",
       "9  45499814    84748  [6109461, 7094821, 7152451, 7170954, 7285586, ...   \n",
       "\n",
       "                       artists         genres  \n",
       "0                       [9262]  [13, 14, 102]  \n",
       "1                     [675068]      [14, 102]  \n",
       "2                      [36800]       [41, 47]  \n",
       "3            [4611844, 588511]        [3, 75]  \n",
       "4                    [1554548]       [11, 20]  \n",
       "5                    [1194096]           [70]  \n",
       "6                     [381067]           [11]  \n",
       "7  [1802873, 3135644, 9012818]           [74]  \n",
       "8                        [680]  [11, 14, 102]  \n",
       "9                    [5007577]       [11, 20]  "
      ]
     },
     "execution_count": 81,
     "metadata": {},
     "output_type": "execute_result"
    }
   ],
   "source": [
    "# TOP-10 популярных трэков\n",
    "top_10_popular_tracks"
   ]
  },
  {
   "cell_type": "code",
   "execution_count": 97,
   "id": "6c05c3b8-1433-443a-96d3-2b3ce65a6054",
   "metadata": {},
   "outputs": [
    {
     "name": "stdout",
     "output_type": "stream",
     "text": [
      "Информация по треку на месте N-1 в TOP-10:\n",
      "-- Трэк: Smells Like Teen Spirit\n",
      "-- Исполнители: Nirvana\n",
      "-- Жанры: alternative, rock, allrock\n",
      "\n",
      "Информация по треку на месте N-2 в TOP-10:\n",
      "-- Трэк: Believer\n",
      "-- Исполнители: Imagine Dragons\n",
      "-- Жанры: rock, allrock\n",
      "\n",
      "Информация по треку на месте N-3 в TOP-10:\n",
      "-- Трэк: Numb\n",
      "-- Исполнители: Linkin Park\n",
      "-- Жанры: numetal, metal\n",
      "\n",
      "Информация по треку на месте N-4 в TOP-10:\n",
      "-- Трэк: I Got Love\n",
      "-- Исполнители: Miyagi & Эндшпиль, Рем Дигга\n",
      "-- Жанры: rusrap, rap\n",
      "\n",
      "Информация по треку на месте N-5 в TOP-10:\n",
      "-- Трэк: Юность\n",
      "-- Исполнители: Dabro\n",
      "-- Жанры: pop, ruspop\n",
      "\n",
      "Информация по треку на месте N-6 в TOP-10:\n",
      "-- Трэк: Way Down We Go\n",
      "-- Исполнители: KALEO\n",
      "-- Жанры: indie\n",
      "\n",
      "Информация по треку на месте N-7 в TOP-10:\n",
      "-- Трэк: Shape of You\n",
      "-- Исполнители: Ed Sheeran\n",
      "-- Жанры: pop\n",
      "\n",
      "Информация по треку на месте N-8 в TOP-10:\n",
      "-- Трэк: In The End\n",
      "-- Исполнители: Tommee Profitt, Fleurie, Mellen Gi\n",
      "-- Жанры: rnb\n",
      "\n",
      "Информация по треку на месте N-9 в TOP-10:\n",
      "-- Трэк: Shape Of My Heart\n",
      "-- Исполнители: Sting\n",
      "-- Жанры: pop, rock, allrock\n",
      "\n",
      "Информация по треку на месте N-10 в TOP-10:\n",
      "-- Трэк: Life\n",
      "-- Исполнители: Zivert\n",
      "-- Жанры: pop, ruspop\n",
      "\n"
     ]
    }
   ],
   "source": [
    "for i in range(top_10_popular_tracks.shape[0]):\n",
    "    print(f'Информация по треку на месте N-{i+1} в TOP-10:')\n",
    "    track_id = top_10_popular_tracks.loc[i, 'track_id']\n",
    "    print('-- Трэк:', catalog_names.query('id==@track_id and type==\"track\"')['name'].tolist()[0])\n",
    "    \n",
    "    artists = top_10_popular_tracks.loc[i, 'artists']\n",
    "    artists_list = []\n",
    "    for artist in artists:\n",
    "        artists_list.append(catalog_names.query('id==@artist and type==\"artist\"')['name'].tolist()[0])\n",
    "    print('-- Исполнители:', ', '.join(artists_list))\n",
    "\n",
    "    genres = top_10_popular_tracks.loc[i, 'genres']\n",
    "    genres_list = []\n",
    "    for genre in genres:\n",
    "        genres_list.append(catalog_names.query('id==@genre and type==\"genre\"')['name'].tolist()[0])\n",
    "    print('-- Жанры:', ', '.join(genres_list))\n",
    "    \n",
    "    print('')    "
   ]
  },
  {
   "cell_type": "markdown",
   "id": "b1c32a5a-d3be-4f96-8dd9-f7860951020c",
   "metadata": {},
   "source": [
    "### Наиболее популярные жанры"
   ]
  },
  {
   "cell_type": "code",
   "execution_count": null,
   "id": "1bc50491-9235-4d3c-a6c2-297f7c05a959",
   "metadata": {},
   "outputs": [],
   "source": [
    "# снчала для удобства сделаем отдельный каталог жанров\n",
    "genres_df = catalog_names[catalog_names['type']=='genre'].reset_index(drop=True)"
   ]
  },
  {
   "cell_type": "code",
   "execution_count": null,
   "id": "c614326d-9808-485c-b29e-04ae8944402a",
   "metadata": {},
   "outputs": [],
   "source": [
    "genres_df.info()"
   ]
  },
  {
   "cell_type": "markdown",
   "id": "15254e66-e80e-473b-ba24-abebea5ccac7",
   "metadata": {},
   "source": [
    "### Треки, которые никто не прослушал"
   ]
  },
  {
   "cell_type": "code",
   "execution_count": null,
   "id": "50bc50c6-2d83-4c7e-97fa-3e7627978438",
   "metadata": {},
   "outputs": [],
   "source": []
  },
  {
   "cell_type": "code",
   "execution_count": null,
   "id": "073f73d2-f036-4c23-ab19-9c899b8f5f2f",
   "metadata": {},
   "outputs": [],
   "source": []
  },
  {
   "cell_type": "markdown",
   "id": "0d850a07-ef1e-462f-891a-1cf89f2e24ef",
   "metadata": {},
   "source": [
    "# Преобразование данных"
   ]
  },
  {
   "cell_type": "markdown",
   "id": "fabcf8d2-1192-4df5-b20b-fbb84689f57a",
   "metadata": {},
   "source": [
    "Преобразуем данные в формат, более пригодный для дальнейшего использования в расчётах рекомендаций."
   ]
  },
  {
   "cell_type": "code",
   "execution_count": null,
   "id": "a425556a-9382-45ca-a04e-f1981a522126",
   "metadata": {},
   "outputs": [],
   "source": []
  },
  {
   "cell_type": "markdown",
   "id": "4d1be653-eed8-4fa0-a9c5-3811b080d71d",
   "metadata": {},
   "source": [
    "# Сохранение данных"
   ]
  },
  {
   "cell_type": "markdown",
   "id": "36f1314a-3af3-4faf-a0b1-3045173d1500",
   "metadata": {},
   "source": [
    "Сохраним данные в двух файлах в персональном S3-бакете по пути `recsys/data/`:\n",
    "- `items.parquet` — все данные о музыкальных треках,\n",
    "- `events.parquet` — все данные о взаимодействиях."
   ]
  },
  {
   "cell_type": "code",
   "execution_count": null,
   "id": "9f77af17-7705-4fae-9aad-db579b39faad",
   "metadata": {},
   "outputs": [],
   "source": []
  },
  {
   "cell_type": "markdown",
   "id": "72ecbbed-c560-44d9-9c14-86c7dc76f399",
   "metadata": {},
   "source": [
    "# Очистка памяти"
   ]
  },
  {
   "cell_type": "markdown",
   "id": "b5358ede-ba6e-4c4f-bd73-5b9344f0ba79",
   "metadata": {},
   "source": [
    "Здесь, может понадобится очистка памяти для высвобождения ресурсов для выполнения кода ниже. \n",
    "\n",
    "Приведите соответствующие код, комментарии, например:\n",
    "- код для удаление более ненужных переменных,\n",
    "- комментарий, что следует перезапустить kernel, выполнить такие-то начальные секции и продолжить с этапа 3."
   ]
  },
  {
   "cell_type": "code",
   "execution_count": null,
   "id": "767fe920-e12e-4ad8-b04e-56e8091fac9f",
   "metadata": {},
   "outputs": [],
   "source": []
  },
  {
   "cell_type": "markdown",
   "id": "708503df-ee89-4cf3-8489-093dc478e2a8",
   "metadata": {},
   "source": [
    "# === ЭТАП 3 ==="
   ]
  },
  {
   "cell_type": "markdown",
   "id": "fd77de22-e10f-4b42-85c1-8fb6f805fe68",
   "metadata": {},
   "source": [
    "# Загрузка данных"
   ]
  },
  {
   "cell_type": "markdown",
   "id": "780a4241-1ecd-4a3e-bbb3-fc2f6ca94f68",
   "metadata": {},
   "source": [
    "Если необходимо, то загружаем items.parquet, events.parquet."
   ]
  },
  {
   "cell_type": "code",
   "execution_count": null,
   "id": "f19fc8a5-bd2c-40d7-864a-ee75aca6d512",
   "metadata": {},
   "outputs": [],
   "source": []
  },
  {
   "cell_type": "code",
   "execution_count": null,
   "id": "5db1e801-5845-4ce3-86f2-c2fa30f68cc5",
   "metadata": {},
   "outputs": [],
   "source": []
  },
  {
   "cell_type": "markdown",
   "id": "a694c023-6477-490b-939d-1cfa6f5f1b72",
   "metadata": {},
   "source": [
    "# Разбиение данных"
   ]
  },
  {
   "cell_type": "markdown",
   "id": "fbd5f6e0-54e7-4428-8678-eabce505d82c",
   "metadata": {},
   "source": [
    "Разбиваем данные на тренировочную, тестовую выборки."
   ]
  },
  {
   "cell_type": "code",
   "execution_count": null,
   "id": "00c2dfa5-d8a2-47d1-922e-6eefee2c62d1",
   "metadata": {},
   "outputs": [],
   "source": []
  },
  {
   "cell_type": "code",
   "execution_count": null,
   "id": "26fe3e3c-8c5f-4437-bf13-9191adef08bb",
   "metadata": {},
   "outputs": [],
   "source": []
  },
  {
   "cell_type": "markdown",
   "id": "9131c7e6-8852-4556-b510-51f7253cc299",
   "metadata": {},
   "source": [
    "# Топ популярных"
   ]
  },
  {
   "cell_type": "markdown",
   "id": "dd70d43a-88cc-4719-b291-feaed7136f30",
   "metadata": {},
   "source": [
    "Рассчитаем рекомендации как топ популярных."
   ]
  },
  {
   "cell_type": "code",
   "execution_count": null,
   "id": "ee45e200-b7d6-4f56-9077-aad431689b96",
   "metadata": {},
   "outputs": [],
   "source": []
  },
  {
   "cell_type": "code",
   "execution_count": null,
   "id": "7690c86f-7aa9-46ed-bba5-2c837626411e",
   "metadata": {},
   "outputs": [],
   "source": []
  },
  {
   "cell_type": "markdown",
   "id": "2ad231f2-6158-421a-b7fa-01d8bc3ed572",
   "metadata": {},
   "source": [
    "# Персональные"
   ]
  },
  {
   "cell_type": "markdown",
   "id": "86159460-cd9d-4b63-8248-604ea3c9aebf",
   "metadata": {},
   "source": [
    "Рассчитаем персональные рекомендации."
   ]
  },
  {
   "cell_type": "code",
   "execution_count": null,
   "id": "d2944822-569c-4f9b-82dc-70a7fa2d542e",
   "metadata": {},
   "outputs": [],
   "source": []
  },
  {
   "cell_type": "code",
   "execution_count": null,
   "id": "1e8cdb58-3a8c-45ad-8e5f-7f950314aa56",
   "metadata": {},
   "outputs": [],
   "source": []
  },
  {
   "cell_type": "markdown",
   "id": "5f09dc7e-7c91-4355-860a-b9cfb9f33f15",
   "metadata": {},
   "source": [
    "# Похожие"
   ]
  },
  {
   "cell_type": "markdown",
   "id": "1dfcb683-b440-40a8-9975-894156a53872",
   "metadata": {},
   "source": [
    "Рассчитаем похожие, они позже пригодятся для онлайн-рекомендаций."
   ]
  },
  {
   "cell_type": "code",
   "execution_count": null,
   "id": "a75d07ee-4b12-4ce5-aa85-e45cb7a7a4f0",
   "metadata": {},
   "outputs": [],
   "source": []
  },
  {
   "cell_type": "code",
   "execution_count": null,
   "id": "ce370904-4c49-4152-8706-416074ea9b9a",
   "metadata": {},
   "outputs": [],
   "source": []
  },
  {
   "cell_type": "markdown",
   "id": "0087a3e7-ca9f-42cd-944c-944222c1baef",
   "metadata": {},
   "source": [
    "# Построение признаков"
   ]
  },
  {
   "cell_type": "markdown",
   "id": "e82a32e1-b90b-4eaf-9439-fc8deab9f34b",
   "metadata": {},
   "source": [
    "Построим три признака, можно больше, для ранжирующей модели."
   ]
  },
  {
   "cell_type": "code",
   "execution_count": null,
   "id": "05b4ae84-406a-44a4-abec-4f80f93e3004",
   "metadata": {},
   "outputs": [],
   "source": []
  },
  {
   "cell_type": "code",
   "execution_count": null,
   "id": "00f84c35-f544-4c3d-ad53-9b1d2b684c75",
   "metadata": {},
   "outputs": [],
   "source": []
  },
  {
   "cell_type": "markdown",
   "id": "47bcf88d-b236-46f0-a6f3-38ddd64895fe",
   "metadata": {},
   "source": [
    "# Ранжирование рекомендаций"
   ]
  },
  {
   "cell_type": "markdown",
   "id": "e8cd8223-3418-4493-8c87-1f76286ebda0",
   "metadata": {},
   "source": [
    "Построим ранжирующую модель, чтобы сделать рекомендации более точными. Отранжируем рекомендации."
   ]
  },
  {
   "cell_type": "code",
   "execution_count": null,
   "id": "79f1dd92-32a9-463d-827e-8bb9ee5bbb54",
   "metadata": {},
   "outputs": [],
   "source": []
  },
  {
   "cell_type": "code",
   "execution_count": null,
   "id": "6dbe4db4-1ac5-44da-a13c-8e7f9768ab73",
   "metadata": {},
   "outputs": [],
   "source": []
  },
  {
   "cell_type": "markdown",
   "id": "b3c84071-45b5-4a15-a683-e0ab034a3128",
   "metadata": {},
   "source": [
    "# Оценка качества"
   ]
  },
  {
   "cell_type": "markdown",
   "id": "1b107fe4-554e-42b1-87d9-c435a52bb77a",
   "metadata": {},
   "source": [
    "Проверим оценку качества трёх типов рекомендаций: \n",
    "\n",
    "- топ популярных,\n",
    "- персональных, полученных при помощи ALS,\n",
    "- итоговых\n",
    "  \n",
    "по четырем метрикам: recall, precision, coverage, novelty."
   ]
  },
  {
   "cell_type": "code",
   "execution_count": null,
   "id": "94d6f388-aecb-443e-8647-14014e932d4d",
   "metadata": {},
   "outputs": [],
   "source": []
  },
  {
   "cell_type": "code",
   "execution_count": null,
   "id": "26df411f-14c1-4848-8797-f37afe449cc6",
   "metadata": {},
   "outputs": [],
   "source": []
  },
  {
   "cell_type": "markdown",
   "id": "f1c8d38c-32b0-46a4-96f0-cd01dac708bc",
   "metadata": {},
   "source": [
    "# === Выводы, метрики ==="
   ]
  },
  {
   "cell_type": "markdown",
   "id": "f7d7d5d8-7d1e-4fdf-a6cd-83e5ce92c684",
   "metadata": {},
   "source": [
    "Основные выводы при работе над расчётом рекомендаций, рассчитанные метрики."
   ]
  },
  {
   "cell_type": "code",
   "execution_count": null,
   "id": "6403097d-db36-46d9-8952-613c9bd51b05",
   "metadata": {},
   "outputs": [],
   "source": []
  },
  {
   "cell_type": "code",
   "execution_count": null,
   "id": "986cfdd5-6f2e-4de6-8666-85804c87d04b",
   "metadata": {},
   "outputs": [],
   "source": []
  }
 ],
 "metadata": {
  "kernelspec": {
   "display_name": "Python 3 (ipykernel)",
   "language": "python",
   "name": "python3"
  },
  "language_info": {
   "codemirror_mode": {
    "name": "ipython",
    "version": 3
   },
   "file_extension": ".py",
   "mimetype": "text/x-python",
   "name": "python",
   "nbconvert_exporter": "python",
   "pygments_lexer": "ipython3",
   "version": "3.10.12"
  }
 },
 "nbformat": 4,
 "nbformat_minor": 5
}
